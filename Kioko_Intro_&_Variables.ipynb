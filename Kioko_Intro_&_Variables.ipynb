{
  "nbformat": 4,
  "nbformat_minor": 0,
  "metadata": {
    "colab": {
      "name": "Kioko- Intro & Variables.ipynb",
      "provenance": [],
      "include_colab_link": true
    },
    "kernelspec": {
      "name": "python3",
      "display_name": "Python 3"
    },
    "language_info": {
      "name": "python"
    }
  },
  "cells": [
    {
      "cell_type": "markdown",
      "metadata": {
        "id": "view-in-github",
        "colab_type": "text"
      },
      "source": [
        "<a href=\"https://colab.research.google.com/github/KiokoMc/Dev-Fundamentos/blob/main/Kioko_Intro_%26_Variables.ipynb\" target=\"_parent\"><img src=\"https://colab.research.google.com/assets/colab-badge.svg\" alt=\"Open In Colab\"/></a>"
      ]
    },
    {
      "cell_type": "code",
      "execution_count": null,
      "metadata": {
        "id": "pj_bHntuVCKz"
      },
      "outputs": [],
      "source": [
        "variable = \"Hola mundo Kioks\""
      ]
    },
    {
      "cell_type": "code",
      "source": [
        "print (variable)"
      ],
      "metadata": {
        "colab": {
          "base_uri": "https://localhost:8080/"
        },
        "id": "FyYtpOAC3bMM",
        "outputId": "f784856f-ba5c-4ad0-cbdd-e8e62e675f4a"
      },
      "execution_count": null,
      "outputs": [
        {
          "output_type": "stream",
          "name": "stdout",
          "text": [
            "Hola mundo Kioks\n"
          ]
        }
      ]
    },
    {
      "cell_type": "code",
      "source": [
        "numero = 123"
      ],
      "metadata": {
        "id": "_0TxEJg-4YLD"
      },
      "execution_count": null,
      "outputs": []
    },
    {
      "cell_type": "code",
      "source": [
        "numero_decimal = 10.1"
      ],
      "metadata": {
        "id": "uvhtG3Wd5WlQ"
      },
      "execution_count": null,
      "outputs": []
    },
    {
      "cell_type": "code",
      "source": [
        "print (numero)"
      ],
      "metadata": {
        "colab": {
          "base_uri": "https://localhost:8080/"
        },
        "id": "VrCx4lwP5XHS",
        "outputId": "e864c3b8-180a-4c5b-9c21-45b789c38df2"
      },
      "execution_count": null,
      "outputs": [
        {
          "output_type": "stream",
          "name": "stdout",
          "text": [
            "123\n"
          ]
        }
      ]
    },
    {
      "cell_type": "code",
      "source": [
        "print (numero_decimal)"
      ],
      "metadata": {
        "colab": {
          "base_uri": "https://localhost:8080/"
        },
        "id": "KL_YCV7Y5z1N",
        "outputId": "a7809c95-bd91-4b29-d736-5e329d427057"
      },
      "execution_count": null,
      "outputs": [
        {
          "output_type": "stream",
          "name": "stdout",
          "text": [
            "10.1\n"
          ]
        }
      ]
    },
    {
      "cell_type": "code",
      "source": [
        "otra_variable = \"otro valor\""
      ],
      "metadata": {
        "id": "7_75U9oG6k8x"
      },
      "execution_count": null,
      "outputs": []
    },
    {
      "cell_type": "code",
      "source": [
        "SALUDO = \"Holis!\""
      ],
      "metadata": {
        "id": "EFxmEjMl6nD0"
      },
      "execution_count": null,
      "outputs": []
    },
    {
      "cell_type": "code",
      "source": [
        "type(numero)"
      ],
      "metadata": {
        "colab": {
          "base_uri": "https://localhost:8080/"
        },
        "id": "bn3JXTwFAhaB",
        "outputId": "9fc4a931-bc88-44c9-f13f-24704a84043a"
      },
      "execution_count": null,
      "outputs": [
        {
          "output_type": "execute_result",
          "data": {
            "text/plain": [
              "int"
            ]
          },
          "metadata": {},
          "execution_count": 50
        }
      ]
    },
    {
      "cell_type": "code",
      "source": [
        "type(numero_decimal)"
      ],
      "metadata": {
        "colab": {
          "base_uri": "https://localhost:8080/"
        },
        "id": "akS8iCTWAqta",
        "outputId": "9f684122-6864-470d-b4c8-5c93e50ce7cb"
      },
      "execution_count": null,
      "outputs": [
        {
          "output_type": "execute_result",
          "data": {
            "text/plain": [
              "float"
            ]
          },
          "metadata": {},
          "execution_count": 51
        }
      ]
    },
    {
      "cell_type": "code",
      "source": [
        "type(otra_variable)"
      ],
      "metadata": {
        "colab": {
          "base_uri": "https://localhost:8080/"
        },
        "id": "7Il4pqCsAtKP",
        "outputId": "afc6a1a8-083f-4a5d-a860-beb5cab8543a"
      },
      "execution_count": null,
      "outputs": [
        {
          "output_type": "execute_result",
          "data": {
            "text/plain": [
              "str"
            ]
          },
          "metadata": {},
          "execution_count": 52
        }
      ]
    },
    {
      "cell_type": "code",
      "source": [
        "print (SALUDO)"
      ],
      "metadata": {
        "colab": {
          "base_uri": "https://localhost:8080/"
        },
        "id": "C4pbIqGh8M3Q",
        "outputId": "6b65ba63-6001-46a8-ae25-6611a44f2c09"
      },
      "execution_count": null,
      "outputs": [
        {
          "output_type": "stream",
          "name": "stdout",
          "text": [
            "Holis!\n"
          ]
        }
      ]
    },
    {
      "cell_type": "code",
      "source": [
        "SALUDO = \"Kusbais\""
      ],
      "metadata": {
        "id": "VnHQ3sy_8Ppb"
      },
      "execution_count": null,
      "outputs": []
    },
    {
      "cell_type": "code",
      "source": [
        "si = True\n",
        "no = False\n",
        "\n",
        "#simon = True\n",
        "Nel = False\n",
        "\n",
        "true = True\n",
        "simon = true\n",
        "print(simon)\n",
        "print (Nel, otra_variable, numero)"
      ],
      "metadata": {
        "colab": {
          "base_uri": "https://localhost:8080/"
        },
        "id": "1rDs_jJAAv3F",
        "outputId": "f77ee301-2489-4c93-8d8a-26a37a26c939"
      },
      "execution_count": null,
      "outputs": [
        {
          "output_type": "stream",
          "name": "stdout",
          "text": [
            "True\n",
            "False otro valor 123\n"
          ]
        }
      ]
    },
    {
      "cell_type": "code",
      "source": [
        "type (simon)"
      ],
      "metadata": {
        "colab": {
          "base_uri": "https://localhost:8080/"
        },
        "id": "VsAPVP4P8VP8",
        "outputId": "a958d9f5-80a6-4d77-e16d-73a5b1549feb"
      },
      "execution_count": null,
      "outputs": [
        {
          "output_type": "execute_result",
          "data": {
            "text/plain": [
              "bool"
            ]
          },
          "metadata": {},
          "execution_count": 56
        }
      ]
    },
    {
      "cell_type": "code",
      "source": [
        "print(\"Valores de variables booleanas {} {} {}:\".format(nombre,peso,Nel))"
      ],
      "metadata": {
        "id": "XsBdrHk_Eebw",
        "colab": {
          "base_uri": "https://localhost:8080/"
        },
        "outputId": "cc225312-c71e-4ac3-e1ca-0e3bdb31327f"
      },
      "execution_count": null,
      "outputs": [
        {
          "output_type": "stream",
          "name": "stdout",
          "text": [
            "Valores de variables booleanas Kioko Martínez 58 False:\n"
          ]
        }
      ]
    },
    {
      "cell_type": "code",
      "source": [
        "print(f\"Me llamo {nombre}\")"
      ],
      "metadata": {
        "id": "SCDUXlcPEhCc",
        "colab": {
          "base_uri": "https://localhost:8080/"
        },
        "outputId": "73d9841a-8505-44b5-e6cd-858b27a2453d"
      },
      "execution_count": null,
      "outputs": [
        {
          "output_type": "stream",
          "name": "stdout",
          "text": [
            "Me llamo Kioko Martínez\n"
          ]
        }
      ]
    },
    {
      "cell_type": "code",
      "source": [
        "nombre = \"Kioko Martínez\"\n",
        "edad = 27\n",
        "peso = 58\n",
        "altura = 159\n",
        "tipo_sangre = \"O+\"\n",
        "fracturas = 0\n",
        "ciudad = \"Cuautitlán Izcalli\"\n",
        "pais = \"México\"\n",
        "hobby = \"Ver películas en Netflix\"\n",
        "aventurera = False"
      ],
      "metadata": {
        "id": "4Ee9K8z-6rlT"
      },
      "execution_count": null,
      "outputs": []
    },
    {
      "cell_type": "code",
      "source": [
        "print (\"Mi nombre es\",nombre,\"tengo\",edad,\"años, mido\",altura,\"cm y peso\",peso,\"kg\")"
      ],
      "metadata": {
        "id": "w-FncZEIBpwv",
        "colab": {
          "base_uri": "https://localhost:8080/"
        },
        "outputId": "c6f23e24-6352-4ca2-d32d-73ab4e071868"
      },
      "execution_count": null,
      "outputs": [
        {
          "output_type": "stream",
          "name": "stdout",
          "text": [
            "Mi nombre es Kioko Martínez tengo 27 años, mido 159 cm y peso 58 kg\n"
          ]
        }
      ]
    }
  ]
}