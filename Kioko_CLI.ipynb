{
  "nbformat": 4,
  "nbformat_minor": 0,
  "metadata": {
    "colab": {
      "provenance": [],
      "collapsed_sections": [],
      "toc_visible": true,
      "include_colab_link": true
    },
    "kernelspec": {
      "name": "python3",
      "display_name": "Python 3"
    }
  },
  "cells": [
    {
      "cell_type": "markdown",
      "metadata": {
        "id": "view-in-github",
        "colab_type": "text"
      },
      "source": [
        "<a href=\"https://colab.research.google.com/github/KiokoMc/Dev-DataScience/blob/main/Kioko_CLI.ipynb\" target=\"_parent\"><img src=\"https://colab.research.google.com/assets/colab-badge.svg\" alt=\"Open In Colab\"/></a>"
      ]
    },
    {
      "cell_type": "markdown",
      "metadata": {
        "id": "Hi4TE5UoG5A2"
      },
      "source": [
        "# Intro\n",
        "\n",
        "\n",
        "\n"
      ]
    },
    {
      "cell_type": "markdown",
      "metadata": {
        "id": "fY3bid0Bx-YS"
      },
      "source": [
        "En el día a día de un científico de datos en ocasiones se requiere el uso de linux y la línea de comandos o consola para diferentes tareas. Es la principal manera de comunicarnos con el sistema operativo y pedir por el estado de diferentes cosas: uso de memoria, espacio disponible, conexiones, buscar archivos, etc. \n",
        "\n",
        "También nos es muy útil para hacer ciertas tareas en ciencia de datos: obtener datos mediante consultas a páginas por petición directa o por medio de APIs. \n",
        "\n",
        "Un __comando__ es una instrucción de texto que se le da a la computadora via la terminal. Pueden tener opciones o modificadores y argumentos. El __shell__ es un tipo de programa que interpreta y ejecuta comandos de texto. Existen varios como _bash_, _csh_, _tcsh_, _zsh_. En particular trabajamos con _bash_.\n",
        "\n",
        "La estructura básica de los comandos al meterle opciones es:\n",
        "```console\n",
        "command parametro1 parametro2 parametro3\n",
        "```\n",
        "o también \n",
        "\n",
        "```console\n",
        "command <options> arguments\n",
        "```\n",
        "\n",
        "Para instalar en Windows 10 un subsistema linux, puedes seguir los pasos [aquí](https://docs.microsoft.com/en-us/windows/wsl/install-win10). O igual se puede crear un script en [repl.it](https://replit.com/).\n",
        "\n"
      ]
    },
    {
      "cell_type": "markdown",
      "metadata": {
        "id": "G9E0x5-TOwCj"
      },
      "source": [
        "NOTA: es posible ejecutar bash desde una libreta de jupyter anteponiendo un signo de admiración a los comandos, por ejemplo `!ls` nos ejecuta el comando listar contenido del directorio. Los comentarios dentro del código se inician con un \"#\" y nos permiten explicar detalles del comando."
      ]
    },
    {
      "cell_type": "code",
      "metadata": {
        "id": "juwtzYV_J7ar",
        "colab": {
          "base_uri": "https://localhost:8080/"
        },
        "outputId": "56d80a7c-fa01-4154-e879-f65727a10999"
      },
      "source": [
        "# Esto me trae el contenido del working directory\n",
        "!ls"
      ],
      "execution_count": 35,
      "outputs": [
        {
          "output_type": "stream",
          "name": "stdout",
          "text": [
            " file2.txt   filewc.txt   sample_data   stopwords  'test 1'\n",
            " file.txt    nums.txt\t  sort.txt      test\n"
          ]
        }
      ]
    },
    {
      "cell_type": "markdown",
      "metadata": {
        "id": "4H0uND_l5LAs"
      },
      "source": [
        "# Sistema de archivos"
      ]
    },
    {
      "cell_type": "markdown",
      "metadata": {
        "id": "371rIhOcOESJ"
      },
      "source": [
        "Podemos hacer operaciones con los directorios y archivos tales como crear, movernos a un directorio, enlistar el contenido, borrar archivos y sub-directorios.\n",
        "\n",
        "## Comandos básicos\n",
        "|Comando                          |Descripción                         |\n",
        "|-------------------------------|-----------------------------|\n",
        "|`pwd`           | Se usa para obtener la dirección del directorio donde estamos            |\n",
        "|`hostame`       |El nombre de la computadora que estamos usando         |\n",
        "|`mkdir test`         | Se usa para crear un directorio, en este caso \"test\"\n",
        "| `rmdir dirname` | Se elimina una carpeta vacía, si tiene archivos dentro, marca error\n",
        "| `rm -rf dirname` | elimina una carpeta forzando la eliminación del contenido\n",
        "|`cd test`| se usa para entrar a un directorio, en este caso test\n",
        "|`cd ..`| se usa para regresar al directorio que contiene al actual\n",
        "|`ls` | Para enlistar los archivos en el directorio actual\n",
        "|`ls -a`| Enlista archivos ocultos\n",
        "|`ls -la`| Formato extenso donde se ven permisos para leer, escribir y ejecutar \n",
        "|`./filename`| Se usa para ejecutar un archivo.\n",
        "|`mv filename foldername/.`| Se usa para mover un archivo a un directorio\n",
        "|`# texto`| Para poner comentarios después de comandos sin afectar la ejecución de los comandos\n",
        "| `history` | nos permite ver el historial de todos los comandos ejecutados, funciona en la terminal \n",
        "| `echo \"texto\"` | despliega en pantalla un texto, es como un print"
      ]
    },
    {
      "cell_type": "code",
      "metadata": {
        "colab": {
          "base_uri": "https://localhost:8080/"
        },
        "id": "MOHiPypQOC9g",
        "outputId": "98fc87a4-a71e-44c8-d2b8-ab2ee0e2dcd5"
      },
      "source": [
        "# echo es como un print, despliega texto en pantalla\n",
        "\n",
        "!echo \"hola mundo mio\"  "
      ],
      "execution_count": 2,
      "outputs": [
        {
          "output_type": "stream",
          "name": "stdout",
          "text": [
            "hola mundo mio\n"
          ]
        }
      ]
    },
    {
      "cell_type": "code",
      "metadata": {
        "id": "n-XMZH3wyoiK",
        "colab": {
          "base_uri": "https://localhost:8080/"
        },
        "outputId": "485a6c62-fa42-4a03-b161-05d8faaa30a4"
      },
      "source": [
        "!mkdir test # crea un directorio llamado test, si se ejecuta por 2da vez puede marcar error porque ya existe el dir\n",
        "!mkdir \"test 1\""
      ],
      "execution_count": 33,
      "outputs": [
        {
          "output_type": "stream",
          "name": "stdout",
          "text": [
            "mkdir: cannot create directory ‘test’: File exists\n",
            "mkdir: cannot create directory ‘test 1’: File exists\n"
          ]
        }
      ]
    },
    {
      "cell_type": "code",
      "metadata": {
        "id": "OshpdgjHalEc"
      },
      "source": [
        "!cd /content/test\n"
      ],
      "execution_count": 37,
      "outputs": []
    },
    {
      "cell_type": "code",
      "metadata": {
        "id": "D_43myvSXAD_"
      },
      "source": [
        "!touch file.txt\n",
        "!touch file2.txt"
      ],
      "execution_count": 39,
      "outputs": []
    },
    {
      "cell_type": "code",
      "metadata": {
        "colab": {
          "base_uri": "https://localhost:8080/"
        },
        "id": "yCu45kJnP03p",
        "outputId": "e2057b88-2adc-4d71-fa20-94c16944a96e"
      },
      "source": [
        "!ls    # Listar el contenido de la carpeta actual\n",
        "\n",
        "# los wildcards * nos permiten localizar archivos que cumplan cierto patrón.\n",
        "\n",
        "!ls *.txt # listar todos los archivos que tienen extensión txt"
      ],
      "execution_count": 6,
      "outputs": [
        {
          "output_type": "stream",
          "name": "stdout",
          "text": [
            " file2.txt   file.txt   sample_data   test  'test 1'\n",
            "file2.txt  file.txt\n"
          ]
        }
      ]
    },
    {
      "cell_type": "markdown",
      "metadata": {
        "id": "FNFJXiUU5Fmb"
      },
      "source": [
        "# Inspección de archivos y procesamiento de texto"
      ]
    },
    {
      "cell_type": "markdown",
      "metadata": {
        "id": "T0q_fEY6WQOK"
      },
      "source": [
        "### Edición y procesamiento de archivos de texto\n",
        "|Comando                          |Descripción                         |\n",
        "|-------------------------------|-----------------------------|\n",
        "|`nano file.sh`| Se usa para crear un archivo de texto llamado \"file.sh\" desde la línea de comandos.\n",
        "|`cat filename`| conCATenate se usa para desplegar el contenido de texto de algún archivo. \n",
        "| `tac filename` | Despliega el contenido de un archivo en orden inverso.\n",
        "| `head filename` | Despliega las primeras líneas de texto de un archivo, 10 por default.\n",
        "| `head -n 40 filename` | Despliega las primeras `n=40` líneas de texto de un archivo.\n",
        "| `tail filename` | Despliega las últimas líneas de texto de un archivo, 10 por default.\n",
        "| `tail -n 30 filename` | Despliega las últimas `n=30` líneas de texto de un archivo.\n",
        "| `wc filename` | muestra el número de líneas, palabras y bytes de un archivo con texto.\n",
        "| `seq 20` | despliega en pantalla los números del 1 al 20 (puede ser cualquier núm).\n",
        "| `shuf -i 1-1000 -n 5` | genera 5 números aleatorios entre 1 y 1000\n",
        "\n",
        "\n",
        "\n"
      ]
    },
    {
      "cell_type": "code",
      "metadata": {
        "id": "Flu2ua3gX6XX"
      },
      "source": [
        "!echo \"Hola mundo\" > test/file.txt"
      ],
      "execution_count": 7,
      "outputs": []
    },
    {
      "cell_type": "code",
      "metadata": {
        "colab": {
          "base_uri": "https://localhost:8080/"
        },
        "id": "dRuFuyo1ykDs",
        "outputId": "1432d2f8-5163-44ab-e065-1c297e493af6"
      },
      "source": [
        "!pwd #muestra la dirección actual de la carpeta\n",
        "!ls test #muestra el contenido de la subcarpeta test\n",
        "!cat test/file.txt  # despliega el contenido de file.txt"
      ],
      "execution_count": 8,
      "outputs": [
        {
          "output_type": "stream",
          "name": "stdout",
          "text": [
            "/content\n",
            "file.txt\n",
            "Hola mundo\n"
          ]
        }
      ]
    },
    {
      "cell_type": "code",
      "metadata": {
        "id": "cc7f0bNj0D3Q",
        "colab": {
          "base_uri": "https://localhost:8080/"
        },
        "outputId": "b333fcc7-d0f3-4f39-ac0a-c609eae6cbbe"
      },
      "source": [
        "!seq 20"
      ],
      "execution_count": 9,
      "outputs": [
        {
          "output_type": "stream",
          "name": "stdout",
          "text": [
            "1\n",
            "2\n",
            "3\n",
            "4\n",
            "5\n",
            "6\n",
            "7\n",
            "8\n",
            "9\n",
            "10\n",
            "11\n",
            "12\n",
            "13\n",
            "14\n",
            "15\n",
            "16\n",
            "17\n",
            "18\n",
            "19\n",
            "20\n"
          ]
        }
      ]
    },
    {
      "cell_type": "code",
      "metadata": {
        "id": "k90q8I-Z0Bpf",
        "colab": {
          "base_uri": "https://localhost:8080/"
        },
        "outputId": "2d65f797-9453-4a18-8114-0a7ee2526cfa"
      },
      "source": [
        "!shuf -i 1-100000 -n 10"
      ],
      "execution_count": 10,
      "outputs": [
        {
          "output_type": "stream",
          "name": "stdout",
          "text": [
            "56856\n",
            "49242\n",
            "12231\n",
            "155\n",
            "77437\n",
            "71154\n",
            "37084\n",
            "33569\n",
            "35650\n",
            "65948\n"
          ]
        }
      ]
    },
    {
      "cell_type": "markdown",
      "metadata": {
        "id": "UKvM0PeN5Kc8"
      },
      "source": [
        "# Redireccionamiento y pipelines"
      ]
    },
    {
      "cell_type": "markdown",
      "metadata": {
        "id": "1afu8mAsOtr5"
      },
      "source": [
        "Es posible crear archivos como resultado de ejecutar comandos mediante los redireccionadores `>` y `>>`. \n",
        "Al ejecutar por ejemplo\n",
        "\n",
        "```console\n",
        "echo \"hola\" > filetext.txt\n",
        "```\n",
        "se va a crear un archivo \"filetext\" y si ya existía, se sobreescribe.\n",
        "\n",
        "Si queremos agregar texto al final de un archivo que ya exista, se usa el doble `>>`.\n",
        "\n",
        "```console\n",
        "echo \"linea 2\" >> filetext.txt\n",
        "```\n",
        "el comando anterior le agrega a \"filetext.txt\" una línea.\n",
        "\n",
        "con un `cat filetext.txt` se puede ver que el archivo ya tiene ambas líneas.\n"
      ]
    },
    {
      "cell_type": "code",
      "metadata": {
        "id": "2aee6llkjUAD"
      },
      "source": [
        "!seq 30 > nums.txt  # crea un archivo llamado nums con 30 líneas, c/u con los números del 1 al 30"
      ],
      "execution_count": 42,
      "outputs": []
    },
    {
      "cell_type": "code",
      "metadata": {
        "id": "cNudkm8EOtBg"
      },
      "source": [
        "!echo \"hola mundo\" >> nums.txt   # en vez de imprimir en pantalla \"hola mundo\", escribe en file1.txt "
      ],
      "execution_count": 44,
      "outputs": []
    },
    {
      "cell_type": "code",
      "metadata": {
        "colab": {
          "base_uri": "https://localhost:8080/"
        },
        "id": "PwQqCZ_hYmQ0",
        "outputId": "b891efa9-ea6a-40e1-8e09-961521206f4e"
      },
      "source": [
        "!tail -n 2 nums.txt"
      ],
      "execution_count": 45,
      "outputs": [
        {
          "output_type": "stream",
          "name": "stdout",
          "text": [
            "30\n",
            "hola mundo\n"
          ]
        }
      ]
    },
    {
      "cell_type": "code",
      "metadata": {
        "id": "FFfh1I-jYl4m"
      },
      "source": [],
      "execution_count": 13,
      "outputs": []
    },
    {
      "cell_type": "markdown",
      "metadata": {
        "id": "-jn0PFZRYk_A"
      },
      "source": [
        "Los pipes `|` nos sirven para redireccionar la salida de un comando `cmd1` y que sea entrada de otro comando `cmd2`\n",
        "\n",
        "```console\n",
        "cmd1 | cmd2\n",
        "```\n",
        "por ejemplo el siguiente comando va a ejecutar desplegar en pantalla y contar palabras en una sola línea.\n",
        "\n",
        "```console\n",
        "cat file.txt | wc \n",
        "```\n",
        "\n",
        "Se pueden encadenar varios comandos por ejemplo después del `cat` se puede pedir que solo despliegue el encabezado con `head`.\n",
        "\n",
        "```console\n",
        "cat file.txt | head -n 20 | wc\n",
        "```\n"
      ]
    },
    {
      "cell_type": "code",
      "metadata": {
        "colab": {
          "base_uri": "https://localhost:8080/"
        },
        "id": "UnRGtUxHZDMP",
        "outputId": "6f21a689-8447-4d9f-9da4-36b9d25aa679"
      },
      "source": [
        "!cat nums.txt"
      ],
      "execution_count": 14,
      "outputs": [
        {
          "output_type": "stream",
          "name": "stdout",
          "text": [
            "1\n",
            "2\n",
            "3\n",
            "4\n",
            "5\n",
            "6\n",
            "7\n",
            "8\n",
            "9\n",
            "10\n",
            "11\n",
            "12\n",
            "13\n",
            "14\n",
            "15\n",
            "16\n",
            "17\n",
            "18\n",
            "19\n",
            "20\n",
            "21\n",
            "22\n",
            "23\n",
            "24\n",
            "25\n",
            "26\n",
            "27\n",
            "28\n",
            "29\n",
            "30\n",
            "hola mundo\n"
          ]
        }
      ]
    },
    {
      "cell_type": "code",
      "metadata": {
        "colab": {
          "base_uri": "https://localhost:8080/"
        },
        "id": "LvKsMMy6e3O4",
        "outputId": "6284d6f9-bdfc-41fe-b9e7-e6b6bfb19465"
      },
      "source": [
        "!cat nums.txt | head -n 15 | wc"
      ],
      "execution_count": 15,
      "outputs": [
        {
          "output_type": "stream",
          "name": "stdout",
          "text": [
            "     15      15      36\n"
          ]
        }
      ]
    },
    {
      "cell_type": "code",
      "metadata": {
        "id": "ZiXbc-w0zYqH"
      },
      "source": [
        "# se puede combinar el uso de pipes y después escribir a un archivo\n",
        "\n",
        "!cat nums.txt | head -n 15 | wc > filewc.txt"
      ],
      "execution_count": 16,
      "outputs": []
    },
    {
      "cell_type": "code",
      "metadata": {
        "colab": {
          "base_uri": "https://localhost:8080/"
        },
        "id": "E5dYR93e1lHx",
        "outputId": "ac952f0c-a86d-4a06-e5b1-35d4ddf9438c"
      },
      "source": [
        "# otro ejemplo para combinar comandos: generamos una lista aleatoria y la ordenamos\n",
        "# el comando sort ordena las líneas, con el modificador \"-n\" se especifica orden numérico.\n",
        "\n",
        "!shuf -i 1-100000 -n 10 |sort -n"
      ],
      "execution_count": 17,
      "outputs": [
        {
          "output_type": "stream",
          "name": "stdout",
          "text": [
            "5742\n",
            "20659\n",
            "26299\n",
            "30481\n",
            "43752\n",
            "63935\n",
            "66325\n",
            "69462\n",
            "91998\n",
            "99293\n"
          ]
        }
      ]
    },
    {
      "cell_type": "markdown",
      "metadata": {
        "id": "PGEeQAAo0dYN"
      },
      "source": [
        "El shell permite definir y usar variables, para declararlas no se debe usar espacios y su valor debe estar entre comillas:\n",
        "\n",
        "```console\n",
        "var1=\"www.google.com\"\n",
        "text1=\"hi\"\n",
        "```\n",
        "\n",
        "Para llamarla se antepone el símbolo `$` al nombre y preferentemente se escribe el nombre entre llaves.\n",
        "\n",
        "```console\n",
        "echo ${var1}\n",
        "```\n"
      ]
    },
    {
      "cell_type": "code",
      "metadata": {
        "id": "i_ooydDaK7uc"
      },
      "source": [
        "var = 3 "
      ],
      "execution_count": 18,
      "outputs": []
    },
    {
      "cell_type": "code",
      "metadata": {
        "colab": {
          "base_uri": "https://localhost:8080/"
        },
        "id": "5euNflIyLAW-",
        "outputId": "5fe3d47e-de84-4a35-d0bd-b6e6db81c45f"
      },
      "source": [
        "var"
      ],
      "execution_count": 19,
      "outputs": [
        {
          "output_type": "execute_result",
          "data": {
            "text/plain": [
              "3"
            ]
          },
          "metadata": {},
          "execution_count": 19
        }
      ]
    },
    {
      "cell_type": "code",
      "metadata": {
        "colab": {
          "base_uri": "https://localhost:8080/"
        },
        "id": "5WrgNpMU1aQc",
        "outputId": "20f49cca-e3dd-43ca-a4d9-35dd8ed111d1"
      },
      "source": [
        "# el \";\" nos permite escribir dos comandos del shell en una misma línea\n",
        "\n",
        "!var1=\"www.amazon.com\"; echo $var1;\n"
      ],
      "execution_count": 20,
      "outputs": [
        {
          "output_type": "stream",
          "name": "stdout",
          "text": [
            "www.amazon.com\n"
          ]
        }
      ]
    },
    {
      "cell_type": "code",
      "metadata": {
        "id": "t7SqEkhk4THs"
      },
      "source": [
        "#declaramos un min y un max, generamos 10 nums aleatorios y los guardamos en un archivo sort.txt\n",
        "\n",
        "!nmin=500; nmax=1000; shuf -i ${nmin}-${nmax} -n 10 | sort -n > sort.txt"
      ],
      "execution_count": 21,
      "outputs": []
    },
    {
      "cell_type": "code",
      "metadata": {
        "colab": {
          "base_uri": "https://localhost:8080/"
        },
        "id": "SU6f7C3daXzl",
        "outputId": "d8ede5bc-d377-4d00-8e78-8e7a44f6bdac"
      },
      "source": [
        "cat sort.txt"
      ],
      "execution_count": 22,
      "outputs": [
        {
          "output_type": "stream",
          "name": "stdout",
          "text": [
            "542\n",
            "602\n",
            "757\n",
            "766\n",
            "802\n",
            "815\n",
            "896\n",
            "905\n",
            "942\n",
            "992\n"
          ]
        }
      ]
    },
    {
      "cell_type": "markdown",
      "metadata": {
        "id": "_xpWN_Okpzo7"
      },
      "source": [
        "## Comandos para edición de variables de texto\n",
        "\n",
        "El comando `echo` junto con otros comandos como cut, grep, awk nos permite editar texto. \n",
        "\n",
        "algunas referencias para awk son el libro [sed & awk](https://www.oreilly.com/library/view/sed-awk/1565922255/), [1](https://likegeeks.com/es/comando-awk/) y \n",
        "\n",
        "---\n",
        "\n",
        "[2](https://www.cyberciti.biz/faq/bash-scripting-using-awk/)\n",
        "\n",
        "\n",
        "|Comando                          |Descripción                         |\n",
        "|-------------------------------|-----------------------------|\n",
        "| `awk '{ print }' filename` | imprime el texto, como `cat filename`\n",
        "| `awk '{ print $0 }' filename` | equivalente al comando anterior\n",
        "| `awk -F':' '{ print $1 }' filename` | despliega la primera columna separada por \":\"\n",
        "| `awk -F':' '{ print $1 }' filename \\| sort ` | el resultado anterior lo ordena\n",
        " \n",
        "El siguiente comando compuesto nos da la lista de los 10 comandos más usados.\n",
        "\n",
        "```console\n",
        "history | awk '{print $2}' | sort | uniq -c | sort -rn | head \n",
        "```\n",
        "\n",
        "\n",
        "El comando `cut -d \"delimiter\" -f (field number) file.txt` nos permite cortar una línea en pedazos y podemos ir usando solo ciertos campos. \n",
        "\n",
        "```console\n",
        "cut -d \" \" -f 1-4 state.txt\n",
        "```"
      ]
    },
    {
      "cell_type": "code",
      "metadata": {
        "id": "8Ph2VQq3pQME",
        "colab": {
          "base_uri": "https://localhost:8080/"
        },
        "outputId": "f58004e9-d039-4be6-c4fb-f6aac4d6ced3"
      },
      "source": [
        "!echo \"this has four fields\" | cut -d \" \" -f 2,4"
      ],
      "execution_count": 23,
      "outputs": [
        {
          "output_type": "stream",
          "name": "stdout",
          "text": [
            "has fields\n"
          ]
        }
      ]
    },
    {
      "cell_type": "markdown",
      "metadata": {
        "id": "ghJKZGFRJVNk"
      },
      "source": [
        "El comando `grep [OPTIONS] \"pattern\" filename` nos permite encontrar lineas que cumplan cierto patrón."
      ]
    },
    {
      "cell_type": "code",
      "metadata": {
        "colab": {
          "base_uri": "https://localhost:8080/"
        },
        "id": "ITvq7gw4JTX7",
        "outputId": "ce50842e-bee5-49fd-bce9-6946ab225764"
      },
      "source": [
        "!cat sample_data/README.md"
      ],
      "execution_count": 24,
      "outputs": [
        {
          "output_type": "stream",
          "name": "stdout",
          "text": [
            "This directory includes a few sample datasets to get you started.\n",
            "\n",
            "*   `california_housing_data*.csv` is California housing data from the 1990 US\n",
            "    Census; more information is available at:\n",
            "    https://developers.google.com/machine-learning/crash-course/california-housing-data-description\n",
            "\n",
            "*   `mnist_*.csv` is a small sample of the\n",
            "    [MNIST database](https://en.wikipedia.org/wiki/MNIST_database), which is\n",
            "    described at: http://yann.lecun.com/exdb/mnist/\n",
            "\n",
            "*   `anscombe.json` contains a copy of\n",
            "    [Anscombe's quartet](https://en.wikipedia.org/wiki/Anscombe%27s_quartet); it\n",
            "    was originally described in\n",
            "\n",
            "    Anscombe, F. J. (1973). 'Graphs in Statistical Analysis'. American\n",
            "    Statistician. 27 (1): 17-21. JSTOR 2682899.\n",
            "\n",
            "    and our copy was prepared by the\n",
            "    [vega_datasets library](https://github.com/altair-viz/vega_datasets/blob/4f67bdaad10f45e3549984e17e1b3088c731503d/vega_datasets/_data/anscombe.json).\n"
          ]
        }
      ]
    },
    {
      "cell_type": "code",
      "metadata": {
        "colab": {
          "base_uri": "https://localhost:8080/"
        },
        "id": "jWh9auQrKPjR",
        "outputId": "b2e9d2ce-a50e-4038-bf88-fe5ce7278e7d"
      },
      "source": [
        "!grep \"https\" -v sample_data/README.md # si se pone -v, invierte la selección"
      ],
      "execution_count": 25,
      "outputs": [
        {
          "output_type": "stream",
          "name": "stdout",
          "text": [
            "This directory includes a few sample datasets to get you started.\n",
            "\n",
            "*   `california_housing_data*.csv` is California housing data from the 1990 US\n",
            "    Census; more information is available at:\n",
            "\n",
            "*   `mnist_*.csv` is a small sample of the\n",
            "    described at: http://yann.lecun.com/exdb/mnist/\n",
            "\n",
            "*   `anscombe.json` contains a copy of\n",
            "    was originally described in\n",
            "\n",
            "    Anscombe, F. J. (1973). 'Graphs in Statistical Analysis'. American\n",
            "    Statistician. 27 (1): 17-21. JSTOR 2682899.\n",
            "\n",
            "    and our copy was prepared by the\n"
          ]
        }
      ]
    },
    {
      "cell_type": "markdown",
      "metadata": {
        "id": "mcyPwn0gxA3g"
      },
      "source": [
        "# Trabajando con XML/HTML, json y APIs"
      ]
    },
    {
      "cell_type": "markdown",
      "metadata": {
        "id": "sJbFzX4InKq_"
      },
      "source": [
        "### Comandos `curl` y `wget`\n",
        "\n",
        "Client URL o `curl` es un comando disponible en la gran mayoría de los sistemas linux para verificar conectividad y transferir datos. Su sintaxis básica es `curl [opciones] [URL]`. Existen muchísimas variantes dependiendo de la tarea más específica que se requiera. Algunos ejemplos:\n",
        "\n",
        "|Comando                          |Descripción                         |\n",
        "|-------------------------------|-----------------------------|\n",
        "| `curl \"https://en.wikipedia.org/wiki/List_of_windmills_in_the_Netherlands\" ` | descarga el doc y despliega en pantalla\n",
        "| `curl -s \"https://en.wikipedia.org/wiki/List_of_windmills_in_Friesland\" -O ` | lo guarda con el mismo nombre del servidor\n",
        "| `curl -s \"https://en.wikipedia.org/wiki/List_of_windmills_in_Friesland\" -o file.html ` | lo guarda con el nombre file.html\n",
        "| `curl -s \"https://en.wikipedia.org/wiki/List_of_windmills_in_Friesland\" > friesland.html ` | guarda el archivo como friesland.html\n",
        "\n",
        "Hay incluso libros solo de [curl](https://everything.curl.dev/how-to-read).\n",
        "Se puede almacenar la URL en una variable y con eso se facilita escribir código\n",
        "\n",
        "```console\n",
        "url1=\"https://en.wikipedia.org/wiki/List_of_windmills_in_Friesland\"\n",
        "curl ${url1}    # es equivalente al primer comando de la tabla anterior\n",
        "```"
      ]
    },
    {
      "cell_type": "markdown",
      "metadata": {
        "id": "xtmv7hfsY8YX"
      },
      "source": [
        "El comando wget se pude utilizar para obtener el contenido de una página web con el formato\n",
        "\n",
        "```console\n",
        "wget ${url1}\n",
        "```\n",
        "También se puede combinar con otros comandos en pipelines:\n",
        "\n",
        "```console\n",
        "$  echo \"http://www.bbc.com\" |\n",
        "   wget -O- -i- | \n",
        "   hxnormalize -x | \n",
        "   hxselect -i \"div.most_popular_content\" |  \n",
        "   lynx -stdin -dump > theMostPoupularInNews\n",
        "```"
      ]
    },
    {
      "cell_type": "code",
      "metadata": {
        "colab": {
          "base_uri": "https://localhost:8080/"
        },
        "id": "XDtlhFKGKejf",
        "outputId": "af838f8b-428d-43ef-d823-f9f624da1d08"
      },
      "source": [
        "!wget https://xpo6.com/wp-content/uploads/2015/01/stop-word-list.txt -O stopwords"
      ],
      "execution_count": 26,
      "outputs": [
        {
          "output_type": "stream",
          "name": "stdout",
          "text": [
            "--2022-09-30 00:54:14--  https://xpo6.com/wp-content/uploads/2015/01/stop-word-list.txt\n",
            "Resolving xpo6.com (xpo6.com)... 172.67.170.216, 104.21.28.138, 2606:4700:3034::6815:1c8a, ...\n",
            "Connecting to xpo6.com (xpo6.com)|172.67.170.216|:443... connected.\n",
            "HTTP request sent, awaiting response... 403 Forbidden\n",
            "2022-09-30 00:54:14 ERROR 403: Forbidden.\n",
            "\n"
          ]
        }
      ]
    },
    {
      "cell_type": "code",
      "metadata": {
        "id": "RJcQZOLxS_h1"
      },
      "source": [
        "!head stopwords"
      ],
      "execution_count": 27,
      "outputs": []
    },
    {
      "cell_type": "markdown",
      "metadata": {
        "id": "sboM862vrd2S"
      },
      "source": [
        "## Scripts como herramientas de la línea de comandos\n",
        "\n",
        "Enlistamos un ejemplo del libro [data science at the command line](https://www.datascienceatthecommandline.com/2e/chapter-4-creating-reusable-command-line-tools.html) donde respondemos a la pregunta ¿Cuáles son las 10 palabras más usadas en el libro de Alicia en el país de las maravillas?: \n",
        "\n",
        "```console\n",
        "$ curl -sL \"https://www.gutenberg.org/files/11/11-0.txt\" | ➊\n",
        "> tr '[:upper:]' '[:lower:]' | ➋\n",
        "> grep -oE \"[a-z\\']{2,}\" | ➌\n",
        "> sort | ➍\n",
        "> uniq -c | ➎\n",
        "> sort -nr | ➏\n",
        "> head -n 10 ➐\n",
        "   1839 the\n",
        "    942 and\n",
        "    811 to\n",
        "    638 of\n",
        "    610 it\n",
        "    553 she\n",
        "    486 you\n",
        "    462 said\n",
        "    435 in\n",
        "    403 alice\n",
        "```\n",
        "\n",
        "1. `curl` extrae la página\n",
        "2. `tr '[:upper:]' '[:lower:]'` convierte las mayúsculas a minúsculas\n",
        "3. `grep -oE \"[a-z\\']{2,}\"` fragmenta todo el texto a una palabra por línea\n",
        "4. `sort` ordena las palabras alfabéticamente\n",
        "5. `uniq -c` nos arroja las palabras y agrega el número de veces que aparece cada palabra\n",
        "6. `sort -nr` ordena la lista en orden numérico (n) descendente (r)\n",
        "7. `head -n 10` filtra a solo los 10 primeros resultados."
      ]
    },
    {
      "cell_type": "markdown",
      "metadata": {
        "id": "WcqgjDF6lOGV"
      },
      "source": [
        "En la línea de comandos de linux se pueden instalar nuevos comandos de varias maneras, en particular las distribuciones basadas en Debian podemos ejecutar lo siguiente para poder usar un nuevo comando, `html2text`:\n",
        "\n",
        "```bash\n",
        "sudo apt-get install html2text\n",
        "```\n",
        "\n",
        "Podemos instalar también más comandos en la consola para otras utilidades, por ejemplo:\n",
        "\n",
        "```console\n",
        "sudo apt install rand\n",
        "sudo apt install util-linux\n",
        "sudo apt-get install jq\n",
        "sudo apt-get install html-xml-utils\n",
        "sudo apt-get install tidy\n",
        "```"
      ]
    },
    {
      "cell_type": "code",
      "metadata": {
        "colab": {
          "base_uri": "https://localhost:8080/"
        },
        "id": "YZ7nKJaVY7XI",
        "outputId": "988a83cf-c3ed-486f-8fdd-918acc59568f"
      },
      "source": [
        "!sudo apt-get install html2text"
      ],
      "execution_count": 28,
      "outputs": [
        {
          "output_type": "stream",
          "name": "stdout",
          "text": [
            "Reading package lists... Done\n",
            "Building dependency tree       \n",
            "Reading state information... Done\n",
            "The following package was automatically installed and is no longer required:\n",
            "  libnvidia-common-460\n",
            "Use 'sudo apt autoremove' to remove it.\n",
            "The following NEW packages will be installed:\n",
            "  html2text\n",
            "0 upgraded, 1 newly installed, 0 to remove and 20 not upgraded.\n",
            "Need to get 85.7 kB of archives.\n",
            "After this operation, 268 kB of additional disk space will be used.\n",
            "Get:1 http://archive.ubuntu.com/ubuntu bionic/universe amd64 html2text amd64 1.3.2a-21 [85.7 kB]\n",
            "Fetched 85.7 kB in 1s (133 kB/s)\n",
            "debconf: unable to initialize frontend: Dialog\n",
            "debconf: (No usable dialog-like program is installed, so the dialog based frontend cannot be used. at /usr/share/perl5/Debconf/FrontEnd/Dialog.pm line 76, <> line 1.)\n",
            "debconf: falling back to frontend: Readline\n",
            "debconf: unable to initialize frontend: Readline\n",
            "debconf: (This frontend requires a controlling tty.)\n",
            "debconf: falling back to frontend: Teletype\n",
            "dpkg-preconfigure: unable to re-open stdin: \n",
            "Selecting previously unselected package html2text.\n",
            "(Reading database ... 159447 files and directories currently installed.)\n",
            "Preparing to unpack .../html2text_1.3.2a-21_amd64.deb ...\n",
            "Unpacking html2text (1.3.2a-21) ...\n",
            "Setting up html2text (1.3.2a-21) ...\n",
            "Processing triggers for mime-support (3.60ubuntu1) ...\n",
            "Processing triggers for man-db (2.8.3-2ubuntu0.1) ...\n"
          ]
        }
      ]
    },
    {
      "cell_type": "markdown",
      "metadata": {
        "id": "NefiPHptQ0FW"
      },
      "source": [
        "Las palabras que hay que evitar son conocidas como [Stopwords](https://gist.githubusercontent.com/sebleier/554280/raw/7e0e4a1ce04c2bb7bd41089c9821dbcf6d0c786c/NLTK's%2520list%2520of%2520english%2520stopwords). \n",
        "\n",
        "Ejemplos:\n",
        "* I\n",
        "* and\n",
        "* me\n",
        "* my\n",
        "* we\n",
        "* our\n",
        "* you\n",
        "\n"
      ]
    },
    {
      "cell_type": "markdown",
      "metadata": {
        "id": "4gvVQYsDCK28"
      },
      "source": [
        "## JSON\n",
        "\n",
        "Para trabajar con peticiones en json podemos instalar el comando `js` en el shell y luego con curl hacemos un pipe para redireccionar y tener la petición en formato legible."
      ]
    },
    {
      "cell_type": "code",
      "metadata": {
        "colab": {
          "base_uri": "https://localhost:8080/"
        },
        "id": "Zhe5A1IfrvQn",
        "outputId": "5eb30a11-bf94-4369-a6fb-46cef245ae05"
      },
      "source": [
        "!sudo apt-get install jq"
      ],
      "execution_count": 29,
      "outputs": [
        {
          "output_type": "stream",
          "name": "stdout",
          "text": [
            "Reading package lists... Done\n",
            "Building dependency tree       \n",
            "Reading state information... Done\n",
            "The following package was automatically installed and is no longer required:\n",
            "  libnvidia-common-460\n",
            "Use 'sudo apt autoremove' to remove it.\n",
            "The following additional packages will be installed:\n",
            "  libjq1 libonig4\n",
            "The following NEW packages will be installed:\n",
            "  jq libjq1 libonig4\n",
            "0 upgraded, 3 newly installed, 0 to remove and 20 not upgraded.\n",
            "Need to get 276 kB of archives.\n",
            "After this operation, 930 kB of additional disk space will be used.\n",
            "Get:1 http://archive.ubuntu.com/ubuntu bionic/universe amd64 libonig4 amd64 6.7.0-1 [119 kB]\n",
            "Get:2 http://archive.ubuntu.com/ubuntu bionic/universe amd64 libjq1 amd64 1.5+dfsg-2 [111 kB]\n",
            "Get:3 http://archive.ubuntu.com/ubuntu bionic/universe amd64 jq amd64 1.5+dfsg-2 [45.6 kB]\n",
            "Fetched 276 kB in 1s (337 kB/s)\n",
            "debconf: unable to initialize frontend: Dialog\n",
            "debconf: (No usable dialog-like program is installed, so the dialog based frontend cannot be used. at /usr/share/perl5/Debconf/FrontEnd/Dialog.pm line 76, <> line 3.)\n",
            "debconf: falling back to frontend: Readline\n",
            "debconf: unable to initialize frontend: Readline\n",
            "debconf: (This frontend requires a controlling tty.)\n",
            "debconf: falling back to frontend: Teletype\n",
            "dpkg-preconfigure: unable to re-open stdin: \n",
            "Selecting previously unselected package libonig4:amd64.\n",
            "(Reading database ... 159461 files and directories currently installed.)\n",
            "Preparing to unpack .../libonig4_6.7.0-1_amd64.deb ...\n",
            "Unpacking libonig4:amd64 (6.7.0-1) ...\n",
            "Selecting previously unselected package libjq1:amd64.\n",
            "Preparing to unpack .../libjq1_1.5+dfsg-2_amd64.deb ...\n",
            "Unpacking libjq1:amd64 (1.5+dfsg-2) ...\n",
            "Selecting previously unselected package jq.\n",
            "Preparing to unpack .../jq_1.5+dfsg-2_amd64.deb ...\n",
            "Unpacking jq (1.5+dfsg-2) ...\n",
            "Setting up libonig4:amd64 (6.7.0-1) ...\n",
            "Setting up libjq1:amd64 (1.5+dfsg-2) ...\n",
            "Setting up jq (1.5+dfsg-2) ...\n",
            "Processing triggers for man-db (2.8.3-2ubuntu0.1) ...\n",
            "Processing triggers for libc-bin (2.27-3ubuntu1.5) ...\n"
          ]
        }
      ]
    },
    {
      "cell_type": "code",
      "metadata": {
        "colab": {
          "base_uri": "https://localhost:8080/"
        },
        "id": "9EPzKg3MfiNH",
        "outputId": "93697f07-51d8-4afc-8236-f6c361f9ea8f"
      },
      "source": [
        "!man jq | head -n 20"
      ],
      "execution_count": 30,
      "outputs": [
        {
          "output_type": "stream",
          "name": "stdout",
          "text": [
            "JQ(1)                                                                    JQ(1)\n",
            "\n",
            "NAME\n",
            "       jq - Command-line JSON processor\n",
            "\n",
            "SYNOPSIS\n",
            "       jq [options...] filter [files...]\n",
            "\n",
            "       jq  can transform JSON in various ways, by selecting, iterating, reduc‐\n",
            "       ing and otherwise mangling JSON documents. For  instance,  running  the\n",
            "       command  jq  ´map(.price)  | add´ will take an array of JSON objects as\n",
            "       input and return the sum of their \"price\" fields.\n",
            "\n",
            "       jq can accept text input as well, but by default, jq reads a stream  of\n",
            "       JSON entities (including numbers and other literals) from stdin. White‐\n",
            "       space is only needed to separate entities such as 1 and 2, and true and\n",
            "       false.  One  or more files may be specified, in which case jq will read\n",
            "       input from those instead.\n",
            "\n",
            "       The options are described in the INVOKING JQ section; they mostly  con‐\n"
          ]
        }
      ]
    },
    {
      "cell_type": "code",
      "metadata": {
        "id": "EZkgPLcnP8-e",
        "colab": {
          "base_uri": "https://localhost:8080/"
        },
        "outputId": "f3e9b8df-4e6a-4ac9-bf13-484c8223d6d6"
      },
      "source": [
        "#!curl -s -D \"/dev/stderr\" https://api.joind.in\n",
        "!curl -s -D \"/dev/stderr\" https://api.joind.in | jq\n"
      ],
      "execution_count": 31,
      "outputs": [
        {
          "output_type": "stream",
          "name": "stdout",
          "text": [
            "HTTP/2 200 \r\n",
            "date: Fri, 30 Sep 2022 00:54:31 GMT\r\n",
            "content-type: application/json; charset=utf8\r\n",
            "content-length: 363\r\n",
            "access-control-allow-origin: *\r\n",
            "strict-transport-security: max-age=0\r\n",
            "x-debug-info: eyJyZXRyaWVzIjowfQ==\r\n",
            "x-platform-cache: MISS\r\n",
            "x-platform-cluster: asqvtdjv7b7w4-master-7rqtwti\r\n",
            "x-platform-processor: nteapjut3ihyfwjmvdgita2eke\r\n",
            "x-platform-router: osfdatwhmb7kf6gvuxay7mov54\r\n",
            "traceresponse: 00-17197d44c84de1ee62770703ad079369-9d2d179b56d9bd06-00\r\n",
            "cf-cache-status: DYNAMIC\r\n",
            "report-to: {\"endpoints\":[{\"url\":\"https:\\/\\/a.nel.cloudflare.com\\/report\\/v3?s=xl%2FvE7cjTh1a6fVnbm8DOalJx07h%2FkbRWJQPMR1eks4tFDHLHUwg1qTlSvlCtXQHrrdJ4MYQikJeEQJgP7GI0lj2N31%2BUiP%2FZPRK7sFZyZaS43bRLP6H03bgCJrXrAo%3D\"}],\"group\":\"cf-nel\",\"max_age\":604800}\r\n",
            "nel: {\"success_fraction\":0,\"report_to\":\"cf-nel\",\"max_age\":604800}\r\n",
            "server: cloudflare\r\n",
            "cf-ray: 7528fcdf1ca66309-ORD\r\n",
            "alt-svc: h3=\":443\"; ma=86400, h3-29=\":443\"; ma=86400\r\n",
            "\r\n",
            "\u001b[1;39m{\n",
            "  \u001b[0m\u001b[34;1m\"events\"\u001b[0m\u001b[1;39m: \u001b[0m\u001b[0;32m\"https://api.joind.in/v2.1/events\"\u001b[0m\u001b[1;39m,\n",
            "  \u001b[0m\u001b[34;1m\"hot-events\"\u001b[0m\u001b[1;39m: \u001b[0m\u001b[0;32m\"https://api.joind.in/v2.1/events?filter=hot\"\u001b[0m\u001b[1;39m,\n",
            "  \u001b[0m\u001b[34;1m\"upcoming-events\"\u001b[0m\u001b[1;39m: \u001b[0m\u001b[0;32m\"https://api.joind.in/v2.1/events?filter=upcoming\"\u001b[0m\u001b[1;39m,\n",
            "  \u001b[0m\u001b[34;1m\"past-events\"\u001b[0m\u001b[1;39m: \u001b[0m\u001b[0;32m\"https://api.joind.in/v2.1/events?filter=past\"\u001b[0m\u001b[1;39m,\n",
            "  \u001b[0m\u001b[34;1m\"open-cfps\"\u001b[0m\u001b[1;39m: \u001b[0m\u001b[0;32m\"https://api.joind.in/v2.1/events?filter=cfp\"\u001b[0m\u001b[1;39m,\n",
            "  \u001b[0m\u001b[34;1m\"docs\"\u001b[0m\u001b[1;39m: \u001b[0m\u001b[0;32m\"http://joindin.github.io/joindin-api/\"\u001b[0m\u001b[1;39m\n",
            "\u001b[1;39m}\u001b[0m\n"
          ]
        }
      ]
    },
    {
      "cell_type": "code",
      "metadata": {
        "colab": {
          "base_uri": "https://localhost:8080/"
        },
        "id": "uDWuRGAqryjq",
        "outputId": "c0dd9049-e502-4d8d-f224-4f50761ad27c"
      },
      "source": [
        "!curl -s \"https://anapioficeandfire.com/api/characters/583\" | jq '.'"
      ],
      "execution_count": 32,
      "outputs": [
        {
          "output_type": "stream",
          "name": "stdout",
          "text": [
            "\u001b[1;39m{\n",
            "  \u001b[0m\u001b[34;1m\"url\"\u001b[0m\u001b[1;39m: \u001b[0m\u001b[0;32m\"https://anapioficeandfire.com/api/characters/583\"\u001b[0m\u001b[1;39m,\n",
            "  \u001b[0m\u001b[34;1m\"name\"\u001b[0m\u001b[1;39m: \u001b[0m\u001b[0;32m\"Jon Snow\"\u001b[0m\u001b[1;39m,\n",
            "  \u001b[0m\u001b[34;1m\"gender\"\u001b[0m\u001b[1;39m: \u001b[0m\u001b[0;32m\"Male\"\u001b[0m\u001b[1;39m,\n",
            "  \u001b[0m\u001b[34;1m\"culture\"\u001b[0m\u001b[1;39m: \u001b[0m\u001b[0;32m\"Northmen\"\u001b[0m\u001b[1;39m,\n",
            "  \u001b[0m\u001b[34;1m\"born\"\u001b[0m\u001b[1;39m: \u001b[0m\u001b[0;32m\"In 283 AC\"\u001b[0m\u001b[1;39m,\n",
            "  \u001b[0m\u001b[34;1m\"died\"\u001b[0m\u001b[1;39m: \u001b[0m\u001b[0;32m\"\"\u001b[0m\u001b[1;39m,\n",
            "  \u001b[0m\u001b[34;1m\"titles\"\u001b[0m\u001b[1;39m: \u001b[0m\u001b[1;39m[\n",
            "    \u001b[0;32m\"Lord Commander of the Night's Watch\"\u001b[0m\u001b[1;39m\n",
            "  \u001b[1;39m]\u001b[0m\u001b[1;39m,\n",
            "  \u001b[0m\u001b[34;1m\"aliases\"\u001b[0m\u001b[1;39m: \u001b[0m\u001b[1;39m[\n",
            "    \u001b[0;32m\"Lord Snow\"\u001b[0m\u001b[1;39m,\n",
            "    \u001b[0;32m\"Ned Stark's Bastard\"\u001b[0m\u001b[1;39m,\n",
            "    \u001b[0;32m\"The Snow of Winterfell\"\u001b[0m\u001b[1;39m,\n",
            "    \u001b[0;32m\"The Crow-Come-Over\"\u001b[0m\u001b[1;39m,\n",
            "    \u001b[0;32m\"The 998th Lord Commander of the Night's Watch\"\u001b[0m\u001b[1;39m,\n",
            "    \u001b[0;32m\"The Bastard of Winterfell\"\u001b[0m\u001b[1;39m,\n",
            "    \u001b[0;32m\"The Black Bastard of the Wall\"\u001b[0m\u001b[1;39m,\n",
            "    \u001b[0;32m\"Lord Crow\"\u001b[0m\u001b[1;39m\n",
            "  \u001b[1;39m]\u001b[0m\u001b[1;39m,\n",
            "  \u001b[0m\u001b[34;1m\"father\"\u001b[0m\u001b[1;39m: \u001b[0m\u001b[0;32m\"\"\u001b[0m\u001b[1;39m,\n",
            "  \u001b[0m\u001b[34;1m\"mother\"\u001b[0m\u001b[1;39m: \u001b[0m\u001b[0;32m\"\"\u001b[0m\u001b[1;39m,\n",
            "  \u001b[0m\u001b[34;1m\"spouse\"\u001b[0m\u001b[1;39m: \u001b[0m\u001b[0;32m\"\"\u001b[0m\u001b[1;39m,\n",
            "  \u001b[0m\u001b[34;1m\"allegiances\"\u001b[0m\u001b[1;39m: \u001b[0m\u001b[1;39m[\n",
            "    \u001b[0;32m\"https://anapioficeandfire.com/api/houses/362\"\u001b[0m\u001b[1;39m\n",
            "  \u001b[1;39m]\u001b[0m\u001b[1;39m,\n",
            "  \u001b[0m\u001b[34;1m\"books\"\u001b[0m\u001b[1;39m: \u001b[0m\u001b[1;39m[\n",
            "    \u001b[0;32m\"https://anapioficeandfire.com/api/books/5\"\u001b[0m\u001b[1;39m\n",
            "  \u001b[1;39m]\u001b[0m\u001b[1;39m,\n",
            "  \u001b[0m\u001b[34;1m\"povBooks\"\u001b[0m\u001b[1;39m: \u001b[0m\u001b[1;39m[\n",
            "    \u001b[0;32m\"https://anapioficeandfire.com/api/books/1\"\u001b[0m\u001b[1;39m,\n",
            "    \u001b[0;32m\"https://anapioficeandfire.com/api/books/2\"\u001b[0m\u001b[1;39m,\n",
            "    \u001b[0;32m\"https://anapioficeandfire.com/api/books/3\"\u001b[0m\u001b[1;39m,\n",
            "    \u001b[0;32m\"https://anapioficeandfire.com/api/books/8\"\u001b[0m\u001b[1;39m\n",
            "  \u001b[1;39m]\u001b[0m\u001b[1;39m,\n",
            "  \u001b[0m\u001b[34;1m\"tvSeries\"\u001b[0m\u001b[1;39m: \u001b[0m\u001b[1;39m[\n",
            "    \u001b[0;32m\"Season 1\"\u001b[0m\u001b[1;39m,\n",
            "    \u001b[0;32m\"Season 2\"\u001b[0m\u001b[1;39m,\n",
            "    \u001b[0;32m\"Season 3\"\u001b[0m\u001b[1;39m,\n",
            "    \u001b[0;32m\"Season 4\"\u001b[0m\u001b[1;39m,\n",
            "    \u001b[0;32m\"Season 5\"\u001b[0m\u001b[1;39m,\n",
            "    \u001b[0;32m\"Season 6\"\u001b[0m\u001b[1;39m\n",
            "  \u001b[1;39m]\u001b[0m\u001b[1;39m,\n",
            "  \u001b[0m\u001b[34;1m\"playedBy\"\u001b[0m\u001b[1;39m: \u001b[0m\u001b[1;39m[\n",
            "    \u001b[0;32m\"Kit Harington\"\u001b[0m\u001b[1;39m\n",
            "  \u001b[1;39m]\u001b[0m\u001b[1;39m\n",
            "\u001b[1;39m}\u001b[0m\n"
          ]
        }
      ]
    }
  ]
}