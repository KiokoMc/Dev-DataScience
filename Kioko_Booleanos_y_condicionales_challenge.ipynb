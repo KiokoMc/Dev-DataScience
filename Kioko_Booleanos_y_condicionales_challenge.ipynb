{
  "nbformat": 4,
  "nbformat_minor": 0,
  "metadata": {
    "colab": {
      "name": "Kioko-Booleanos_y_condicionales_challenge.ipynb",
      "provenance": [],
      "collapsed_sections": [],
      "include_colab_link": true
    },
    "kernelspec": {
      "name": "python3",
      "display_name": "Python 3"
    },
    "language_info": {
      "name": "python"
    }
  },
  "cells": [
    {
      "cell_type": "markdown",
      "metadata": {
        "id": "view-in-github",
        "colab_type": "text"
      },
      "source": [
        "<a href=\"https://colab.research.google.com/github/KiokoMc/Dev-DataScience/blob/main/Kioko_Booleanos_y_condicionales_challenge.ipynb\" target=\"_parent\"><img src=\"https://colab.research.google.com/assets/colab-badge.svg\" alt=\"Open In Colab\"/></a>"
      ]
    },
    {
      "cell_type": "markdown",
      "source": [
        "1.-Escriba un programa que pida dos números enteros y que calcule su división, escribiendo si la división es exacta o no."
      ],
      "metadata": {
        "id": "s0bMPAJ_jHe9"
      }
    },
    {
      "cell_type": "code",
      "execution_count": 23,
      "metadata": {
        "id": "3IMpwzfvGK-0",
        "colab": {
          "base_uri": "https://localhost:8080/"
        },
        "outputId": "df14e1dc-4f30-4ec5-a9a2-351308d18d3f"
      },
      "outputs": [
        {
          "output_type": "stream",
          "name": "stdout",
          "text": [
            "Dame un número entero:\n",
            "12\n",
            "Dame otro número entero:\n",
            "2\n",
            "La división es exacta\n"
          ]
        }
      ],
      "source": [
        "ent1 = int(input(\"Dame un número entero:\\n\")) \n",
        "ent2 = int(input(\"Dame otro número entero:\\n\"))\n",
        "\n",
        "if ent1 % ent2 == 0:\n",
        "  print(\"La división es exacta\")\n",
        "else:\n",
        "  print(\"La división NO es exacta\")"
      ]
    },
    {
      "cell_type": "markdown",
      "source": [
        "2.-Escriba un programa que pida dos números y que conteste cuál es el menor y cuál el mayor o que escriba que son iguales."
      ],
      "metadata": {
        "id": "zFdg9K7ujH6c"
      }
    },
    {
      "cell_type": "code",
      "source": [
        "num1 = int(input(\"Dame un número:\\n\")) \n",
        "num2 = int(input(\"Dame otro número:\\n\"))\n",
        "\n",
        "if num1 > num2:\n",
        "  print(\"\\nEl número mayor es:\",num1,\"\\nEl número menor es:\",num2)\n",
        "elif num1 < num2:\n",
        "  print(\"\\nEl número mayor es:\",num2,\"\\nEl número menor es:\",num1)\n",
        "else:\n",
        "  print(\"\\nAmbos números son iguales\")"
      ],
      "metadata": {
        "id": "AQqIXDiOjN3j",
        "colab": {
          "base_uri": "https://localhost:8080/"
        },
        "outputId": "ce78e6de-1d3a-4ae2-b6e8-db6199d69bc9"
      },
      "execution_count": 24,
      "outputs": [
        {
          "output_type": "stream",
          "name": "stdout",
          "text": [
            "Dame un número:\n",
            "12\n",
            "Dame otro número:\n",
            "2\n",
            "\n",
            "El número mayor es: 12 \n",
            "El número menor es: 2\n"
          ]
        }
      ]
    },
    {
      "cell_type": "markdown",
      "source": [
        "3.-Escriba un programa que pida dos números enteros y que escriba si el mayor es múltiplo del menor."
      ],
      "metadata": {
        "id": "HxYsyC9xjOM5"
      }
    },
    {
      "cell_type": "code",
      "source": [
        "num1 = int(input(\"Dame un número entero:\\n\")) \n",
        "num2 = int(input(\"Dame otro número entero:\\n\"))\n",
        "\n",
        "if num1 > num2 and num1 % num2 == 0:\n",
        "  print(\"\\nEl número:\",num2,\"es múltiplo de:\",num1)\n",
        "elif num1 < num2 and num2 % num1 == 0:\n",
        "  print(\"\\nEl número:\",num1,\"es múltiplo de:\",num2)\n",
        "else:\n",
        "  print(\"\\nLos números\",num1,\"y\",num2,\"no son múltiplos\")"
      ],
      "metadata": {
        "id": "Lf_pi2t3jQwh",
        "colab": {
          "base_uri": "https://localhost:8080/"
        },
        "outputId": "f1f18cea-31a5-49b8-a6ce-535524949489"
      },
      "execution_count": 25,
      "outputs": [
        {
          "output_type": "stream",
          "name": "stdout",
          "text": [
            "Dame un número entero:\n",
            "12\n",
            "Dame otro número entero:\n",
            "2\n",
            "\n",
            "El número: 2 es múltiplo de: 12\n"
          ]
        }
      ]
    },
    {
      "cell_type": "markdown",
      "source": [
        "4.-Escriba un programa que pregunte primero si se quiere calcular el área de un triángulo o la de un círculo. Si se contesta que se quiere calcular el área de un triángulo (escribiendo T o t), el programa tiene que pedir entonces la base y la altura y escribir el área. Si se contesta que se quiere calcular el área de un círculo (escribiendo C o c), el programa tiene que pedir entonces el radio y escribir el área.\n",
        "\n",
        "Se recuerda que el área de un triángulo es base por altura dividido por 2 y que el área de un círculo es Pi (aproximadamente 3,141592) por el radio al cuadrado."
      ],
      "metadata": {
        "id": "nbV3-48_jREu"
      }
    },
    {
      "cell_type": "code",
      "source": [
        "import math\n",
        "\n",
        "fig = str(input(\"¿Deseas calcular el área de un círculo o un triángulo?:\\n   \\\"T\\\" o \\\"t\\\" para triángulo \\n   \\\"C\\\" o \\\"c\\\" para círculo\\n\")) \n",
        "\n",
        "if fig == 'C' or fig == 'c':\n",
        "  pi = math.pi\n",
        "  radio = int(input(\"Escribe el radio de tu círculo en [cm]:\\n\"))\n",
        "  areacir = pi*(radio**2)\n",
        "  print(\"El área del círculo es:\",areacir,\"[cm]\")\n",
        "elif fig == 'T' or fig == 't':\n",
        "  base = int(input(\"Escribe la base de tu triángulo en [cm]:\\n\")) \n",
        "  altura = int(input(\"Escribe la altura de tu triángulo en [cm]:\\n\"))\n",
        "  areatr = (base*altura)/2\n",
        "  print(\"El área del triángulo es:\",areatr,\"[cm]\")\n",
        "else:\n",
        "  print(\"Ingresa una opción válida\")"
      ],
      "metadata": {
        "id": "H1tqTB-dwuG8",
        "colab": {
          "base_uri": "https://localhost:8080/"
        },
        "outputId": "05dada35-e114-4578-a097-8f9feb842cf6"
      },
      "execution_count": 26,
      "outputs": [
        {
          "output_type": "stream",
          "name": "stdout",
          "text": [
            "¿Deseas calcular el área de un círculo o un triángulo?:\n",
            "   \"T\" o \"t\" para triángulo \n",
            "   \"C\" o \"c\" para círculo\n",
            "c\n",
            "Escribe el radio de tu círculo en [cm]:\n",
            "2\n",
            "El área del círculo es: 12.566370614359172 [cm]\n"
          ]
        }
      ]
    },
    {
      "cell_type": "markdown",
      "source": [
        "5.- Ejercicio Masa en Otros Planetas\n",
        "\n",
        "\n",
        "Calcule cuanto pesa en otro planeta, tiene que escribir un código que reciba su peso en la tierra, y en cual otro planeta quiere saber su peso.\n",
        "\n",
        "\n",
        "Siguiendo la siguiente formula, se puede obtener su peso en el planeta que desee\n",
        "\n",
        "(Todos son en Kg) (Creo jeje)\n",
        "\n",
        "peso_en_otro_planeta = gravedad Otro PLaneta * Peso En Tierra / Gravedad Tierra\n",
        "\n",
        "gravedad_tierra = 9.81\n",
        "\n",
        "  g_mercurio = 3.7\n",
        "\n",
        "  g_venus = 8.87\n",
        "\n",
        "  g_marte = 3.711\n",
        "\n",
        "  g_jupiter = 28.4\n",
        "\n",
        "  g_saturno = 10.44\n",
        "\n",
        "  g_urano = 8.7\n",
        "\n",
        "  g_neptuno = 11.15\n",
        "\n",
        "  g_pluton = 0.62\n",
        "\n"
      ],
      "metadata": {
        "id": "BYSFWj6JwteC"
      }
    },
    {
      "cell_type": "code",
      "source": [
        "g_tierra = 9.81\n",
        "g_mercurio = 3.7\n",
        "g_venus = 8.87\n",
        "g_marte = 3.711\n",
        "g_jupiter = 28.4\n",
        "g_saturno = 10.44\n",
        "g_urano = 8.7\n",
        "g_neptuno = 11.15\n",
        "g_pluton = 0.62\n",
        "\n",
        "peso = int(input(\"Escribe tu peso [kg]:\\n\"))\n",
        "\n",
        "pesotierra = peso/g_tierra\n",
        "\n",
        "planeta = str(input(\"Escribe en minúsculas el nombre del planeta en el que quieres conocer tu peso:\\n\"))\n",
        "\n",
        "if planeta == 'mercurio':\n",
        "  print(\"Tu peso en Mercurio es:\",pesotierra*g_mercurio,\"[kg]\")\n",
        "elif planeta == 'venus':\n",
        "  print(\"Tu peso en Venus es:\",pesotierra*g_venus,\"[kg]\")\n",
        "elif planeta == 'marte':\n",
        "  print(\"Tu peso en Marte es:\",pesotierra*g_marte,\"[kg]\")\n",
        "elif planeta == 'jupiter':\n",
        "  print(\"Tu peso en Jupiter es:\",pesotierra*g_jupiter,\"[kg]\")\n",
        "elif planeta == 'saturno':\n",
        "  print(\"Tu peso en Saturno es:\",pesotierra*g_saturno,\"[kg]\")\n",
        "elif planeta == 'urano':\n",
        "  print(\"Tu peso en Urano es:\",pesotierra*g_urano,\"[kg]\")\n",
        "elif planeta == 'neptuno':\n",
        "  print(\"Tu peso en Neptuno es:\",pesotierra*g_neptuno,\"[kg]\")\n",
        "elif planeta == 'pluton':\n",
        "  print(\"Tu peso en Pluton es:\",pesotierra*g_pluton,\"[kg]\")\n",
        "else:\n",
        "  print(\"Ingresa una opción válida\")\n"
      ],
      "metadata": {
        "id": "60MmzpAhwvWh",
        "colab": {
          "base_uri": "https://localhost:8080/"
        },
        "outputId": "614b7993-d152-4e32-b8ec-116668daa38a"
      },
      "execution_count": 27,
      "outputs": [
        {
          "output_type": "stream",
          "name": "stdout",
          "text": [
            "Escribe tu peso [kg]:\n",
            "12\n",
            "Escribe en minúsculas el nombre del planeta en el que quieres conocer tu peso:\n",
            "pluton\n",
            "Tu peso en Pluton es: 0.7584097859327217 [kg]\n"
          ]
        }
      ]
    }
  ]
}