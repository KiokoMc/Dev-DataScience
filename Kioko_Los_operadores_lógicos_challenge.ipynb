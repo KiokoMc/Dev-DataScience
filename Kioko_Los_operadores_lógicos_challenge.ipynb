{
  "nbformat": 4,
  "nbformat_minor": 0,
  "metadata": {
    "colab": {
      "name": "Kioko- Los operadores lógicos - challenge.ipynb",
      "provenance": [],
      "collapsed_sections": [],
      "include_colab_link": true
    },
    "kernelspec": {
      "name": "python3",
      "display_name": "Python 3"
    },
    "language_info": {
      "name": "python"
    }
  },
  "cells": [
    {
      "cell_type": "markdown",
      "metadata": {
        "id": "view-in-github",
        "colab_type": "text"
      },
      "source": [
        "<a href=\"https://colab.research.google.com/github/KiokoMc/Dev-DataScience/blob/main/Kioko_Los_operadores_l%C3%B3gicos_challenge.ipynb\" target=\"_parent\"><img src=\"https://colab.research.google.com/assets/colab-badge.svg\" alt=\"Open In Colab\"/></a>"
      ]
    },
    {
      "cell_type": "markdown",
      "metadata": {
        "id": "VEn_SLPyboN0"
      },
      "source": [
        "#Los operadores lógicos \n",
        "\n"
      ]
    },
    {
      "cell_type": "markdown",
      "metadata": {
        "id": "P1vqdpRJQMv6"
      },
      "source": [
        "Recordemos los operadores de comparación\n",
        "\n",
        "![img1](https://facialix.com/images/cond.png)"
      ]
    },
    {
      "cell_type": "markdown",
      "metadata": {
        "id": "jXKTPrImShCj"
      },
      "source": [
        "y veamos algunos ejemplos de los operadores logicos en acción\n",
        "\n",
        "![img2](https://facialix.com/images/logicos.png)"
      ]
    },
    {
      "cell_type": "markdown",
      "metadata": {
        "id": "Ltf91jwLSB_d"
      },
      "source": [
        "**En este ejercicio debes mostrar el valor que se obtiene de las sentencias al ejecutarlas en codigo y explicarlas:**"
      ]
    },
    {
      "cell_type": "markdown",
      "metadata": {
        "id": "8CXLWwF2TS5D"
      },
      "source": [
        "1) **not true**"
      ]
    },
    {
      "cell_type": "code",
      "metadata": {
        "id": "dn0D2e0wB4mv",
        "colab": {
          "base_uri": "https://localhost:8080/"
        },
        "outputId": "014a8161-332a-44fd-9b79-56242598d69d"
      },
      "source": [
        "#Escribe el codigo aquí\n",
        "not True\n",
        "\n"
      ],
      "execution_count": 3,
      "outputs": [
        {
          "output_type": "execute_result",
          "data": {
            "text/plain": [
              "False"
            ]
          },
          "metadata": {},
          "execution_count": 3
        }
      ]
    },
    {
      "cell_type": "markdown",
      "metadata": {
        "id": "LIIjBScjETLc"
      },
      "source": [
        "Escribe el explicacion aquí \n",
        "\n",
        "🖍 Lo contrario de True es False, el comando \"not\" nos ofrece el contrario del booleano que mandemos."
      ]
    },
    {
      "cell_type": "markdown",
      "metadata": {
        "id": "JGlH_p9ll3yO"
      },
      "source": [
        "2) **not (1+2 != 3)**"
      ]
    },
    {
      "cell_type": "code",
      "metadata": {
        "id": "_hobkTpAUEB4",
        "colab": {
          "base_uri": "https://localhost:8080/"
        },
        "outputId": "1ff66f65-1047-4dc6-e2cc-2d5c928855b8"
      },
      "source": [
        "#Escribe el codigo aquí\n",
        "not (1+2 != 3)\n",
        "\n"
      ],
      "execution_count": 4,
      "outputs": [
        {
          "output_type": "execute_result",
          "data": {
            "text/plain": [
              "True"
            ]
          },
          "metadata": {},
          "execution_count": 4
        }
      ]
    },
    {
      "cell_type": "markdown",
      "metadata": {
        "id": "0Gw_3yeSFKRf"
      },
      "source": [
        "Escribe el explicacion aquí \n",
        "\n",
        "🖍 ... El conjunto \"!=\" nos indica \"diferente\", dado que 1+2 si es igual a 3, la respuesta estaba siendo False, pero con el not nuestro resultado se convirtió en True."
      ]
    },
    {
      "cell_type": "markdown",
      "metadata": {
        "id": "nTis6gKvoNkm"
      },
      "source": [
        "3) **x = (len(\"jugar\") > 5) and (len(\"jugar\") < 10)**"
      ]
    },
    {
      "cell_type": "code",
      "metadata": {
        "id": "I3I7VbTdoin4",
        "colab": {
          "base_uri": "https://localhost:8080/"
        },
        "outputId": "3587059a-6fd7-436c-fd23-742de431ae2b"
      },
      "source": [
        "#Escribe el codigo aquí\n",
        "x = (len(\"jugar\") > 5) and (len(\"jugar\") < 10)\n",
        "print(x)"
      ],
      "execution_count": 6,
      "outputs": [
        {
          "output_type": "stream",
          "name": "stdout",
          "text": [
            "False\n"
          ]
        }
      ]
    },
    {
      "cell_type": "markdown",
      "metadata": {
        "id": "Zml_nA0vFPqR"
      },
      "source": [
        "Escribe el explicacion aquí \n",
        "\n",
        "🖍 ... La condicional \" > 5\" no se cumple ya que la longitud de la palabra jugar no es mayor a 5, necesitamos corregir con un \">=\" para que la sentencia sea True"
      ]
    },
    {
      "cell_type": "markdown",
      "metadata": {
        "id": "HOwNy5VOorNy"
      },
      "source": [
        "4) **\"alto\"[2] == \"t\" and x**"
      ]
    },
    {
      "cell_type": "code",
      "metadata": {
        "id": "mZx6iGmeoqEA",
        "colab": {
          "base_uri": "https://localhost:8080/"
        },
        "outputId": "22a8968c-f2f1-4e5d-b465-5683e9a06495"
      },
      "source": [
        "#Escribe el codigo aquí\n",
        "\n",
        "\"alto\"[2] == \"t\" and x\n"
      ],
      "execution_count": 9,
      "outputs": [
        {
          "output_type": "execute_result",
          "data": {
            "text/plain": [
              "False"
            ]
          },
          "metadata": {},
          "execution_count": 9
        }
      ]
    },
    {
      "cell_type": "markdown",
      "metadata": {
        "id": "ze-L4sA0FZv1"
      },
      "source": [
        "Escribe el explicacion aquí \n",
        "\n",
        "🖍 ... Aunque el array es cierto, dado que el resultado en x era False, tenemos que dar como resultado un False ya que asì funciona la condiciòn \"and\" (Resultados con un False dan False)"
      ]
    },
    {
      "cell_type": "markdown",
      "metadata": {
        "id": "cCqs1tjHNpv4"
      },
      "source": [
        "5) **842913%10 != 3 and len(\"café\") == 3**"
      ]
    },
    {
      "cell_type": "code",
      "metadata": {
        "id": "70-kC-f9oqAe",
        "colab": {
          "base_uri": "https://localhost:8080/"
        },
        "outputId": "d85698d4-6072-467b-b7f3-d4cceb288681"
      },
      "source": [
        "#Escribe el codigo aquí\n",
        "\n",
        "842913 % 10 != 3 and len(\"cafe\") == 3\n"
      ],
      "execution_count": 12,
      "outputs": [
        {
          "output_type": "execute_result",
          "data": {
            "text/plain": [
              "False"
            ]
          },
          "metadata": {},
          "execution_count": 12
        }
      ]
    },
    {
      "cell_type": "markdown",
      "metadata": {
        "id": "TpDnFFjcGdkj"
      },
      "source": [
        "Escribe el explicacion aquí \n",
        "\n",
        "🖍 ... Ambas sentencias son false."
      ]
    },
    {
      "cell_type": "markdown",
      "metadata": {
        "id": "ato2HirpOAy9"
      },
      "source": [
        "6) **0!=0 or \"a\" < \"y\"**"
      ]
    },
    {
      "cell_type": "code",
      "metadata": {
        "id": "r4NtOzm3op94",
        "colab": {
          "base_uri": "https://localhost:8080/"
        },
        "outputId": "24138093-189b-4d2c-e391-42a78862415d"
      },
      "source": [
        "#Escribe el codigo aquí\n",
        "\n",
        "0 != 0 or \"a\" < \"y\"\n"
      ],
      "execution_count": 13,
      "outputs": [
        {
          "output_type": "execute_result",
          "data": {
            "text/plain": [
              "True"
            ]
          },
          "metadata": {},
          "execution_count": 13
        }
      ]
    },
    {
      "cell_type": "markdown",
      "metadata": {
        "id": "Roy4PanwGfxi"
      },
      "source": [
        "Escribe el explicacion aquí \n",
        "\n",
        "🖍 ... Este operador nos dice que con un \"True\" ya el resultado es \"True\", y en este caso, la segunda condición es True."
      ]
    },
    {
      "cell_type": "markdown",
      "metadata": {
        "id": "5W25SYZeORtE"
      },
      "source": [
        "7) **True or int(\"50\") >= 50**"
      ]
    },
    {
      "cell_type": "code",
      "metadata": {
        "id": "mTpYdCzFop7s",
        "colab": {
          "base_uri": "https://localhost:8080/"
        },
        "outputId": "3d433b4e-7b84-432e-c3c5-35d19b814800"
      },
      "source": [
        "#Escribe el codigo aquí\n",
        "\n",
        "True or int(\"50\") >= 50\n"
      ],
      "execution_count": 16,
      "outputs": [
        {
          "output_type": "execute_result",
          "data": {
            "text/plain": [
              "True"
            ]
          },
          "metadata": {},
          "execution_count": 16
        }
      ]
    },
    {
      "cell_type": "markdown",
      "metadata": {
        "id": "hMZpEBHCGkqJ"
      },
      "source": [
        "Escribe el explicacion aquí \n",
        "\n",
        "🖍 ... Ambas sentencias son True"
      ]
    },
    {
      "cell_type": "markdown",
      "metadata": {
        "id": "Dp4beMsqOhOh"
      },
      "source": [
        "8) **edad = 20**\n",
        "\n",
        "**not(x) or edad%2==0**"
      ]
    },
    {
      "cell_type": "code",
      "metadata": {
        "id": "bTco9wG8op5G",
        "colab": {
          "base_uri": "https://localhost:8080/"
        },
        "outputId": "1f1a387b-82d5-443d-d08a-51bdba19b0fc"
      },
      "source": [
        "#Escribe el codigo aquí\n",
        "\n",
        "edad = 20\n",
        "not(x) or edad%2==0\n"
      ],
      "execution_count": 17,
      "outputs": [
        {
          "output_type": "execute_result",
          "data": {
            "text/plain": [
              "True"
            ]
          },
          "metadata": {},
          "execution_count": 17
        }
      ]
    },
    {
      "cell_type": "markdown",
      "metadata": {
        "id": "AyH5LeZ4HgaZ"
      },
      "source": [
        "Escribe el explicacion aquí \n",
        "\n",
        "🖍 ... El not(x) nos indica que ahora el resultado de \"x\" es True y la segunda sentencia también es positiva. "
      ]
    },
    {
      "cell_type": "markdown",
      "metadata": {
        "id": "QXou2mt7Oy4r"
      },
      "source": [
        "9) **es_cliente = False**\n",
        "\n",
        "**not (es_cliente and not(edad < 18))**"
      ]
    },
    {
      "cell_type": "code",
      "metadata": {
        "id": "-p3G0qH3op2X",
        "colab": {
          "base_uri": "https://localhost:8080/"
        },
        "outputId": "949ff4d5-409c-425e-9098-632526a843af"
      },
      "source": [
        "#Escribe el codigo aquí\n",
        "\n",
        "es_cliente = False\n",
        "not(es_cliente and not(edad < 18))\n"
      ],
      "execution_count": 18,
      "outputs": [
        {
          "output_type": "execute_result",
          "data": {
            "text/plain": [
              "True"
            ]
          },
          "metadata": {},
          "execution_count": 18
        }
      ]
    },
    {
      "cell_type": "markdown",
      "metadata": {
        "id": "hBpjtW7iHhW8"
      },
      "source": [
        "Escribe el explicacion aquí \n",
        "\n",
        "🖍 ... La primer sentencia (es_cliente) es negativa y genera resultado ya negativo, pero con el not a todo el operador el resultado se vuelve positivo."
      ]
    },
    {
      "cell_type": "markdown",
      "metadata": {
        "id": "_jKHKuBkbxhX"
      },
      "source": [
        "###Recursos extra para estudiar y ejercios\n"
      ]
    },
    {
      "cell_type": "markdown",
      "metadata": {
        "id": "86XEDrCbdBCr"
      },
      "source": [
        "- Video corto de Coursera: [Tablas de verdad y álgebra booleana](https://www.coursera.org/lecture/programacion-python/tablas-de-verdad-y-algebra-booleana-JJs0E)\n",
        "- Articulo corto de [Tablas de la verdad](https://www.ecured.cu/Tablas_de_la_verdad)\n",
        "- Ejercicios practicos en portal de [Tablas de Verdad](https://www.edu.xunta.gal/espazoAbalar/sites/espazoAbalar/files/datos/1493724904/contido/tablas_de_verdad.html)\n",
        "- Guía de [Ejercicios de Lógica](https://www.fing.edu.uy/tecnoinf/mvd/cursos/mdl1/material/pra/buceo_noct/mdl1-pr-logica.pdf)"
      ]
    }
  ]
}