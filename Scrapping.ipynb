{
  "nbformat": 4,
  "nbformat_minor": 0,
  "metadata": {
    "colab": {
      "provenance": [],
      "authorship_tag": "ABX9TyO2ZsYANDz1MHh1BPc5jwle",
      "include_colab_link": true
    },
    "kernelspec": {
      "name": "python3",
      "display_name": "Python 3"
    },
    "language_info": {
      "name": "python"
    }
  },
  "cells": [
    {
      "cell_type": "markdown",
      "metadata": {
        "id": "view-in-github",
        "colab_type": "text"
      },
      "source": [
        "<a href=\"https://colab.research.google.com/github/KiokoMc/Dev-DataScience/blob/main/Scrapping.ipynb\" target=\"_parent\"><img src=\"https://colab.research.google.com/assets/colab-badge.svg\" alt=\"Open In Colab\"/></a>"
      ]
    },
    {
      "cell_type": "code",
      "execution_count": 1,
      "metadata": {
        "colab": {
          "base_uri": "https://localhost:8080/"
        },
        "id": "tlKqIXjjrWYW",
        "outputId": "fe32e215-0f52-48d1-a5b9-30a1955f9e26"
      },
      "outputs": [
        {
          "output_type": "stream",
          "name": "stdout",
          "text": [
            "Looking in indexes: https://pypi.org/simple, https://us-python.pkg.dev/colab-wheels/public/simple/\n",
            "Requirement already satisfied: beautifulsoup4 in /usr/local/lib/python3.7/dist-packages (4.6.3)\n"
          ]
        }
      ],
      "source": [
        "!pip install beautifulsoup4 #Signo ! para ejecutar comandos de Linux en colab"
      ]
    },
    {
      "cell_type": "markdown",
      "source": [
        "Le vamos a hacer Web Scrapping a esta página:\n",
        "https://www.usclimatedata.com/climate/united-states/us\n"
      ],
      "metadata": {
        "id": "wbEeT-WDr5v5"
      }
    },
    {
      "cell_type": "code",
      "source": [
        "import requests\n",
        "r = requests.get(\"https://www.usclimatedata.com/climate/united-states/us\")"
      ],
      "metadata": {
        "id": "Xu6w4uFfrxHA"
      },
      "execution_count": 3,
      "outputs": []
    },
    {
      "cell_type": "code",
      "source": [
        "len(r.text)"
      ],
      "metadata": {
        "colab": {
          "base_uri": "https://localhost:8080/"
        },
        "id": "uEVQDSfRsUO4",
        "outputId": "a408f797-77a0-4123-e0fa-d380df5e4d7c"
      },
      "execution_count": 4,
      "outputs": [
        {
          "output_type": "execute_result",
          "data": {
            "text/plain": [
              "42419"
            ]
          },
          "metadata": {},
          "execution_count": 4
        }
      ]
    },
    {
      "cell_type": "code",
      "source": [
        "r.text #Formato html"
      ],
      "metadata": {
        "colab": {
          "base_uri": "https://localhost:8080/",
          "height": 123
        },
        "id": "26E6ZIousXgE",
        "outputId": "e420a887-86eb-4808-81d2-a13577ce0dc1"
      },
      "execution_count": 6,
      "outputs": [
        {
          "output_type": "execute_result",
          "data": {
            "text/plain": [
              "'<!DOCTYPE html>\\n<html lang=\"en\">\\n<head>\\n\\t<script>(function(w,d,s,l,i){w[l]=w[l]||[];w[l].push({\\'gtm.start\\':\\nnew Date().getTime(),event:\\'gtm.js\\'});var f=d.getElementsByTagName(s)[0],\\nj=d.createElement(s),dl=l!=\\'dataLayer\\'?\\'&l=\\'+l:\\'\\';j.async=true;j.src=\\n\\'https://www.googletagmanager.com/gtm.js?id=\\'+i+dl;f.parentNode.insertBefore(j,f);\\n})(window,document,\\'script\\',\\'dataLayer\\',\\'GTM-NGZ4B4W\\');</script>\\n\\t<meta http-equiv=\"content-type\" content=\"text/html; charset=utf-8\" /><meta name=\"viewport\" content=\"width=device-width, initial-scale=1.0, maximum-scale=2.0\" /><meta name=\"robots\" content=\"index, follow\" /><meta http-equiv=\"X-UA-Compatible\" content=\"IE=edge\" /><meta name=\"description\" content=\"United States. Information regarding the temperature, precipitation and sunshine for cities and locations in United States. See the climate charts and averages for your city.\"><meta name=\"keywords\" content=\"United States, climate, temperature, precipitation, sunshine, average, climate chart, climograph, climate data, climate graph\"><link rel=\"canonical\" href=\"https://www.usclimatedata.com/climate/united-states/us\" /><meta name=\"theme-color\" content=\"#0659b0\"/><meta name=\"msapplication-TileColor\" content=\"#2d89ef\"><meta name=\"apple-mobile-web-app-title\" content=\"US Climate Data\"><meta name=\"application-name\" content=\"US Climate Data\"><meta name=\"google-site-verification\" content=\"YZ0ca6l60VXXsJQ6xmJlgIGawHVFuXmAJcVFQ4hVnkY\" /><meta property=\"og:type\" content=\"website\" />    <title>Climate United States - Normals and averages</title>\\n\\t<link rel=\"preconnect\" href=\"https://cdnjs.cloudflare.com/\" crossorigin><link rel=\"dns-prefetch\" href=\"//cdnjs.cloudflare.com\"><link rel=\"dns-prefetch\" href=\"//gstatic.com\"><link rel=\"dns-prefetch\" href=\"//google-analytics.com\"><link rel=\"dns-prefetch\" href=\"//googletagmanager.com\"><link rel=\"preload\" href=\"/assets/css/bootstrap.min.css\" as=\"style\"><link rel=\"preload\" href=\"/assets/css/style.min.css\" as=\"style\"><link rel=\"preload\" href=\"/assets/js/passive-slimscroll.min.js\" as=\"script\"><link rel=\"preload\" href=\"/assets/js/typeahead.min.js\" as=\"script\"><link rel=\"preload\" imagesrcset=\"/assets/images/us-climate-data.png 1x, /assets/images/us-climate-data-2.png 2x\" as=\"image\"><link rel=\"manifest\" href=\"/manifest.json\"><link rel=\"shortcut icon\" href=\"/favicon.ico\" type=\"image/x-icon\"><link rel=\"icon\" type=\"image/png\" sizes=\"32x32\" href=\"/assets/images/favicon-32x32.png\"><link rel=\"icon\" type=\"image/png\" sizes=\"16x16\" href=\"/assets/images/favicon-16x16.png\"><link rel=\"icon\" type=\"image/png\" sizes=\"192x192\" href=\"/assets/images/us-climate-icon-192x192.png\"><link rel=\"apple-touch-icon\" href=\"/assets/images/apple-touch-icon.png\"><link rel=\"mask-icon\" href=\"/assets/icons/safari-pinned-tab.svg\" color=\"#ffffff\"><link type=\"text/css\" href=\"/assets/css/bootstrap.min.css\" rel=\"stylesheet\"><noscript><link rel=\"stylesheet\" href=\"/assets/css/bootstrap.min.css\"></noscript><link type=\"text/css\" href=\"/assets/css/style.min.css\" rel=\"stylesheet\"><noscript><link rel=\"stylesheet\" href=\"/assets/css/style.min.css\"></noscript><noscript><link rel=\"stylesheet\" href=\"/assets/css/no-js.min.css\"></noscript></head>\\n<body>\\n<noscript><iframe src=\"https://www.googletagmanager.com/ns.html?id=GTM-NGZ4B4W\"\\nheight=\"0\" width=\"0\" style=\"display:none;visibility:hidden\"></iframe></noscript>\\n<header>\\n\\t<div id=\"first-navbar\"><nav class=\"navbar navbar-toggleable-md navbar-expand-md bg-primary first-navbar\"><div class=\"container\"><div id=\"logo\"><a title=\"Temperature - Precipitation - Sunshine - Snowfall\" class=\"navbar-brand\" href=\"/\"><img alt=\"Temperature - Precipitation - Sunshine - Snowfall\" height=\"34\" width=\"31\" src=\"https://www.usclimatedata.com/assets/images/us-climate-data.png\" data-src=\"https://www.usclimatedata.com/assets/images/us-climate-data.png\" srcset=\"https://www.usclimatedata.com/assets/images/us-climate-data.png 1x, https://www.usclimatedata.com/assets/images/us-climate-data-2.png 2x\" /><span class=\"white ml-2\">U.S. Climate Data</span></a></div><button class=\"navbar-toggler\" type=\"button\" data-toggle=\"collapse\" data-target=\".navbarSupportedContent\" aria-controls=\"navbarSupportedContent\" aria-expanded=\"false\" aria-label=\"Toggle navigation\"><span class=\"navbar-toggler-icon\"></span></button><div id=\"search-config\"><div><form role=\"search\" class=\"navbar-left app-search search\"><div id=\"search-field\" class=\"first-navig\"><input type=\"text\" class=\"typeahead form-control search-input\" aria-label=\"Enter a location\" placeholder=\"Enter a location\" /></div></form></div><div class=\"config\"><ul class=\"list-inline mb-0 config\"><li class=\"list-inline-item dropdown\"><a href=\"#\" id=\"config_btn\" class=\"nav-link dropdown-toggle\" data-toggle=\"dropdown\" aria-haspopup=\"true\" aria-expanded=\"false\" title=\"Select Fahrenheit or Celcius\"><span class=\"sr-only\">Toggle Dropdown</span><svg xmlns=\"http://www.w3.org/2000/svg\" xmlns:xlink=\"http://www.w3.org/1999/xlink\" aria-hidden=\"true\" focusable=\"false\" width=\"18px\" height=\"18px\" style=\"vertical-align:text-bottom; -ms-transform: rotate(360deg); -webkit-transform: rotate(360deg); transform: rotate(360deg);\" preserveAspectRatio=\"xMidYMid meet\" viewBox=\"0 0 24 24\"><path d=\"M12 15.5A3.5 3.5 0 0 1 8.5 12A3.5 3.5 0 0 1 12 8.5a3.5 3.5 0 0 1 3.5 3.5a3.5 3.5 0 0 1-3.5 3.5m7.43-2.53c.04-.32.07-.64.07-.97c0-.33-.03-.66-.07-1l2.11-1.63c.19-.15.24-.42.12-.64l-2-3.46c-.12-.22-.39-.31-.61-.22l-2.49 1c-.52-.39-1.06-.73-1.69-.98l-.37-2.65A.506.506 0 0 0 14 2h-4c-.25 0-.46.18-.5.42l-.37 2.65c-.63.25-1.17.59-1.69.98l-2.49-1c-.22-.09-.49 0-.61.22l-2 3.46c-.13.22-.07.49.12.64L4.57 11c-.04.34-.07.67-.07 1c0 .33.03.65.07.97l-2.11 1.66c-.19.15-.25.42-.12.64l2 3.46c.12.22.39.3.61.22l2.49-1.01c.52.4 1.06.74 1.69.99l.37 2.65c.04.24.25.42.5.42h4c.25 0 .46-.18.5-.42l.37-2.65c.63-.26 1.17-.59 1.69-.99l2.49 1.01c.22.08.49 0 .61-.22l2-3.46c.12-.22.07-.49-.12-.64l-2.11-1.66z\" fill=\"#ffffff\"/><rect x=\"0\" y=\"0\" width=\"22\" height=\"22\" fill=\"rgba(0, 0, 0, 0)\" /></svg></a><div id=\"deg_selector\" class=\"dropdown-menu dropdown-menu-left pull-right text-center pt-3 pb-3\" aria-labelledby=\"config_btn\"><button id=\"fahrenheit\" class=\"btn btn-icon  btn-primary btn-sm m-b-5 fahrenheit units_btn active_btn\" data-info=\"country\"> ºF </button><button id=\"celcius\" class=\"btn btn-icon btn-lightblue btn-default btn-sm m-b-5 celcius units_btn inactive_btn\" data-info=\"country\"> ºC </button></div></li></ul></div></div></div></nav></div><div id=\"second-navbar\"><nav class=\"navbar second-navbar d-none d-md-block\"><div class=\"container\"><ul class=\"navbar-nav mr-auto\"><li class=\"nav-item nav-first pr-3 active menu-item\"><a title=\"Climate\" href=\"/\" class=\"nav-link\"><div class=\"d-none d-md-inline-block\"><svg xmlns=\"http://www.w3.org/2000/svg\" xmlns:xlink=\"http://www.w3.org/1999/xlink\" aria-hidden=\"true\" focusable=\"false\" width=\"16px\" height=\"16px\" style=\"vertical-align: -0.125em;-ms-transform: rotate(360deg); -webkit-transform: rotate(360deg); transform: rotate(360deg);\" preserveAspectRatio=\"xMidYMid meet\" viewBox=\"0 0 24 24\"><path d=\"M12 3l8 6v12h-5v-7H9v7H4V9l8-6z\" fill=\"#4c5667\"/><rect x=\"0\" y=\"0\" width=\"24\" height=\"24\" fill=\"rgba(0, 0, 0, 0)\" /></svg></div><span class=\"ml-2\">Home</span></a></li><li class=\"nav-item nav-second menu-item\"><a title=\"Climate United States\" href=\"/climate/united-states/us\" class=\"nav-link\"><span class=\"ml-2\"> United States</span></a></li><li class=\"nav-item nav-second\"><div><form role=\"search\" class=\"navbar-left app-search search\"><div id=\"search-field\" class=\"second-navig\"><input type=\"text\" class=\"typeahead form-control search-input\" aria-label=\"Enter a location\" placeholder=\"Enter a location\" /></div></form></div></li><li class=\"nav-item nav-second d-md-none\"><div id=\"deg_selector_small\" class=\"mt-4\"><button id=\"fahrenheit_small\" class=\"btn btn-icon btn-outline-lightgrey_active btn-sm m-b-5  units_btn\"> ºF </button><button id=\"celcius_small\" class=\"btn btn-outline-lightgrey btn-default btn-sm m-b-5  units_btn\"> ºC </button></div></li></ul><span class=\"pr-3 breadcrumb-pre-text\">You are here:</span><ol class=\"breadcrumb\" aria-label=\"breadcrumb\"><li class=\"breadcrumb-item\"> United States</li></ol></div></nav></div><div class=\"second-navbar collapse navbar-collapse navbarSupportedContent d-md-none\" id=\"navbarSupportedContent\"><div class=\"container\"><ul class=\"navbar-nav mr-auto\"><li class=\"nav-item nav-first pr-3 active menu-item\"><a title=\"Climate\" href=\"/\" class=\"nav-link\"><div class=\"d-none d-md-inline-block\"><svg xmlns=\"http://www.w3.org/2000/svg\" xmlns:xlink=\"http://www.w3.org/1999/xlink\" aria-hidden=\"true\" focusable=\"false\" width=\"16px\" height=\"16px\" style=\"vertical-align: -0.125em;-ms-transform: rotate(360deg); -webkit-transform: rotate(360deg); transform: rotate(360deg);\" preserveAspectRatio=\"xMidYMid meet\" viewBox=\"0 0 24 24\"><path d=\"M12 3l8 6v12h-5v-7H9v7H4V9l8-6z\" fill=\"#4c5667\"/><rect x=\"0\" y=\"0\" width=\"24\" height=\"24\" fill=\"rgba(0, 0, 0, 0)\" /></svg></div><span class=\"ml-2\">Home</span></a></li><li class=\"nav-item nav-second menu-item\"><a title=\"Climate United States\" href=\"/climate/united-states/us\" class=\"nav-link\"><span class=\"ml-2\"> United States</span></a></li><li class=\"nav-item nav-second\"><div><form role=\"search\" class=\"navbar-left app-search search\"><div id=\"search-field\" class=\"second-navig\"><input type=\"text\" class=\"typeahead form-control search-input\" aria-label=\"Enter a location\" placeholder=\"Enter a location\" /></div></form></div></li><li class=\"nav-item nav-second d-md-none\"><div id=\"deg_selector_small\" class=\"mt-4\"><button id=\"fahrenheit_small\" class=\"btn btn-icon btn-outline-lightgrey_active btn-sm m-b-5  units_btn\"> ºF </button><button id=\"celcius_small\" class=\"btn btn-outline-lightgrey btn-default btn-sm m-b-5  units_btn\"> ºC </button></div></li></ul></div></div></header>\\n<div class=\"container mt-4\">\\n    <div class=\"row\">\\n        <div class=\"col-lg-8 col-sm-12 col-12\">\\n\\t\\t\\t<div class=\"box ribbon-box d-none d-md-block\"><div class=\"ribbon ribbon-info float-right\"><svg xmlns=\"http://www.w3.org/2000/svg\" xmlns:xlink=\"http://www.w3.org/1999/xlink\" aria-hidden=\"true\" focusable=\"false\" width=\"14px\" height=\"14px\" style=\"vertical-align: text-top;margin-right:10px!important;-ms-transform: rotate(360deg); -webkit-transform: rotate(360deg); transform: rotate(360deg);\" preserveaspectratio=\"xMidYMid meet\" viewbox=\"0 0 24 24\"><path d=\"M12 11.5A2.5 2.5 0 0 1 9.5 9A2.5 2.5 0 0 1 12 6.5A2.5 2.5 0 0 1 14.5 9a2.5 2.5 0 0 1-2.5 2.5M12 2a7 7 0 0 0-7 7c0 5.25 7 13 7 13s7-7.75 7-13a7 7 0 0 0-7-7z\" fill=\"#ffffff\"/><rect x=\"0\" y=\"0\" width=\"24\" height=\"24\" fill=\"rgba(0, 0, 0, 0)\" /></svg>United States Map</div><div class=\"float-left mb-4 mt-2\"><p class=\"selection_title\">Select a state by name</p></div><div class=\"ribbon-content\"><div class=\"mapcontainer mt-5\"><div class=\"map\"><span>&nbsp;</span></div><div class=\"areaLegend\"></div><div class=\"plotLegend\"></div></div></div></div><div class=\"box ribbon-box\"><div class=\"ribbon ribbon-info float-right\"><svg xmlns=\"http://www.w3.org/2000/svg\" xmlns:xlink=\"http://www.w3.org/1999/xlink\" aria-hidden=\"true\" focusable=\"false\" width=\"14px\" height=\"14px\" style=\"vertical-align:text-top;margin-right:10px;-ms-transform: rotate(360deg); -webkit-transform: rotate(360deg); transform: rotate(360deg);\" preserveaspectratio=\"xMidYMid meet\" viewbox=\"0 0 24 24\"><path d=\"M4 3h16a2 2 0 0 1 2 2v15a2 2 0 0 1-2 2H4a2 2 0 0 1-2-2V5a2 2 0 0 1 2-2m0 4v3h4V7H4m6 0v3h4V7h-4m10 3V7h-4v3h4M4 12v3h4v-3H4m0 8h4v-3H4v3m6-8v3h4v-3h-4m0 8h4v-3h-4v3m10 0v-3h-4v3h4m0-8h-4v3h4v-3z\" fill=\"#ffffff\"/><rect x=\"0\" y=\"0\" width=\"24\" height=\"24\" fill=\"rgba(0, 0, 0, 0)\" /></svg><h3>United States Table</h3></div><div class=\"float-left mb-4 mt-2 states_table_title\"><p class=\"selection_title\">Select a state by name</p></div><div class=\"ribbon-content\"><div class=\"row states\"><div class=\"col-6 col-sm-4 state_name\"><a class=\"stretched-link\" title=\"Climate Alabama\" href=\"/climate/alabama/united-states/3170\">Alabama</a></div><div class=\"col-6 col-sm-4 state_name\"><a class=\"stretched-link\" title=\"Climate Alaska\" href=\"/climate/alaska/united-states/3171\">Alaska</a></div><div class=\"col-6 col-sm-4 state_name\"><a class=\"stretched-link\" title=\"Climate Arizona\" href=\"/climate/arizona/united-states/3172\">Arizona</a></div><div class=\"col-6 col-sm-4 state_name\"><a class=\"stretched-link\" title=\"Climate Arkansas\" href=\"/climate/arkansas/united-states/3173\">Arkansas</a></div><div class=\"col-6 col-sm-4 state_name\"><a class=\"stretched-link\" title=\"Climate California\" href=\"/climate/california/united-states/3174\">California</a></div><div class=\"col-6 col-sm-4 state_name\"><a class=\"stretched-link\" title=\"Climate Colorado\" href=\"/climate/colorado/united-states/3175\">Colorado</a></div><div class=\"col-6 col-sm-4 state_name\"><a class=\"stretched-link\" title=\"Climate Connecticut\" href=\"/climate/connecticut/united-states/3176\">Connecticut</a></div><div class=\"col-6 col-sm-4 state_name\"><a class=\"stretched-link\" title=\"Climate Delaware\" href=\"/climate/delaware/united-states/3177\">Delaware</a></div><div class=\"col-6 col-sm-4 state_name\"><a class=\"stretched-link\" title=\"Climate District of Columbia\" href=\"/climate/district-of-columbia/united-states/3178\"><span class=\"d-none d-sm-block\">District of Columbia</span><span class=\"d-block d-sm-none\">D.C.</span></a></div><div class=\"col-6 col-sm-4 state_name\"><a class=\"stretched-link\" title=\"Climate Florida\" href=\"/climate/florida/united-states/3179\">Florida</a></div><div class=\"col-6 col-sm-4 state_name\"><a class=\"stretched-link\" title=\"Climate Georgia\" href=\"/climate/georgia/united-states/3180\">Georgia</a></div><div class=\"col-6 col-sm-4 state_name\"><a class=\"stretched-link\" title=\"Climate Hawaii\" href=\"/climate/hawaii/united-states/3181\">Hawaii</a></div><div class=\"col-6 col-sm-4 state_name\"><a class=\"stretched-link\" title=\"Climate Idaho\" href=\"/climate/idaho/united-states/3182\">Idaho</a></div><div class=\"col-6 col-sm-4 state_name\"><a class=\"stretched-link\" title=\"Climate Illinois\" href=\"/climate/illinois/united-states/3183\">Illinois</a></div><div class=\"col-6 col-sm-4 state_name\"><a class=\"stretched-link\" title=\"Climate Indiana\" href=\"/climate/indiana/united-states/3184\">Indiana</a></div><div class=\"col-6 col-sm-4 state_name\"><a class=\"stretched-link\" title=\"Climate Iowa\" href=\"/climate/iowa/united-states/3185\">Iowa</a></div><div class=\"col-6 col-sm-4 state_name\"><a class=\"stretched-link\" title=\"Climate Kansas\" href=\"/climate/kansas/united-states/3186\">Kansas</a></div><div class=\"col-6 col-sm-4 state_name\"><a class=\"stretched-link\" title=\"Climate Kentucky\" href=\"/climate/kentucky/united-states/3187\">Kentucky</a></div><div class=\"col-6 col-sm-4 state_name\"><a class=\"stretched-link\" title=\"Climate Louisiana\" href=\"/climate/louisiana/united-states/3188\">Louisiana</a></div><div class=\"col-6 col-sm-4 state_name\"><a class=\"stretched-link\" title=\"Climate Maine\" href=\"/climate/maine/united-states/3189\">Maine</a></div><div class=\"col-6 col-sm-4 state_name\"><a class=\"stretched-link\" title=\"Climate Maryland\" href=\"/climate/maryland/united-states/1872\">Maryland</a></div><div class=\"col-6 col-sm-4 state_name\"><a class=\"stretched-link\" title=\"Climate Massachusetts\" href=\"/climate/massachusetts/united-states/3191\">Massachusetts</a></div><div class=\"col-6 col-sm-4 state_name\"><a class=\"stretched-link\" title=\"Climate Michigan\" href=\"/climate/michigan/united-states/3192\">Michigan</a></div><div class=\"col-6 col-sm-4 state_name\"><a class=\"stretched-link\" title=\"Climate Minnesota\" href=\"/climate/minnesota/united-states/3193\">Minnesota</a></div><div class=\"col-6 col-sm-4 state_name\"><a class=\"stretched-link\" title=\"Climate Mississippi\" href=\"/climate/mississippi/united-states/3194\">Mississippi</a></div><div class=\"col-6 col-sm-4 state_name\"><a class=\"stretched-link\" title=\"Climate Missouri\" href=\"/climate/missouri/united-states/3195\">Missouri</a></div><div class=\"col-6 col-sm-4 state_name\"><a class=\"stretched-link\" title=\"Climate Montana\" href=\"/climate/montana/united-states/919\">Montana</a></div><div class=\"col-6 col-sm-4 state_name\"><a class=\"stretched-link\" title=\"Climate Nebraska\" href=\"/climate/nebraska/united-states/3197\">Nebraska</a></div><div class=\"col-6 col-sm-4 state_name\"><a class=\"stretched-link\" title=\"Climate Nevada\" href=\"/climate/nevada/united-states/3198\">Nevada</a></div><div class=\"col-6 col-sm-4 state_name\"><a class=\"stretched-link\" title=\"Climate New Hampshire\" href=\"/climate/new-hampshire/united-states/3199\">New Hampshire</a></div><div class=\"col-6 col-sm-4 state_name\"><a class=\"stretched-link\" title=\"Climate New Jersey\" href=\"/climate/new-jersey/united-states/3200\">New Jersey</a></div><div class=\"col-6 col-sm-4 state_name\"><a class=\"stretched-link\" title=\"Climate New Mexico\" href=\"/climate/new-mexico/united-states/3201\">New Mexico</a></div><div class=\"col-6 col-sm-4 state_name\"><a class=\"stretched-link\" title=\"Climate New York\" href=\"/climate/new-york/united-states/3202\">New York</a></div><div class=\"col-6 col-sm-4 state_name\"><a class=\"stretched-link\" title=\"Climate North Carolina\" href=\"/climate/north-carolina/united-states/3203\">North Carolina</a></div><div class=\"col-6 col-sm-4 state_name\"><a class=\"stretched-link\" title=\"Climate North Dakota\" href=\"/climate/north-dakota/united-states/3204\">North Dakota</a></div><div class=\"col-6 col-sm-4 state_name\"><a class=\"stretched-link\" title=\"Climate Ohio\" href=\"/climate/ohio/united-states/3205\">Ohio</a></div><div class=\"col-6 col-sm-4 state_name\"><a class=\"stretched-link\" title=\"Climate Oklahoma\" href=\"/climate/oklahoma/united-states/3206\">Oklahoma</a></div><div class=\"col-6 col-sm-4 state_name\"><a class=\"stretched-link\" title=\"Climate Oregon\" href=\"/climate/oregon/united-states/3207\">Oregon</a></div><div class=\"col-6 col-sm-4 state_name\"><a class=\"stretched-link\" title=\"Climate Pennsylvania\" href=\"/climate/pennsylvania/united-states/3208\">Pennsylvania</a></div><div class=\"col-6 col-sm-4 state_name\"><a class=\"stretched-link\" title=\"Climate Puerto Rico\" href=\"/climate/puerto-rico/united-states/7335\">Puerto Rico</a></div><div class=\"col-6 col-sm-4 state_name\"><a class=\"stretched-link\" title=\"Climate Rhode Island\" href=\"/climate/rhode-island/united-states/3209\">Rhode Island</a></div><div class=\"col-6 col-sm-4 state_name\"><a class=\"stretched-link\" title=\"Climate South Carolina\" href=\"/climate/south-carolina/united-states/3210\">South Carolina</a></div><div class=\"col-6 col-sm-4 state_name\"><a class=\"stretched-link\" title=\"Climate South Dakota\" href=\"/climate/south-dakota/united-states/3211\">South Dakota</a></div><div class=\"col-6 col-sm-4 state_name\"><a class=\"stretched-link\" title=\"Climate Tennessee\" href=\"/climate/tennessee/united-states/3212\">Tennessee</a></div><div class=\"col-6 col-sm-4 state_name\"><a class=\"stretched-link\" title=\"Climate Texas\" href=\"/climate/texas/united-states/3213\">Texas</a></div><div class=\"col-6 col-sm-4 state_name\"><a class=\"stretched-link\" title=\"Climate Utah\" href=\"/climate/utah/united-states/3214\">Utah</a></div><div class=\"col-6 col-sm-4 state_name\"><a class=\"stretched-link\" title=\"Climate Vermont\" href=\"/climate/vermont/united-states/3215\">Vermont</a></div><div class=\"col-6 col-sm-4 state_name\"><a class=\"stretched-link\" title=\"Climate Virginia\" href=\"/climate/virginia/united-states/3216\">Virginia</a></div><div class=\"col-6 col-sm-4 state_name\"><a class=\"stretched-link\" title=\"Climate Washington\" href=\"/climate/washington/united-states/3217\">Washington</a></div><div class=\"col-6 col-sm-4 state_name\"><a class=\"stretched-link\" title=\"Climate West Virginia\" href=\"/climate/west-virginia/united-states/3218\">West Virginia</a></div><div class=\"col-6 col-sm-4 state_name\"><a class=\"stretched-link\" title=\"Climate Wisconsin\" href=\"/climate/wisconsin/united-states/3219\">Wisconsin</a></div><div class=\"col-6 col-sm-4 state_name\"><a class=\"stretched-link\" title=\"Climate Wyoming\" href=\"/climate/wyoming/united-states/3220\">Wyoming</a></div></div></div></div><div class=\"box\"><script async src=\"https://pagead2.googlesyndication.com/pagead/js/adsbygoogle.js?client=ca-pub-9519329606981542\" crossorigin=\"anonymous\"></script><!-- us-ad-banner-fixed --><ins class=\"adsbygoogle\"style=\"display:block\"data-ad-client=\"ca-pub-9519329606981542\"data-ad-slot=\"6126740073\"data-ad-format=\"auto\"></ins><script>(adsbygoogle = window.adsbygoogle || []).push({});</script></div><div id=\"monthly\"><div class=\"box\"><h1 class=\"mt-2\">Climate Washington - District of Columbia</h1><div id=\"monthly_spinner\" class=\"spinner-border graph-blue avatar-sm mt-4 d-none monthly_spinner\" role=\"status\"></div><div class=\"monthly_tables\"><!-- Averages January - June --><table id=\"monthly_table_one\" class=\"table table-hover tablesaw tablesaw-mode-swipe monthly_table\" data-tablesaw-mode=\"swipe\"><div class=\"tablesaw-bar tablesaw-mode-swipe\" style=\"min-height:40px\"></div><thead><tr><th class=\"title tablesaw-swipe-cellpersist\" data-tablesaw-priority=\"persist\" scope=\"col\" data-tablesaw-sortable-col=\"\">&nbsp;</th><th scope=\"col\" class=\"text-right\"><span class=\"d-none d-sm-block\"><abbr title=\"January\">Jan</abbr></span><span class=\"d-block d-sm-none\"><abbr title=\"January\">Ja</abbr></span></th><th scope=\"col\" class=\"text-right\"><span class=\"d-none d-sm-block\"><abbr title=\"February\">Feb</abbr></span><span class=\"d-block d-sm-none\"><abbr title=\"February\">Fe</abbr></span></th><th scope=\"col\" class=\"text-right\"><span class=\"d-none d-sm-block\"><abbr title=\"March\">Mar</abbr></span><span class=\"d-block d-sm-none\"><abbr title=\"March\">Ma</abbr></span></th><th scope=\"col\" class=\"text-right\"><span class=\"d-none d-sm-block\"><abbr title=\"April\">Apr</abbr></span><span class=\"d-block d-sm-none\"><abbr title=\"April\">Ap</abbr></span></th><th scope=\"col\" class=\"text-right\"><span class=\"d-none d-sm-block\"><abbr title=\"May\">May</abbr></span><span class=\"d-block d-sm-none\"><abbr title=\"May\">Ma</abbr></span></th><th scope=\"col\" class=\"text-right\"><span class=\"d-none d-sm-block\"><abbr title=\"June\">Jun</abbr></span><span class=\"d-block d-sm-none\"><abbr title=\"June\">Ju</abbr></span></th></tr></thead><tr><th data-tablesaw-priority=\"persist\" class=\"font-weight-normal\" scope=\"row\"><span class=\"d-none d-lg-block\">Average high in ºF </span><span class=\"d-none d-sm-block d-lg-none\">Av. high </span><span class=\"d-block d-sm-none\">Hi </span></td><td class=\"high text-right\">42</td><td class=\"high text-right\">44</td><td class=\"high text-right\">53</td><td class=\"high text-right\">64</td><td class=\"high text-right\">75</td><td class=\"high text-right\">83</td></tr><tr><th data-tablesaw-priority=\"persist\" class=\"font-weight-normal\" scope=\"row\"><span class=\"d-none d-lg-block\">Average low in ºF </span><span class=\"d-none d-sm-block d-lg-none\">Av. low </span><span class=\"d-block d-sm-none\">Lo </span></td><td class=\"low text-right\">27</td><td class=\"low text-right\">28</td><td class=\"low text-right\">35</td><td class=\"low text-right\">44</td><td class=\"low text-right\">54</td><td class=\"low text-right\">63</td></tr><tr><th data-tablesaw-priority=\"persist\" class=\"font-weight-normal\" scope=\"row\"><span class=\"d-none d-lg-block\">Days with precipitation </span><span class=\"d-none d-sm-block d-lg-none\">Days precip. </span><span class=\"d-block d-sm-none\">DP </span></td><td class=\"text-right\">11</td><td class=\"text-right\">8</td><td class=\"text-right\">12</td><td class=\"text-right\">10</td><td class=\"text-right\">12</td><td class=\"text-right\">9</td></tr><tr><th data-tablesaw-priority=\"persist\" class=\"font-weight-normal\" scope=\"row\"><span class=\"d-none d-lg-block\">Hours of sunshine </span><span class=\"d-none d-sm-block d-lg-none\">Hours sun. </span><span class=\"d-block d-sm-none\">Sun </span></td><td class=\"text-right\">76</td><td class=\"text-right\">97</td><td class=\"text-right\">135</td><td class=\"text-right\">182</td><td class=\"text-right\">221</td><td class=\"text-right\">214</td></tr><tr><th data-tablesaw-priority=\"persist\" class=\"font-weight-normal\" scope=\"row\"><span class=\"d-none d-lg-block\">Av. precipitation in inch </span><span class=\"d-none d-sm-block d-lg-none\">Av. precip. </span><span class=\"d-block d-sm-none\">Pre. </span></td><td class=\"text-right\">3.03</td><td class=\"text-right\">2.48</td><td class=\"text-right\">3.23</td><td class=\"text-right\">3.15</td><td class=\"text-right\">4.13</td><td class=\"text-right\">3.23</td></tr></table><!--  End Averages January - June --><!-- Averages July - December --><table id=\"monthly_table_two\" class=\"table table-hover tablesaw tablesaw-mode-swipe mb-4 monthly_table\" data-tablesaw-mode=\"swipe\"><div class=\"tablesaw-bar tablesaw-mode-swipe\" style=\"min-height:40px\"></div><thead><tr><th class=\"title tablesaw-swipe-cellpersist\" data-tablesaw-priority=\"persist\" scope=\"col\" data-tablesaw-sortable-col=\"\">&nbsp;</th><th scope=\"col\" class=\"text-right\"><span class=\"d-none d-sm-block\"><abbr title=\"July\">Jul</abbr></span><span class=\"d-block d-sm-none\"><abbr title=\"July\">Ju</abbr></span></th><th scope=\"col\" class=\"text-right\"><span class=\"d-none d-sm-block\"><abbr title=\"August\">Aug</abbr></span><span class=\"d-block d-sm-none\"><abbr title=\"August\">Au</abbr></span></th><th scope=\"col\" class=\"text-right\"><span class=\"d-none d-sm-block\"><abbr title=\"September\">Sep</abbr></span><span class=\"d-block d-sm-none\"><abbr title=\"September\">Se</abbr></span></th><th scope=\"col\" class=\"text-right\"><span class=\"d-none d-sm-block\"><abbr title=\"October\">Oct</abbr></span><span class=\"d-block d-sm-none\"><abbr title=\"October\">Oc</abbr></span></th><th scope=\"col\" class=\"text-right\"><span class=\"d-none d-sm-block\"><abbr title=\"November\">Nov</abbr></span><span class=\"d-block d-sm-none\"><abbr title=\"November\">No</abbr></span></th><th scope=\"col\" class=\"text-right\"><span class=\"d-none d-sm-block\"><abbr title=\"December\">Dec</abbr></span><span class=\"d-block d-sm-none\"><abbr title=\"December\">De</abbr></span></th></tr></thead><tr><th data-tablesaw-priority=\"persist\" class=\"font-weight-normal\" scope=\"row\"><span class=\"d-none d-lg-block\">Average high in ºF </span><span class=\"d-none d-sm-block d-lg-none\">Av. high </span><span class=\"d-block d-sm-none\">Hi </span></td><td class=\"high text-right\">87</td><td class=\"high text-right\">84</td><td class=\"high text-right\">78</td><td class=\"high text-right\">67</td><td class=\"high text-right\">55</td><td class=\"high text-right\">45</td></tr><tr><th data-tablesaw-priority=\"persist\" class=\"font-weight-normal\" scope=\"row\"><span class=\"d-none d-lg-block\">Average low in ºF </span><span class=\"d-none d-sm-block d-lg-none\">Av. low </span><span class=\"d-block d-sm-none\">Lo </span></td><td class=\"low text-right\">68</td><td class=\"low text-right\">66</td><td class=\"low text-right\">59</td><td class=\"low text-right\">48</td><td class=\"low text-right\">38</td><td class=\"low text-right\">29</td></tr><tr><th data-tablesaw-priority=\"persist\" class=\"font-weight-normal\" scope=\"row\"><span class=\"d-none d-lg-block\">Days with precipitation </span><span class=\"d-none d-sm-block d-lg-none\">Days precip. </span><span class=\"d-block d-sm-none\">DP </span></td><td class=\"text-right\">10</td><td class=\"text-right\">10</td><td class=\"text-right\">8</td><td class=\"text-right\">8</td><td class=\"text-right\">8</td><td class=\"text-right\">9</td></tr><tr><th data-tablesaw-priority=\"persist\" class=\"font-weight-normal\" scope=\"row\"><span class=\"d-none d-lg-block\">Hours of sunshine </span><span class=\"d-none d-sm-block d-lg-none\">Hours sun. </span><span class=\"d-block d-sm-none\">Sun </span></td><td class=\"text-right\">226</td><td class=\"text-right\">186</td><td class=\"text-right\">170</td><td class=\"text-right\">123</td><td class=\"text-right\">87</td><td class=\"text-right\">66</td></tr><tr><th data-tablesaw-priority=\"persist\" class=\"font-weight-normal\" scope=\"row\"><span class=\"d-none d-lg-block\">Av. precipitation in inch </span><span class=\"d-none d-sm-block d-lg-none\">Av. precip. </span><span class=\"d-block d-sm-none\">Pre. </span></td><td class=\"text-right\">4.13</td><td class=\"text-right\">4.88</td><td class=\"text-right\">3.82</td><td class=\"text-right\">3.07</td><td class=\"text-right\">2.83</td><td class=\"text-right\">2.80</td></tr></table><!-- End Averages July - December --></div><div class=\"month_box mt-4\" style=\"min-height:392px;\"><h2>Washington Climate Graph - District of Columbia Climate Chart</h2><div id=\"chart-div\"></div></div><p><svg xmlns=\"http://www.w3.org/2000/svg\" xmlns:xlink=\"http://www.w3.org/1999/xlink\" aria-hidden=\"true\" focusable=\"false\" width=\"16px\" height=\"16px\" style=\"vertical-align: text-bottom;-ms-transform: rotate(360deg); -webkit-transform: rotate(360deg); transform: rotate(360deg);\" preserveaspectratio=\"xMidYMid meet\" viewbox=\"0 0 24 24\"><path d=\"M15 13V5a3 3 0 0 0-6 0v8a5 5 0 1 0 6 0m-3-9a1 1 0 0 1 1 1v3h-2V5a1 1 0 0 1 1-1z\" fill=\"#0659b0\"/><rect x=\"0\" y=\"0\" width=\"24\" height=\"24\" fill=\"rgba(0, 0, 0, 0)\" /></svg><a class=\"ml-2\" title=\"Climate\" href=\"/climate/washington/district-of-columbia/united-states/usdc0001\">More Climate Data Washington</a></p></div></div>        </div>\\n        <div class=\"col-lg-4\">\\n\\t\\t\\t<div class=\"box\"><script async src=\"https://pagead2.googlesyndication.com/pagead/js/adsbygoogle.js?client=ca-pub-9519329606981542\" crossorigin=\"anonymous\"></script>\\n            <!-- us-display-vertical-responsive -->\\n            <ins class=\"adsbygoogle\"\\n                 style=\"display:block\"\\n                 data-ad-client=\"ca-pub-9519329606981542\"\\n                 data-ad-slot=\"7246589884\"\\n                 data-ad-format=\"auto\"\\n                 data-full-width-responsive=\"true\"></ins>\\n            <script>\\n                 (adsbygoogle = window.adsbygoogle || []).push({});\\n            </script></div><div id=\"share\" class=\"box\"><p class=\"lead\">Share</p><a class=\"resp-sharing-button__link\" href=\" https://facebook.com/sharer/sharer.php?u=https://www.usclimatedata.com/climate/united-states/us\" target=\"_blank\" rel=\"noopener noreferrer\" aria-label=\"\"><div class=\"resp-sharing-button resp-sharing-button--facebook resp-sharing-button--small\"><div aria-hidden=\"true\" class=\"resp-sharing-button__icon resp-sharing-button__icon--solid\"><svg xmlns=\"http://www.w3.org/2000/svg\"  width=\"16\" height=\"16\" viewbox=\"0 0 24 24\"><path d=\"M18.77 7.46H14.5v-1.9c0-.9.6-1.1 1-1.1h3V.5h-4.33C10.24.5 9.5 3.44 9.5 5.32v2.15h-3v4h3v12h5v-12h3.85l.42-4z\"/></svg></div></div></a><a class=\"resp-sharing-button__link\" href=\"https://twitter.com/intent/tweet/?text=Climate+United+States+-+Normals+and+averages&url=https://www.usclimatedata.com/climate/united-states/us\" target=\"_blank\" rel=\"noopener noreferrer\" aria-label=\"\"><div class=\"resp-sharing-button resp-sharing-button--twitter resp-sharing-button--small\"><div aria-hidden=\"true\" class=\"resp-sharing-button__icon resp-sharing-button__icon--solid\"><svg xmlns=\"http://www.w3.org/2000/svg\"  width=\"16\" height=\"16\" viewbox=\"0 0 24 24\"><path d=\"M23.44 4.83c-.8.37-1.5.38-2.22.02.93-.56.98-.96 1.32-2.02-.88.52-1.86.9-2.9 1.1-.82-.88-2-1.43-3.3-1.43-2.5 0-4.55 2.04-4.55 4.54 0 .36.03.7.1 1.04-3.77-.2-7.12-2-9.36-4.75-.4.67-.6 1.45-.6 2.3 0 1.56.8 2.95 2 3.77-.74-.03-1.44-.23-2.05-.57v.06c0 2.2 1.56 4.03 3.64 4.44-.67.2-1.37.2-2.06.08.58 1.8 2.26 3.12 4.25 3.16C5.78 18.1 3.37 18.74 1 18.46c2 1.3 4.4 2.04 6.97 2.04 8.35 0 12.92-6.92 12.92-12.93 0-.2 0-.4-.02-.6.9-.63 1.96-1.22 2.56-2.14z\"/></svg></div></div></a><a class=\"resp-sharing-button__link\" href=\"https://pinterest.com/pin/create/button/?url=https://www.usclimatedata.com/climate/united-states/us&amp;media=description=Climate+United+States+-+Normals+and+averages\" target=\"_blank\" rel=\"noopener noreferrer\" aria-label=\"\"><div class=\"resp-sharing-button resp-sharing-button--pinterest resp-sharing-button--small\"><div aria-hidden=\"true\" class=\"resp-sharing-button__icon resp-sharing-button__icon--solid\"><svg xmlns=\"http://www.w3.org/2000/svg\" width=\"16\" height=\"16\" viewbox=\"0 0 24 24\"><path d=\"M12.14.5C5.86.5 2.7 5 2.7 8.75c0 2.27.86 4.3 2.7 5.05.3.12.57 0 .66-.33l.27-1.06c.1-.32.06-.44-.2-.73-.52-.62-.86-1.44-.86-2.6 0-3.33 2.5-6.32 6.5-6.32 3.55 0 5.5 2.17 5.5 5.07 0 3.8-1.7 7.02-4.2 7.02-1.37 0-2.4-1.14-2.07-2.54.4-1.68 1.16-3.48 1.16-4.7 0-1.07-.58-1.98-1.78-1.98-1.4 0-2.55 1.47-2.55 3.42 0 1.25.43 2.1.43 2.1l-1.7 7.2c-.5 2.13-.08 4.75-.04 5 .02.17.22.2.3.1.14-.18 1.82-2.26 2.4-4.33.16-.58.93-3.63.93-3.63.45.88 1.8 1.65 3.22 1.65 4.25 0 7.13-3.87 7.13-9.05C20.5 4.15 17.18.5 12.14.5z\"/></svg></div></div></a><a class=\"resp-sharing-button__link\" href=\"mailto:mail@example.com?subject=Climate+United+States+-+Normals+and+averages&body=Climate+United+States+-+Normals+and+averages+-+https%3A%2F%2Fwww.usclimatedata.com%2Fclimate%2Funited-states%2Fus\" target=\"_self\" rel=\"noopener noreferrer\" aria-label=\"\"><div class=\"resp-sharing-button resp-sharing-button--email resp-sharing-button--small\"><div aria-hidden=\"true\" class=\"resp-sharing-button__icon resp-sharing-button__icon--solid\"><svg xmlns=\"http://www.w3.org/2000/svg\" width=\"16\" height=\"16\" viewbox=\"0 0 24 24\"><path d=\"M22 4H2C.9 4 0 4.9 0 6v12c0 1.1.9 2 2 2h20c1.1 0 2-.9 2-2V6c0-1.1-.9-2-2-2zM7.25 14.43l-3.5 2c-.08.05-.17.07-.25.07-.17 0-.34-.1-.43-.25-.14-.24-.06-.55.18-.68l3.5-2c.24-.14.55-.06.68.18.14.24.06.55-.18.68zm4.75.07c-.1 0-.2-.03-.27-.08l-8.5-5.5c-.23-.15-.3-.46-.15-.7.15-.22.46-.3.7-.14L12 13.4l8.23-5.32c.23-.15.54-.08.7.15.14.23.07.54-.16.7l-8.5 5.5c-.08.04-.17.07-.27.07zm8.93 1.75c-.1.16-.26.25-.43.25-.08 0-.17-.02-.25-.07l-3.5-2c-.24-.13-.32-.44-.18-.68s.44-.32.68-.18l3.5 2c.24.13.32.44.18.68z\"/></svg></div></div></a><a class=\"resp-sharing-button__link\" href=\"https://www.tumblr.com/widgets/share/tool?posttype=link&amp;title=Climate+United+States+-+Normals+and+averages&amp;caption=&amp;content=Climate+United+States+-+Normals+and+averages+-+https%3A%2F%2Fwww.usclimatedata.com%2Fclimate%2Funited-states%2Fus&amp;canonicalUrl=https://www.usclimatedata.com/climate/united-states/us&amp;shareSource=tumblr_share_button\" target=\"_blank\" rel=\"noopener noreferrer\" aria-label=\"Share on Tumblr\"><div class=\"resp-sharing-button resp-sharing-button--tumblr resp-sharing-button--small\"><div aria-hidden=\"true\" class=\"resp-sharing-button__icon resp-sharing-button__icon--solid\"><svg xmlns=\"http://www.w3.org/2000/svg\"  width=\"16\" height=\"16\" viewbox=\"0 0 24 24\"><path d=\"M13.5.5v5h5v4h-5V15c0 5 3.5 4.4 6 2.8v4.4c-6.7 3.2-12 0-12-4.2V9.5h-3V6.7c1-.3 2.2-.7 3-1.3.5-.5 1-1.2 1.4-2 .3-.7.6-1.7.7-3h3.8z\"/></svg></div></div></a><div class=\"d-inline d-sm-none\"><a class=\"resp-sharing-button__link\" href=\"whatsapp://send?text=Climate+United+States+-+Normals+and+averages+-+https%3A%2F%2Fwww.usclimatedata.com%2Fclimate%2Funited-states%2Fus\" data-action=\"share/whatsapp/share\" target=\"_blank\" rel=\"noopener noreferrer\" aria-label=\"\"><div class=\"resp-sharing-button resp-sharing-button--whatsapp resp-sharing-button--small\"><div aria-hidden=\"true\" class=\"resp-sharing-button__icon resp-sharing-button__icon--solid\"><svg xmlns=\"http://www.w3.org/2000/svg\"   width=\"16\" height=\"16\" viewbox=\"0 0 24 24\"><path d=\"M20.1 3.9C17.9 1.7 15 .5 12 .5 5.8.5.7 5.6.7 11.9c0 2 .5 3.9 1.5 5.6L.6 23.4l6-1.6c1.6.9 3.5 1.3 5.4 1.3 6.3 0 11.4-5.1 11.4-11.4-.1-2.8-1.2-5.7-3.3-7.8zM12 21.4c-1.7 0-3.3-.5-4.8-1.3l-.4-.2-3.5 1 1-3.4L4 17c-1-1.5-1.4-3.2-1.4-5.1 0-5.2 4.2-9.4 9.4-9.4 2.5 0 4.9 1 6.7 2.8 1.8 1.8 2.8 4.2 2.8 6.7-.1 5.2-4.3 9.4-9.5 9.4zm5.1-7.1c-.3-.1-1.7-.9-1.9-1-.3-.1-.5-.1-.7.1-.2.3-.8 1-.9 1.1-.2.2-.3.2-.6.1s-1.2-.5-2.3-1.4c-.9-.8-1.4-1.7-1.6-2-.2-.3 0-.5.1-.6s.3-.3.4-.5c.2-.1.3-.3.4-.5.1-.2 0-.4 0-.5C10 9 9.3 7.6 9 7c-.1-.4-.4-.3-.5-.3h-.6s-.4.1-.7.3c-.3.3-1 1-1 2.4s1 2.8 1.1 3c.1.2 2 3.1 4.9 4.3.7.3 1.2.5 1.6.6.7.2 1.3.2 1.8.1.6-.1 1.7-.7 1.9-1.3.2-.7.2-1.2.2-1.3-.1-.3-.3-.4-.6-.5z\"/></svg></div></div></a></div></div><div id=\"climate_info\" class=\"box\"><p class=\"lead\">Station Data</p><p>Monthly averages Washington<br>Longitude: -77.0377, Latitude: 38.8521<br>Average weather Washington, DC - 22202</p><p>Monthly: 1981-2010 normals</p></div><div id=\"legend\" class=\"box\"><p class=\"lead\">Abbreviations</p><div id=\"legend_spinner\" class=\"spinner-border graph-blue avatar-sm mt-4 d-none legend_spinner\" role=\"status\"></div><div class=\"legend_content\"><p class=\"legend_txt\"><span class=\"d-none d-lg-block\">Average precipitation in : Av. precipitation in <br><abbr title=\"January\">Jan</abbr>: January, <abbr title=\"February\">Feb</abbr>: February,  ...</span><span class=\"d-none d-sm-block d-lg-none\"><abbr title=\"January\">Jan</abbr>: January, <abbr title=\"February\">Feb</abbr>: February,  ...</span><span class=\"d-block d-sm-none\"><abbr title=\"January\">Ja</abbr>: January, <abbr title=\"February\">Fe</abbr>: February,  ...</span></p></div></div>        </div>\\n    </div>\\n</div>\\n<div class=\"container\"><div class=\"row\"><footer class=\"col-12 text-center\"><div class=\"box the-footer\"><div><p>© US Climate Data <span class=\"d-md-inline d-none\"> 2022</span><span> | version 3.0</span><span class=\"d-md-inline d-none\"> | by US Climate Data | </span><span class=\"d-lg-inline d-none\"><a rel=\"noopener noreferrer\" target=\"_blank\" title=\"Facebook Your Weather Service\" class=\"ml-1 mr-1\" href=\"https://www.facebook.com/yourweatherservice\"><svg xmlns=\"https://www.w3.org/2000/svg\" aria-hidden=\"true\" focusable=\"false\" width=\"11px\" height=\"11px\"  style=\"vertical-align:baseline;-ms-transform: rotate(360deg); -webkit-transform: rotate(360deg); transform: rotate(360deg);\" preserveaspectratio=\"xMidYMid meet\" viewbox=\"0 0 512 512\" xml:space=\"preserve\"><path style=\"fill:#385C8E;\" d=\"M134.941,272.691h56.123v231.051c0,4.562,3.696,8.258,8.258,8.258h95.159\\n\\t\\tc4.562,0,8.258-3.696,8.258-8.258V273.78h64.519c4.195,0,7.725-3.148,8.204-7.315l9.799-85.061c0.269-2.34-0.472-4.684-2.038-6.44\\n\\t\\tc-1.567-1.757-3.81-2.763-6.164-2.763h-74.316V118.88c0-16.073,8.654-24.224,25.726-24.224c2.433,0,48.59,0,48.59,0\\n\\t\\tc4.562,0,8.258-3.698,8.258-8.258V8.319c0-4.562-3.696-8.258-8.258-8.258h-66.965C309.622,0.038,308.573,0,307.027,0\\n\\t\\tc-11.619,0-52.006,2.281-83.909,31.63c-35.348,32.524-30.434,71.465-29.26,78.217v62.352h-58.918c-4.562,0-8.258,3.696-8.258,8.258\\n\\t\\tv83.975C126.683,268.993,130.379,272.691,134.941,272.691z\"/><rect x=\"0\" y=\"0\" width=\"24\" height=\"24\" fill=\"rgba(0, 0, 0, 0)\" /></svg></a><a rel=\"noopener noreferrer\" target=\"_blank\" class=\"ml-1\" title=\"Twitter US Climate Data\" href=\"https://twitter.com/usclimatedata\"><svg xmlns=\"https://www.w3.org/2000/svg\" aria-hidden=\"true\" focusable=\"false\" width=\"14px\" height=\"14px\" style=\"vertical-align:text-top;-ms-transform: rotate(360deg); -webkit-transform: rotate(360deg); transform: rotate(360deg);\" preserveaspectratio=\"xMidYMid meet\" viewbox=\"0 0 24 24\"><path d=\"M22.46 6c-.77.35-1.6.58-2.46.69c.88-.53 1.56-1.37 1.88-2.38c-.83.5-1.75.85-2.72 1.05C18.37 4.5 17.26 4 16 4c-2.35 0-4.27 1.92-4.27 4.29c0 .34.04.67.11.98C8.28 9.09 5.11 7.38 3 4.79c-.37.63-.58 1.37-.58 2.15c0 1.49.75 2.81 1.91 3.56c-.71 0-1.37-.2-1.95-.5v.03c0 2.08 1.48 3.82 3.44 4.21a4.22 4.22 0 0 1-1.93.07a4.28 4.28 0 0 0 4 2.98a8.521 8.521 0 0 1-5.33 1.84c-.34 0-.68-.02-1.02-.06C3.44 20.29 5.7 21 8.12 21C16 21 20.33 14.46 20.33 8.79c0-.19 0-.37-.01-.56c.84-.6 1.56-1.36 2.14-2.23z\" fill=\"#1DA1F2\"/><rect x=\"0\" y=\"0\" width=\"24\" height=\"24\" fill=\"rgba(0, 0, 0, 0)\" /></svg></a></span></p></div><div><p class=\"right-footer\"><a title=\"About us - Disclaimer - Cookies\" href=\"/website-info\">About us - Disclaimer - Cookies</a></p></div></div></footer></div></div><script src=\"https://cdnjs.cloudflare.com//ajax/libs/jquery/3.6.0/jquery.min.js\" integrity=\"sha512-894YE6QWD5I59HgZOGReFYm4dnWc1Qt5NtvYSaNcOP+u1T9qYdvdihz0PPSiiqn/+/3e7Jo4EaG7TubfWGUrMQ==\" crossorigin=\"anonymous\"></script><script>\\n            if (typeof jQuery == \"undefined\") { // Fallback jQuery\\n               // document.write(\\'<script src=\"/assets/js/jquery.min.js\"><\\\\/script>\\');\\n            }\\n        </script><script src=\"https://cdnjs.cloudflare.com//ajax/libs/twitter-bootstrap/4.4.1/js/bootstrap.bundle.min.js\" integrity=\"sha512-c4wThPPCMmu4xsVufJHokogA9X4ka58cy9cEYf5t147wSw0Zo43fwdTy/IC0k1oLxXcUlPvWZMnD8be61swW7g==\" crossorigin=\"anonymous\"></script><script>\\n            if (typeof $.fn.modal == \"undefined\") {\\n               // document.write(\\'<script src=\"/assets/js/bootstrap.bundle.min.js\"><\\\\/script>\\');\\n            }\\n        </script><script src=\"/assets/js/passive-slimscroll.min.js\"></script><script async src=\"/assets/js/jquery.app-core.min.js\"></script><script src=\"/assets/js/typeahead.min.js\"></script><script defer src=\"/assets/js/tablesaw.min.js\"></script><script async src=\"/assets/js/waves-tether.min.js\"></script><script defer src=\\'https://www.gstatic.com/charts/loader.js\\'></script>\\n<script defer src=\"/assets/js/raphael.min.js\"></script><script defer src=\"/assets/js/jquery.mapael.min.js\"></script><script defer src=\"/javascript/usa_states.min.js\"></script><script>\\n    $(document).ready(function () {\\n        $(window).resize(function () {\\n            if (this.resizeTO) clearTimeout(this.resizeTO);\\n            this.resizeTO = setTimeout(function () {\\n                $(this).trigger(\\'resizeEnd\\');\\n            }, 500);\\n        });\\n        $(window).on(\\'resizeEnd\\', function () {\\n            if (google || google.visualization) {\\n                drawVisualization();\\n            }\\n        });\\n        Tablesaw.init(\"#monthly\");\\n    });\\n</script>\\n<script>\\n\\tvar averages_title = \\'Washington weather averages\\';var monthly_summary = \\'<table class=\"table table-hover tablesaw monthly_summary_table\" data-tablesaw-hide-empty><thead><tr><th>&nbsp;</th><th>&nbsp;</th></tr></thead><tbody><tr><td>Annual high temperature</td><td class=\"high\">65ºF</td></tr><tr><td>Annual low temperature</td><td class=\"low\">47ºF</td></tr><tr><td>Days per year with precip.</td><td>115 days</td></tr><tr><td>Annual hours of sunshine</td><td>1783 hours</td></tr><tr><td>Average annual precip.</td><td>40.78 inch</td></tr></tbody></table>\\';var monthly_data = false;</script>\\n<script>\\n    var the_zone_system = \"american\";\\n    var the_location = \"usdc0001\";\\n    var the_page_name = \"country\";\\n    var the_token = \"5723985e5b2997cdc35a62ab949a2440/PrhyDd2XPAbWDMMUrBws50IcRCtWAJg89n+Vcuu6WkQvo/0Pw==\";\\n</script>\\n<script defer src=\"/javascript/mapael-maps.min.js\"></script><script defer src=\"/javascript/table-saw.min.js\"></script><script async src=\"/javascript/small.min.js\"></script><script defer src=\"/javascript/monthly-data.js\"></script><script async src=\"/javascript/units-selection.js\"></script><script async src=\"/javascript/typeahead.min.js\"></script><script>if(\\'serviceWorker\\' in navigator) { navigator.serviceWorker.register(\\'/service-worker.js\\').then(function(reg){ console.log(\"Service worker Active\");}).catch(function(err) { console.log(\"Service worker inactive\")});}</script></body>\\n</html>\\n'"
            ],
            "application/vnd.google.colaboratory.intrinsic+json": {
              "type": "string"
            }
          },
          "metadata": {},
          "execution_count": 6
        }
      ]
    },
    {
      "cell_type": "code",
      "source": [
        "from bs4 import BeautifulSoup"
      ],
      "metadata": {
        "id": "TjEjKWEIsbVq"
      },
      "execution_count": 7,
      "outputs": []
    },
    {
      "cell_type": "code",
      "source": [
        "soup = BeautifulSoup(r.text)"
      ],
      "metadata": {
        "id": "9mFkkunosnk9"
      },
      "execution_count": 8,
      "outputs": []
    },
    {
      "cell_type": "code",
      "source": [
        "soup.title #Puedo acceder al contenido de esos packs como si fueran atributos de Python (title/head/body, etc)"
      ],
      "metadata": {
        "colab": {
          "base_uri": "https://localhost:8080/"
        },
        "id": "TX296WChsvjd",
        "outputId": "83a4b3c1-51b7-4870-8f88-5a04127271fd"
      },
      "execution_count": 13,
      "outputs": [
        {
          "output_type": "execute_result",
          "data": {
            "text/plain": [
              "<title>Climate United States - Normals and averages</title>"
            ]
          },
          "metadata": {},
          "execution_count": 13
        }
      ]
    },
    {
      "cell_type": "code",
      "source": [
        "soup.title.text"
      ],
      "metadata": {
        "colab": {
          "base_uri": "https://localhost:8080/",
          "height": 36
        },
        "id": "skQvH8XutKkj",
        "outputId": "722f6817-2d85-40b3-bd8c-4670115c4c31"
      },
      "execution_count": 14,
      "outputs": [
        {
          "output_type": "execute_result",
          "data": {
            "text/plain": [
              "'Climate United States - Normals and averages'"
            ],
            "application/vnd.google.colaboratory.intrinsic+json": {
              "type": "string"
            }
          },
          "metadata": {},
          "execution_count": 14
        }
      ]
    },
    {
      "cell_type": "code",
      "source": [
        "soup.title.string"
      ],
      "metadata": {
        "colab": {
          "base_uri": "https://localhost:8080/",
          "height": 36
        },
        "id": "QFx_2Y96tS-Q",
        "outputId": "054606b0-9086-4e99-e8a2-48a9e65b10c6"
      },
      "execution_count": 15,
      "outputs": [
        {
          "output_type": "execute_result",
          "data": {
            "text/plain": [
              "'Climate United States - Normals and averages'"
            ],
            "application/vnd.google.colaboratory.intrinsic+json": {
              "type": "string"
            }
          },
          "metadata": {},
          "execution_count": 15
        }
      ]
    },
    {
      "cell_type": "code",
      "source": [
        "soup.p #Solo me brinda la primer párrafo, pero quiero poder conocer todas"
      ],
      "metadata": {
        "colab": {
          "base_uri": "https://localhost:8080/"
        },
        "id": "vjbhrA-vtWUs",
        "outputId": "e031a4df-b5ea-468b-bb81-b30d38de70b7"
      },
      "execution_count": 17,
      "outputs": [
        {
          "output_type": "execute_result",
          "data": {
            "text/plain": [
              "<p class=\"selection_title\">Select a state by name</p>"
            ]
          },
          "metadata": {},
          "execution_count": 17
        }
      ]
    },
    {
      "cell_type": "code",
      "source": [
        "soup.p.text"
      ],
      "metadata": {
        "colab": {
          "base_uri": "https://localhost:8080/",
          "height": 36
        },
        "id": "YAtx-3lUtxoC",
        "outputId": "fcf14fe8-6391-4859-91a9-f617355e8a0b"
      },
      "execution_count": 19,
      "outputs": [
        {
          "output_type": "execute_result",
          "data": {
            "text/plain": [
              "'Select a state by name'"
            ],
            "application/vnd.google.colaboratory.intrinsic+json": {
              "type": "string"
            }
          },
          "metadata": {},
          "execution_count": 19
        }
      ]
    },
    {
      "cell_type": "code",
      "source": [
        "soup.a #Son las etiquetas que contienen los hipervínculos"
      ],
      "metadata": {
        "colab": {
          "base_uri": "https://localhost:8080/"
        },
        "id": "x_-Hvj_ItsNz",
        "outputId": "c7cd5cce-49cd-44ac-bfff-f5156592808f"
      },
      "execution_count": 18,
      "outputs": [
        {
          "output_type": "execute_result",
          "data": {
            "text/plain": [
              "<a class=\"navbar-brand\" href=\"/\" title=\"Temperature - Precipitation - Sunshine - Snowfall\"><img alt=\"Temperature - Precipitation - Sunshine - Snowfall\" data-src=\"https://www.usclimatedata.com/assets/images/us-climate-data.png\" height=\"34\" src=\"https://www.usclimatedata.com/assets/images/us-climate-data.png\" srcset=\"https://www.usclimatedata.com/assets/images/us-climate-data.png 1x, https://www.usclimatedata.com/assets/images/us-climate-data-2.png 2x\" width=\"31\"/><span class=\"white ml-2\">U.S. Climate Data</span></a>"
            ]
          },
          "metadata": {},
          "execution_count": 18
        }
      ]
    },
    {
      "cell_type": "code",
      "source": [
        "soup.a['title'] #Como title no es la etiqueta porque ahora lo es \"a\", tenemos que acceder a title como si fuera diccionario."
      ],
      "metadata": {
        "colab": {
          "base_uri": "https://localhost:8080/",
          "height": 36
        },
        "id": "_0Hxfuopt0aU",
        "outputId": "db47d0c0-6b5c-40a0-f785-22bd8eb5c547"
      },
      "execution_count": 21,
      "outputs": [
        {
          "output_type": "execute_result",
          "data": {
            "text/plain": [
              "'Temperature - Precipitation - Sunshine - Snowfall'"
            ],
            "application/vnd.google.colaboratory.intrinsic+json": {
              "type": "string"
            }
          },
          "metadata": {},
          "execution_count": 21
        }
      ]
    },
    {
      "cell_type": "code",
      "source": [
        "soup.p.parent #El resultado es la división padre que contiene a mi párrafo, \n",
        "#este comando puede ser recursivo, es decir, puedo ver el padre de mi padre (abuelo)"
      ],
      "metadata": {
        "colab": {
          "base_uri": "https://localhost:8080/"
        },
        "id": "N842-Qsjt_wg",
        "outputId": "fb995b73-ef49-4f21-8497-1c6efa681404"
      },
      "execution_count": 29,
      "outputs": [
        {
          "output_type": "execute_result",
          "data": {
            "text/plain": [
              "<div class=\"float-left mb-4 mt-2\"><p class=\"selection_title\">Select a state by name</p></div>"
            ]
          },
          "metadata": {},
          "execution_count": 29
        }
      ]
    },
    {
      "cell_type": "code",
      "source": [
        "soup.p.parent.parent #Abuelo"
      ],
      "metadata": {
        "colab": {
          "base_uri": "https://localhost:8080/"
        },
        "id": "oXY1E5rIuRiB",
        "outputId": "4fea69ca-c041-4b54-d9bd-85db36774db5"
      },
      "execution_count": 24,
      "outputs": [
        {
          "output_type": "execute_result",
          "data": {
            "text/plain": [
              "<div class=\"box ribbon-box d-none d-md-block\"><div class=\"ribbon ribbon-info float-right\"><svg aria-hidden=\"true\" focusable=\"false\" height=\"14px\" preserveaspectratio=\"xMidYMid meet\" style=\"vertical-align: text-top;margin-right:10px!important;-ms-transform: rotate(360deg); -webkit-transform: rotate(360deg); transform: rotate(360deg);\" viewbox=\"0 0 24 24\" width=\"14px\" xmlns=\"http://www.w3.org/2000/svg\" xmlns:xlink=\"http://www.w3.org/1999/xlink\"><path d=\"M12 11.5A2.5 2.5 0 0 1 9.5 9A2.5 2.5 0 0 1 12 6.5A2.5 2.5 0 0 1 14.5 9a2.5 2.5 0 0 1-2.5 2.5M12 2a7 7 0 0 0-7 7c0 5.25 7 13 7 13s7-7.75 7-13a7 7 0 0 0-7-7z\" fill=\"#ffffff\"></path><rect fill=\"rgba(0, 0, 0, 0)\" height=\"24\" width=\"24\" x=\"0\" y=\"0\"></rect></svg>United States Map</div><div class=\"float-left mb-4 mt-2\"><p class=\"selection_title\">Select a state by name</p></div><div class=\"ribbon-content\"><div class=\"mapcontainer mt-5\"><div class=\"map\"><span> </span></div><div class=\"areaLegend\"></div><div class=\"plotLegend\"></div></div></div></div>"
            ]
          },
          "metadata": {},
          "execution_count": 24
        }
      ]
    },
    {
      "cell_type": "code",
      "source": [
        "print(soup.p.parent.prettify()) #Se imprime más estético/bonito --> con prettify (Cómo si se estuviera programando)"
      ],
      "metadata": {
        "colab": {
          "base_uri": "https://localhost:8080/"
        },
        "id": "f-DWYFxbuXeb",
        "outputId": "4413622a-e497-4a3e-ac62-0731e9d87e63"
      },
      "execution_count": 27,
      "outputs": [
        {
          "output_type": "stream",
          "name": "stdout",
          "text": [
            "<div class=\"float-left mb-4 mt-2\">\n",
            " <p class=\"selection_title\">\n",
            "  Select a state by name\n",
            " </p>\n",
            "</div>\n",
            "\n"
          ]
        }
      ]
    },
    {
      "cell_type": "code",
      "source": [
        "soup.find_all('p') #Me regresa una lista con todas las etiquetas \"p\""
      ],
      "metadata": {
        "colab": {
          "base_uri": "https://localhost:8080/"
        },
        "id": "CfVwkP93utSn",
        "outputId": "ff70c82f-23e3-4d8b-c0ed-fe6051749ce8"
      },
      "execution_count": 30,
      "outputs": [
        {
          "output_type": "execute_result",
          "data": {
            "text/plain": [
              "[<p class=\"selection_title\">Select a state by name</p>,\n",
              " <p class=\"selection_title\">Select a state by name</p>,\n",
              " <p><svg aria-hidden=\"true\" focusable=\"false\" height=\"16px\" preserveaspectratio=\"xMidYMid meet\" style=\"vertical-align: text-bottom;-ms-transform: rotate(360deg); -webkit-transform: rotate(360deg); transform: rotate(360deg);\" viewbox=\"0 0 24 24\" width=\"16px\" xmlns=\"http://www.w3.org/2000/svg\" xmlns:xlink=\"http://www.w3.org/1999/xlink\"><path d=\"M15 13V5a3 3 0 0 0-6 0v8a5 5 0 1 0 6 0m-3-9a1 1 0 0 1 1 1v3h-2V5a1 1 0 0 1 1-1z\" fill=\"#0659b0\"></path><rect fill=\"rgba(0, 0, 0, 0)\" height=\"24\" width=\"24\" x=\"0\" y=\"0\"></rect></svg><a class=\"ml-2\" href=\"/climate/washington/district-of-columbia/united-states/usdc0001\" title=\"Climate\">More Climate Data Washington</a></p>,\n",
              " <p class=\"lead\">Share</p>,\n",
              " <p class=\"lead\">Station Data</p>,\n",
              " <p>Monthly averages Washington<br/>Longitude: -77.0377, Latitude: 38.8521<br/>Average weather Washington, DC - 22202</p>,\n",
              " <p>Monthly: 1981-2010 normals</p>,\n",
              " <p class=\"lead\">Abbreviations</p>,\n",
              " <p class=\"legend_txt\"><span class=\"d-none d-lg-block\">Average precipitation in : Av. precipitation in <br/><abbr title=\"January\">Jan</abbr>: January, <abbr title=\"February\">Feb</abbr>: February,  ...</span><span class=\"d-none d-sm-block d-lg-none\"><abbr title=\"January\">Jan</abbr>: January, <abbr title=\"February\">Feb</abbr>: February,  ...</span><span class=\"d-block d-sm-none\"><abbr title=\"January\">Ja</abbr>: January, <abbr title=\"February\">Fe</abbr>: February,  ...</span></p>,\n",
              " <p>© US Climate Data <span class=\"d-md-inline d-none\"> 2022</span><span> | version 3.0</span><span class=\"d-md-inline d-none\"> | by US Climate Data | </span><span class=\"d-lg-inline d-none\"><a class=\"ml-1 mr-1\" href=\"https://www.facebook.com/yourweatherservice\" rel=\"noopener noreferrer\" target=\"_blank\" title=\"Facebook Your Weather Service\"><svg aria-hidden=\"true\" focusable=\"false\" height=\"11px\" preserveaspectratio=\"xMidYMid meet\" style=\"vertical-align:baseline;-ms-transform: rotate(360deg); -webkit-transform: rotate(360deg); transform: rotate(360deg);\" viewbox=\"0 0 512 512\" width=\"11px\" xml:space=\"preserve\" xmlns=\"https://www.w3.org/2000/svg\"><path d=\"M134.941,272.691h56.123v231.051c0,4.562,3.696,8.258,8.258,8.258h95.159\n",
              " \t\tc4.562,0,8.258-3.696,8.258-8.258V273.78h64.519c4.195,0,7.725-3.148,8.204-7.315l9.799-85.061c0.269-2.34-0.472-4.684-2.038-6.44\n",
              " \t\tc-1.567-1.757-3.81-2.763-6.164-2.763h-74.316V118.88c0-16.073,8.654-24.224,25.726-24.224c2.433,0,48.59,0,48.59,0\n",
              " \t\tc4.562,0,8.258-3.698,8.258-8.258V8.319c0-4.562-3.696-8.258-8.258-8.258h-66.965C309.622,0.038,308.573,0,307.027,0\n",
              " \t\tc-11.619,0-52.006,2.281-83.909,31.63c-35.348,32.524-30.434,71.465-29.26,78.217v62.352h-58.918c-4.562,0-8.258,3.696-8.258,8.258\n",
              " \t\tv83.975C126.683,268.993,130.379,272.691,134.941,272.691z\" style=\"fill:#385C8E;\"></path><rect fill=\"rgba(0, 0, 0, 0)\" height=\"24\" width=\"24\" x=\"0\" y=\"0\"></rect></svg></a><a class=\"ml-1\" href=\"https://twitter.com/usclimatedata\" rel=\"noopener noreferrer\" target=\"_blank\" title=\"Twitter US Climate Data\"><svg aria-hidden=\"true\" focusable=\"false\" height=\"14px\" preserveaspectratio=\"xMidYMid meet\" style=\"vertical-align:text-top;-ms-transform: rotate(360deg); -webkit-transform: rotate(360deg); transform: rotate(360deg);\" viewbox=\"0 0 24 24\" width=\"14px\" xmlns=\"https://www.w3.org/2000/svg\"><path d=\"M22.46 6c-.77.35-1.6.58-2.46.69c.88-.53 1.56-1.37 1.88-2.38c-.83.5-1.75.85-2.72 1.05C18.37 4.5 17.26 4 16 4c-2.35 0-4.27 1.92-4.27 4.29c0 .34.04.67.11.98C8.28 9.09 5.11 7.38 3 4.79c-.37.63-.58 1.37-.58 2.15c0 1.49.75 2.81 1.91 3.56c-.71 0-1.37-.2-1.95-.5v.03c0 2.08 1.48 3.82 3.44 4.21a4.22 4.22 0 0 1-1.93.07a4.28 4.28 0 0 0 4 2.98a8.521 8.521 0 0 1-5.33 1.84c-.34 0-.68-.02-1.02-.06C3.44 20.29 5.7 21 8.12 21C16 21 20.33 14.46 20.33 8.79c0-.19 0-.37-.01-.56c.84-.6 1.56-1.36 2.14-2.23z\" fill=\"#1DA1F2\"></path><rect fill=\"rgba(0, 0, 0, 0)\" height=\"24\" width=\"24\" x=\"0\" y=\"0\"></rect></svg></a></span></p>,\n",
              " <p class=\"right-footer\"><a href=\"/website-info\" title=\"About us - Disclaimer - Cookies\">About us - Disclaimer - Cookies</a></p>]"
            ]
          },
          "metadata": {},
          "execution_count": 30
        }
      ]
    },
    {
      "cell_type": "markdown",
      "source": [
        "Vamos a crear un DataFrame con todas las temperaturas máximas y mínimas (De Enero a Diciembre) de todos los Estados:"
      ],
      "metadata": {
        "id": "0c7SyTyZvrzp"
      }
    },
    {
      "cell_type": "code",
      "source": [
        "soup.find_all('a') #De aquì sacamos todos los hipervínculos"
      ],
      "metadata": {
        "colab": {
          "base_uri": "https://localhost:8080/"
        },
        "id": "sOPmThMMvlW5",
        "outputId": "9c31476a-bd3b-43a7-c73d-08bf8f5f0861"
      },
      "execution_count": 33,
      "outputs": [
        {
          "output_type": "execute_result",
          "data": {
            "text/plain": [
              "[<a class=\"navbar-brand\" href=\"/\" title=\"Temperature - Precipitation - Sunshine - Snowfall\"><img alt=\"Temperature - Precipitation - Sunshine - Snowfall\" data-src=\"https://www.usclimatedata.com/assets/images/us-climate-data.png\" height=\"34\" src=\"https://www.usclimatedata.com/assets/images/us-climate-data.png\" srcset=\"https://www.usclimatedata.com/assets/images/us-climate-data.png 1x, https://www.usclimatedata.com/assets/images/us-climate-data-2.png 2x\" width=\"31\"/><span class=\"white ml-2\">U.S. Climate Data</span></a>,\n",
              " <a aria-expanded=\"false\" aria-haspopup=\"true\" class=\"nav-link dropdown-toggle\" data-toggle=\"dropdown\" href=\"#\" id=\"config_btn\" title=\"Select Fahrenheit or Celcius\"><span class=\"sr-only\">Toggle Dropdown</span><svg aria-hidden=\"true\" focusable=\"false\" height=\"18px\" preserveaspectratio=\"xMidYMid meet\" style=\"vertical-align:text-bottom; -ms-transform: rotate(360deg); -webkit-transform: rotate(360deg); transform: rotate(360deg);\" viewbox=\"0 0 24 24\" width=\"18px\" xmlns=\"http://www.w3.org/2000/svg\" xmlns:xlink=\"http://www.w3.org/1999/xlink\"><path d=\"M12 15.5A3.5 3.5 0 0 1 8.5 12A3.5 3.5 0 0 1 12 8.5a3.5 3.5 0 0 1 3.5 3.5a3.5 3.5 0 0 1-3.5 3.5m7.43-2.53c.04-.32.07-.64.07-.97c0-.33-.03-.66-.07-1l2.11-1.63c.19-.15.24-.42.12-.64l-2-3.46c-.12-.22-.39-.31-.61-.22l-2.49 1c-.52-.39-1.06-.73-1.69-.98l-.37-2.65A.506.506 0 0 0 14 2h-4c-.25 0-.46.18-.5.42l-.37 2.65c-.63.25-1.17.59-1.69.98l-2.49-1c-.22-.09-.49 0-.61.22l-2 3.46c-.13.22-.07.49.12.64L4.57 11c-.04.34-.07.67-.07 1c0 .33.03.65.07.97l-2.11 1.66c-.19.15-.25.42-.12.64l2 3.46c.12.22.39.3.61.22l2.49-1.01c.52.4 1.06.74 1.69.99l.37 2.65c.04.24.25.42.5.42h4c.25 0 .46-.18.5-.42l.37-2.65c.63-.26 1.17-.59 1.69-.99l2.49 1.01c.22.08.49 0 .61-.22l2-3.46c.12-.22.07-.49-.12-.64l-2.11-1.66z\" fill=\"#ffffff\"></path><rect fill=\"rgba(0, 0, 0, 0)\" height=\"22\" width=\"22\" x=\"0\" y=\"0\"></rect></svg></a>,\n",
              " <a class=\"nav-link\" href=\"/\" title=\"Climate\"><div class=\"d-none d-md-inline-block\"><svg aria-hidden=\"true\" focusable=\"false\" height=\"16px\" preserveaspectratio=\"xMidYMid meet\" style=\"vertical-align: -0.125em;-ms-transform: rotate(360deg); -webkit-transform: rotate(360deg); transform: rotate(360deg);\" viewbox=\"0 0 24 24\" width=\"16px\" xmlns=\"http://www.w3.org/2000/svg\" xmlns:xlink=\"http://www.w3.org/1999/xlink\"><path d=\"M12 3l8 6v12h-5v-7H9v7H4V9l8-6z\" fill=\"#4c5667\"></path><rect fill=\"rgba(0, 0, 0, 0)\" height=\"24\" width=\"24\" x=\"0\" y=\"0\"></rect></svg></div><span class=\"ml-2\">Home</span></a>,\n",
              " <a class=\"nav-link\" href=\"/climate/united-states/us\" title=\"Climate United States\"><span class=\"ml-2\"> United States</span></a>,\n",
              " <a class=\"nav-link\" href=\"/\" title=\"Climate\"><div class=\"d-none d-md-inline-block\"><svg aria-hidden=\"true\" focusable=\"false\" height=\"16px\" preserveaspectratio=\"xMidYMid meet\" style=\"vertical-align: -0.125em;-ms-transform: rotate(360deg); -webkit-transform: rotate(360deg); transform: rotate(360deg);\" viewbox=\"0 0 24 24\" width=\"16px\" xmlns=\"http://www.w3.org/2000/svg\" xmlns:xlink=\"http://www.w3.org/1999/xlink\"><path d=\"M12 3l8 6v12h-5v-7H9v7H4V9l8-6z\" fill=\"#4c5667\"></path><rect fill=\"rgba(0, 0, 0, 0)\" height=\"24\" width=\"24\" x=\"0\" y=\"0\"></rect></svg></div><span class=\"ml-2\">Home</span></a>,\n",
              " <a class=\"nav-link\" href=\"/climate/united-states/us\" title=\"Climate United States\"><span class=\"ml-2\"> United States</span></a>,\n",
              " <a class=\"stretched-link\" href=\"/climate/alabama/united-states/3170\" title=\"Climate Alabama\">Alabama</a>,\n",
              " <a class=\"stretched-link\" href=\"/climate/alaska/united-states/3171\" title=\"Climate Alaska\">Alaska</a>,\n",
              " <a class=\"stretched-link\" href=\"/climate/arizona/united-states/3172\" title=\"Climate Arizona\">Arizona</a>,\n",
              " <a class=\"stretched-link\" href=\"/climate/arkansas/united-states/3173\" title=\"Climate Arkansas\">Arkansas</a>,\n",
              " <a class=\"stretched-link\" href=\"/climate/california/united-states/3174\" title=\"Climate California\">California</a>,\n",
              " <a class=\"stretched-link\" href=\"/climate/colorado/united-states/3175\" title=\"Climate Colorado\">Colorado</a>,\n",
              " <a class=\"stretched-link\" href=\"/climate/connecticut/united-states/3176\" title=\"Climate Connecticut\">Connecticut</a>,\n",
              " <a class=\"stretched-link\" href=\"/climate/delaware/united-states/3177\" title=\"Climate Delaware\">Delaware</a>,\n",
              " <a class=\"stretched-link\" href=\"/climate/district-of-columbia/united-states/3178\" title=\"Climate District of Columbia\"><span class=\"d-none d-sm-block\">District of Columbia</span><span class=\"d-block d-sm-none\">D.C.</span></a>,\n",
              " <a class=\"stretched-link\" href=\"/climate/florida/united-states/3179\" title=\"Climate Florida\">Florida</a>,\n",
              " <a class=\"stretched-link\" href=\"/climate/georgia/united-states/3180\" title=\"Climate Georgia\">Georgia</a>,\n",
              " <a class=\"stretched-link\" href=\"/climate/hawaii/united-states/3181\" title=\"Climate Hawaii\">Hawaii</a>,\n",
              " <a class=\"stretched-link\" href=\"/climate/idaho/united-states/3182\" title=\"Climate Idaho\">Idaho</a>,\n",
              " <a class=\"stretched-link\" href=\"/climate/illinois/united-states/3183\" title=\"Climate Illinois\">Illinois</a>,\n",
              " <a class=\"stretched-link\" href=\"/climate/indiana/united-states/3184\" title=\"Climate Indiana\">Indiana</a>,\n",
              " <a class=\"stretched-link\" href=\"/climate/iowa/united-states/3185\" title=\"Climate Iowa\">Iowa</a>,\n",
              " <a class=\"stretched-link\" href=\"/climate/kansas/united-states/3186\" title=\"Climate Kansas\">Kansas</a>,\n",
              " <a class=\"stretched-link\" href=\"/climate/kentucky/united-states/3187\" title=\"Climate Kentucky\">Kentucky</a>,\n",
              " <a class=\"stretched-link\" href=\"/climate/louisiana/united-states/3188\" title=\"Climate Louisiana\">Louisiana</a>,\n",
              " <a class=\"stretched-link\" href=\"/climate/maine/united-states/3189\" title=\"Climate Maine\">Maine</a>,\n",
              " <a class=\"stretched-link\" href=\"/climate/maryland/united-states/1872\" title=\"Climate Maryland\">Maryland</a>,\n",
              " <a class=\"stretched-link\" href=\"/climate/massachusetts/united-states/3191\" title=\"Climate Massachusetts\">Massachusetts</a>,\n",
              " <a class=\"stretched-link\" href=\"/climate/michigan/united-states/3192\" title=\"Climate Michigan\">Michigan</a>,\n",
              " <a class=\"stretched-link\" href=\"/climate/minnesota/united-states/3193\" title=\"Climate Minnesota\">Minnesota</a>,\n",
              " <a class=\"stretched-link\" href=\"/climate/mississippi/united-states/3194\" title=\"Climate Mississippi\">Mississippi</a>,\n",
              " <a class=\"stretched-link\" href=\"/climate/missouri/united-states/3195\" title=\"Climate Missouri\">Missouri</a>,\n",
              " <a class=\"stretched-link\" href=\"/climate/montana/united-states/919\" title=\"Climate Montana\">Montana</a>,\n",
              " <a class=\"stretched-link\" href=\"/climate/nebraska/united-states/3197\" title=\"Climate Nebraska\">Nebraska</a>,\n",
              " <a class=\"stretched-link\" href=\"/climate/nevada/united-states/3198\" title=\"Climate Nevada\">Nevada</a>,\n",
              " <a class=\"stretched-link\" href=\"/climate/new-hampshire/united-states/3199\" title=\"Climate New Hampshire\">New Hampshire</a>,\n",
              " <a class=\"stretched-link\" href=\"/climate/new-jersey/united-states/3200\" title=\"Climate New Jersey\">New Jersey</a>,\n",
              " <a class=\"stretched-link\" href=\"/climate/new-mexico/united-states/3201\" title=\"Climate New Mexico\">New Mexico</a>,\n",
              " <a class=\"stretched-link\" href=\"/climate/new-york/united-states/3202\" title=\"Climate New York\">New York</a>,\n",
              " <a class=\"stretched-link\" href=\"/climate/north-carolina/united-states/3203\" title=\"Climate North Carolina\">North Carolina</a>,\n",
              " <a class=\"stretched-link\" href=\"/climate/north-dakota/united-states/3204\" title=\"Climate North Dakota\">North Dakota</a>,\n",
              " <a class=\"stretched-link\" href=\"/climate/ohio/united-states/3205\" title=\"Climate Ohio\">Ohio</a>,\n",
              " <a class=\"stretched-link\" href=\"/climate/oklahoma/united-states/3206\" title=\"Climate Oklahoma\">Oklahoma</a>,\n",
              " <a class=\"stretched-link\" href=\"/climate/oregon/united-states/3207\" title=\"Climate Oregon\">Oregon</a>,\n",
              " <a class=\"stretched-link\" href=\"/climate/pennsylvania/united-states/3208\" title=\"Climate Pennsylvania\">Pennsylvania</a>,\n",
              " <a class=\"stretched-link\" href=\"/climate/puerto-rico/united-states/7335\" title=\"Climate Puerto Rico\">Puerto Rico</a>,\n",
              " <a class=\"stretched-link\" href=\"/climate/rhode-island/united-states/3209\" title=\"Climate Rhode Island\">Rhode Island</a>,\n",
              " <a class=\"stretched-link\" href=\"/climate/south-carolina/united-states/3210\" title=\"Climate South Carolina\">South Carolina</a>,\n",
              " <a class=\"stretched-link\" href=\"/climate/south-dakota/united-states/3211\" title=\"Climate South Dakota\">South Dakota</a>,\n",
              " <a class=\"stretched-link\" href=\"/climate/tennessee/united-states/3212\" title=\"Climate Tennessee\">Tennessee</a>,\n",
              " <a class=\"stretched-link\" href=\"/climate/texas/united-states/3213\" title=\"Climate Texas\">Texas</a>,\n",
              " <a class=\"stretched-link\" href=\"/climate/utah/united-states/3214\" title=\"Climate Utah\">Utah</a>,\n",
              " <a class=\"stretched-link\" href=\"/climate/vermont/united-states/3215\" title=\"Climate Vermont\">Vermont</a>,\n",
              " <a class=\"stretched-link\" href=\"/climate/virginia/united-states/3216\" title=\"Climate Virginia\">Virginia</a>,\n",
              " <a class=\"stretched-link\" href=\"/climate/washington/united-states/3217\" title=\"Climate Washington\">Washington</a>,\n",
              " <a class=\"stretched-link\" href=\"/climate/west-virginia/united-states/3218\" title=\"Climate West Virginia\">West Virginia</a>,\n",
              " <a class=\"stretched-link\" href=\"/climate/wisconsin/united-states/3219\" title=\"Climate Wisconsin\">Wisconsin</a>,\n",
              " <a class=\"stretched-link\" href=\"/climate/wyoming/united-states/3220\" title=\"Climate Wyoming\">Wyoming</a>,\n",
              " <a class=\"ml-2\" href=\"/climate/washington/district-of-columbia/united-states/usdc0001\" title=\"Climate\">More Climate Data Washington</a>,\n",
              " <a aria-label=\"\" class=\"resp-sharing-button__link\" href=\" https://facebook.com/sharer/sharer.php?u=https://www.usclimatedata.com/climate/united-states/us\" rel=\"noopener noreferrer\" target=\"_blank\"><div class=\"resp-sharing-button resp-sharing-button--facebook resp-sharing-button--small\"><div aria-hidden=\"true\" class=\"resp-sharing-button__icon resp-sharing-button__icon--solid\"><svg height=\"16\" viewbox=\"0 0 24 24\" width=\"16\" xmlns=\"http://www.w3.org/2000/svg\"><path d=\"M18.77 7.46H14.5v-1.9c0-.9.6-1.1 1-1.1h3V.5h-4.33C10.24.5 9.5 3.44 9.5 5.32v2.15h-3v4h3v12h5v-12h3.85l.42-4z\"></path></svg></div></div></a>,\n",
              " <a aria-label=\"\" class=\"resp-sharing-button__link\" href=\"https://twitter.com/intent/tweet/?text=Climate+United+States+-+Normals+and+averages&amp;url=https://www.usclimatedata.com/climate/united-states/us\" rel=\"noopener noreferrer\" target=\"_blank\"><div class=\"resp-sharing-button resp-sharing-button--twitter resp-sharing-button--small\"><div aria-hidden=\"true\" class=\"resp-sharing-button__icon resp-sharing-button__icon--solid\"><svg height=\"16\" viewbox=\"0 0 24 24\" width=\"16\" xmlns=\"http://www.w3.org/2000/svg\"><path d=\"M23.44 4.83c-.8.37-1.5.38-2.22.02.93-.56.98-.96 1.32-2.02-.88.52-1.86.9-2.9 1.1-.82-.88-2-1.43-3.3-1.43-2.5 0-4.55 2.04-4.55 4.54 0 .36.03.7.1 1.04-3.77-.2-7.12-2-9.36-4.75-.4.67-.6 1.45-.6 2.3 0 1.56.8 2.95 2 3.77-.74-.03-1.44-.23-2.05-.57v.06c0 2.2 1.56 4.03 3.64 4.44-.67.2-1.37.2-2.06.08.58 1.8 2.26 3.12 4.25 3.16C5.78 18.1 3.37 18.74 1 18.46c2 1.3 4.4 2.04 6.97 2.04 8.35 0 12.92-6.92 12.92-12.93 0-.2 0-.4-.02-.6.9-.63 1.96-1.22 2.56-2.14z\"></path></svg></div></div></a>,\n",
              " <a aria-label=\"\" class=\"resp-sharing-button__link\" href=\"https://pinterest.com/pin/create/button/?url=https://www.usclimatedata.com/climate/united-states/us&amp;media=description=Climate+United+States+-+Normals+and+averages\" rel=\"noopener noreferrer\" target=\"_blank\"><div class=\"resp-sharing-button resp-sharing-button--pinterest resp-sharing-button--small\"><div aria-hidden=\"true\" class=\"resp-sharing-button__icon resp-sharing-button__icon--solid\"><svg height=\"16\" viewbox=\"0 0 24 24\" width=\"16\" xmlns=\"http://www.w3.org/2000/svg\"><path d=\"M12.14.5C5.86.5 2.7 5 2.7 8.75c0 2.27.86 4.3 2.7 5.05.3.12.57 0 .66-.33l.27-1.06c.1-.32.06-.44-.2-.73-.52-.62-.86-1.44-.86-2.6 0-3.33 2.5-6.32 6.5-6.32 3.55 0 5.5 2.17 5.5 5.07 0 3.8-1.7 7.02-4.2 7.02-1.37 0-2.4-1.14-2.07-2.54.4-1.68 1.16-3.48 1.16-4.7 0-1.07-.58-1.98-1.78-1.98-1.4 0-2.55 1.47-2.55 3.42 0 1.25.43 2.1.43 2.1l-1.7 7.2c-.5 2.13-.08 4.75-.04 5 .02.17.22.2.3.1.14-.18 1.82-2.26 2.4-4.33.16-.58.93-3.63.93-3.63.45.88 1.8 1.65 3.22 1.65 4.25 0 7.13-3.87 7.13-9.05C20.5 4.15 17.18.5 12.14.5z\"></path></svg></div></div></a>,\n",
              " <a aria-label=\"\" class=\"resp-sharing-button__link\" href=\"mailto:mail@example.com?subject=Climate+United+States+-+Normals+and+averages&amp;body=Climate+United+States+-+Normals+and+averages+-+https%3A%2F%2Fwww.usclimatedata.com%2Fclimate%2Funited-states%2Fus\" rel=\"noopener noreferrer\" target=\"_self\"><div class=\"resp-sharing-button resp-sharing-button--email resp-sharing-button--small\"><div aria-hidden=\"true\" class=\"resp-sharing-button__icon resp-sharing-button__icon--solid\"><svg height=\"16\" viewbox=\"0 0 24 24\" width=\"16\" xmlns=\"http://www.w3.org/2000/svg\"><path d=\"M22 4H2C.9 4 0 4.9 0 6v12c0 1.1.9 2 2 2h20c1.1 0 2-.9 2-2V6c0-1.1-.9-2-2-2zM7.25 14.43l-3.5 2c-.08.05-.17.07-.25.07-.17 0-.34-.1-.43-.25-.14-.24-.06-.55.18-.68l3.5-2c.24-.14.55-.06.68.18.14.24.06.55-.18.68zm4.75.07c-.1 0-.2-.03-.27-.08l-8.5-5.5c-.23-.15-.3-.46-.15-.7.15-.22.46-.3.7-.14L12 13.4l8.23-5.32c.23-.15.54-.08.7.15.14.23.07.54-.16.7l-8.5 5.5c-.08.04-.17.07-.27.07zm8.93 1.75c-.1.16-.26.25-.43.25-.08 0-.17-.02-.25-.07l-3.5-2c-.24-.13-.32-.44-.18-.68s.44-.32.68-.18l3.5 2c.24.13.32.44.18.68z\"></path></svg></div></div></a>,\n",
              " <a aria-label=\"Share on Tumblr\" class=\"resp-sharing-button__link\" href=\"https://www.tumblr.com/widgets/share/tool?posttype=link&amp;title=Climate+United+States+-+Normals+and+averages&amp;caption=&amp;content=Climate+United+States+-+Normals+and+averages+-+https%3A%2F%2Fwww.usclimatedata.com%2Fclimate%2Funited-states%2Fus&amp;canonicalUrl=https://www.usclimatedata.com/climate/united-states/us&amp;shareSource=tumblr_share_button\" rel=\"noopener noreferrer\" target=\"_blank\"><div class=\"resp-sharing-button resp-sharing-button--tumblr resp-sharing-button--small\"><div aria-hidden=\"true\" class=\"resp-sharing-button__icon resp-sharing-button__icon--solid\"><svg height=\"16\" viewbox=\"0 0 24 24\" width=\"16\" xmlns=\"http://www.w3.org/2000/svg\"><path d=\"M13.5.5v5h5v4h-5V15c0 5 3.5 4.4 6 2.8v4.4c-6.7 3.2-12 0-12-4.2V9.5h-3V6.7c1-.3 2.2-.7 3-1.3.5-.5 1-1.2 1.4-2 .3-.7.6-1.7.7-3h3.8z\"></path></svg></div></div></a>,\n",
              " <a aria-label=\"\" class=\"resp-sharing-button__link\" data-action=\"share/whatsapp/share\" href=\"whatsapp://send?text=Climate+United+States+-+Normals+and+averages+-+https%3A%2F%2Fwww.usclimatedata.com%2Fclimate%2Funited-states%2Fus\" rel=\"noopener noreferrer\" target=\"_blank\"><div class=\"resp-sharing-button resp-sharing-button--whatsapp resp-sharing-button--small\"><div aria-hidden=\"true\" class=\"resp-sharing-button__icon resp-sharing-button__icon--solid\"><svg height=\"16\" viewbox=\"0 0 24 24\" width=\"16\" xmlns=\"http://www.w3.org/2000/svg\"><path d=\"M20.1 3.9C17.9 1.7 15 .5 12 .5 5.8.5.7 5.6.7 11.9c0 2 .5 3.9 1.5 5.6L.6 23.4l6-1.6c1.6.9 3.5 1.3 5.4 1.3 6.3 0 11.4-5.1 11.4-11.4-.1-2.8-1.2-5.7-3.3-7.8zM12 21.4c-1.7 0-3.3-.5-4.8-1.3l-.4-.2-3.5 1 1-3.4L4 17c-1-1.5-1.4-3.2-1.4-5.1 0-5.2 4.2-9.4 9.4-9.4 2.5 0 4.9 1 6.7 2.8 1.8 1.8 2.8 4.2 2.8 6.7-.1 5.2-4.3 9.4-9.5 9.4zm5.1-7.1c-.3-.1-1.7-.9-1.9-1-.3-.1-.5-.1-.7.1-.2.3-.8 1-.9 1.1-.2.2-.3.2-.6.1s-1.2-.5-2.3-1.4c-.9-.8-1.4-1.7-1.6-2-.2-.3 0-.5.1-.6s.3-.3.4-.5c.2-.1.3-.3.4-.5.1-.2 0-.4 0-.5C10 9 9.3 7.6 9 7c-.1-.4-.4-.3-.5-.3h-.6s-.4.1-.7.3c-.3.3-1 1-1 2.4s1 2.8 1.1 3c.1.2 2 3.1 4.9 4.3.7.3 1.2.5 1.6.6.7.2 1.3.2 1.8.1.6-.1 1.7-.7 1.9-1.3.2-.7.2-1.2.2-1.3-.1-.3-.3-.4-.6-.5z\"></path></svg></div></div></a>,\n",
              " <a class=\"ml-1 mr-1\" href=\"https://www.facebook.com/yourweatherservice\" rel=\"noopener noreferrer\" target=\"_blank\" title=\"Facebook Your Weather Service\"><svg aria-hidden=\"true\" focusable=\"false\" height=\"11px\" preserveaspectratio=\"xMidYMid meet\" style=\"vertical-align:baseline;-ms-transform: rotate(360deg); -webkit-transform: rotate(360deg); transform: rotate(360deg);\" viewbox=\"0 0 512 512\" width=\"11px\" xml:space=\"preserve\" xmlns=\"https://www.w3.org/2000/svg\"><path d=\"M134.941,272.691h56.123v231.051c0,4.562,3.696,8.258,8.258,8.258h95.159\n",
              " \t\tc4.562,0,8.258-3.696,8.258-8.258V273.78h64.519c4.195,0,7.725-3.148,8.204-7.315l9.799-85.061c0.269-2.34-0.472-4.684-2.038-6.44\n",
              " \t\tc-1.567-1.757-3.81-2.763-6.164-2.763h-74.316V118.88c0-16.073,8.654-24.224,25.726-24.224c2.433,0,48.59,0,48.59,0\n",
              " \t\tc4.562,0,8.258-3.698,8.258-8.258V8.319c0-4.562-3.696-8.258-8.258-8.258h-66.965C309.622,0.038,308.573,0,307.027,0\n",
              " \t\tc-11.619,0-52.006,2.281-83.909,31.63c-35.348,32.524-30.434,71.465-29.26,78.217v62.352h-58.918c-4.562,0-8.258,3.696-8.258,8.258\n",
              " \t\tv83.975C126.683,268.993,130.379,272.691,134.941,272.691z\" style=\"fill:#385C8E;\"></path><rect fill=\"rgba(0, 0, 0, 0)\" height=\"24\" width=\"24\" x=\"0\" y=\"0\"></rect></svg></a>,\n",
              " <a class=\"ml-1\" href=\"https://twitter.com/usclimatedata\" rel=\"noopener noreferrer\" target=\"_blank\" title=\"Twitter US Climate Data\"><svg aria-hidden=\"true\" focusable=\"false\" height=\"14px\" preserveaspectratio=\"xMidYMid meet\" style=\"vertical-align:text-top;-ms-transform: rotate(360deg); -webkit-transform: rotate(360deg); transform: rotate(360deg);\" viewbox=\"0 0 24 24\" width=\"14px\" xmlns=\"https://www.w3.org/2000/svg\"><path d=\"M22.46 6c-.77.35-1.6.58-2.46.69c.88-.53 1.56-1.37 1.88-2.38c-.83.5-1.75.85-2.72 1.05C18.37 4.5 17.26 4 16 4c-2.35 0-4.27 1.92-4.27 4.29c0 .34.04.67.11.98C8.28 9.09 5.11 7.38 3 4.79c-.37.63-.58 1.37-.58 2.15c0 1.49.75 2.81 1.91 3.56c-.71 0-1.37-.2-1.95-.5v.03c0 2.08 1.48 3.82 3.44 4.21a4.22 4.22 0 0 1-1.93.07a4.28 4.28 0 0 0 4 2.98a8.521 8.521 0 0 1-5.33 1.84c-.34 0-.68-.02-1.02-.06C3.44 20.29 5.7 21 8.12 21C16 21 20.33 14.46 20.33 8.79c0-.19 0-.37-.01-.56c.84-.6 1.56-1.36 2.14-2.23z\" fill=\"#1DA1F2\"></path><rect fill=\"rgba(0, 0, 0, 0)\" height=\"24\" width=\"24\" x=\"0\" y=\"0\"></rect></svg></a>,\n",
              " <a href=\"/website-info\" title=\"About us - Disclaimer - Cookies\">About us - Disclaimer - Cookies</a>]"
            ]
          },
          "metadata": {},
          "execution_count": 33
        }
      ]
    },
    {
      "cell_type": "code",
      "source": [
        "for link in soup.find_all('a'):\n",
        "  print(link['href'])\n",
        "  #HREF es la propiedad que contiene los nombres de los estados. Nos interesa que contengan \"climate\" pero que no diga \"united-states\""
      ],
      "metadata": {
        "colab": {
          "base_uri": "https://localhost:8080/"
        },
        "id": "9Xi5BRUuxVUu",
        "outputId": "9347154f-f68a-4efc-c681-8e1a0d41046b"
      },
      "execution_count": 37,
      "outputs": [
        {
          "output_type": "stream",
          "name": "stdout",
          "text": [
            "/\n",
            "#\n",
            "/\n",
            "/climate/united-states/us\n",
            "/\n",
            "/climate/united-states/us\n",
            "/climate/alabama/united-states/3170\n",
            "/climate/alaska/united-states/3171\n",
            "/climate/arizona/united-states/3172\n",
            "/climate/arkansas/united-states/3173\n",
            "/climate/california/united-states/3174\n",
            "/climate/colorado/united-states/3175\n",
            "/climate/connecticut/united-states/3176\n",
            "/climate/delaware/united-states/3177\n",
            "/climate/district-of-columbia/united-states/3178\n",
            "/climate/florida/united-states/3179\n",
            "/climate/georgia/united-states/3180\n",
            "/climate/hawaii/united-states/3181\n",
            "/climate/idaho/united-states/3182\n",
            "/climate/illinois/united-states/3183\n",
            "/climate/indiana/united-states/3184\n",
            "/climate/iowa/united-states/3185\n",
            "/climate/kansas/united-states/3186\n",
            "/climate/kentucky/united-states/3187\n",
            "/climate/louisiana/united-states/3188\n",
            "/climate/maine/united-states/3189\n",
            "/climate/maryland/united-states/1872\n",
            "/climate/massachusetts/united-states/3191\n",
            "/climate/michigan/united-states/3192\n",
            "/climate/minnesota/united-states/3193\n",
            "/climate/mississippi/united-states/3194\n",
            "/climate/missouri/united-states/3195\n",
            "/climate/montana/united-states/919\n",
            "/climate/nebraska/united-states/3197\n",
            "/climate/nevada/united-states/3198\n",
            "/climate/new-hampshire/united-states/3199\n",
            "/climate/new-jersey/united-states/3200\n",
            "/climate/new-mexico/united-states/3201\n",
            "/climate/new-york/united-states/3202\n",
            "/climate/north-carolina/united-states/3203\n",
            "/climate/north-dakota/united-states/3204\n",
            "/climate/ohio/united-states/3205\n",
            "/climate/oklahoma/united-states/3206\n",
            "/climate/oregon/united-states/3207\n",
            "/climate/pennsylvania/united-states/3208\n",
            "/climate/puerto-rico/united-states/7335\n",
            "/climate/rhode-island/united-states/3209\n",
            "/climate/south-carolina/united-states/3210\n",
            "/climate/south-dakota/united-states/3211\n",
            "/climate/tennessee/united-states/3212\n",
            "/climate/texas/united-states/3213\n",
            "/climate/utah/united-states/3214\n",
            "/climate/vermont/united-states/3215\n",
            "/climate/virginia/united-states/3216\n",
            "/climate/washington/united-states/3217\n",
            "/climate/west-virginia/united-states/3218\n",
            "/climate/wisconsin/united-states/3219\n",
            "/climate/wyoming/united-states/3220\n",
            "/climate/washington/district-of-columbia/united-states/usdc0001\n",
            " https://facebook.com/sharer/sharer.php?u=https://www.usclimatedata.com/climate/united-states/us\n",
            "https://twitter.com/intent/tweet/?text=Climate+United+States+-+Normals+and+averages&url=https://www.usclimatedata.com/climate/united-states/us\n",
            "https://pinterest.com/pin/create/button/?url=https://www.usclimatedata.com/climate/united-states/us&media=description=Climate+United+States+-+Normals+and+averages\n",
            "mailto:mail@example.com?subject=Climate+United+States+-+Normals+and+averages&body=Climate+United+States+-+Normals+and+averages+-+https%3A%2F%2Fwww.usclimatedata.com%2Fclimate%2Funited-states%2Fus\n",
            "https://www.tumblr.com/widgets/share/tool?posttype=link&title=Climate+United+States+-+Normals+and+averages&caption=&content=Climate+United+States+-+Normals+and+averages+-+https%3A%2F%2Fwww.usclimatedata.com%2Fclimate%2Funited-states%2Fus&canonicalUrl=https://www.usclimatedata.com/climate/united-states/us&shareSource=tumblr_share_button\n",
            "whatsapp://send?text=Climate+United+States+-+Normals+and+averages+-+https%3A%2F%2Fwww.usclimatedata.com%2Fclimate%2Funited-states%2Fus\n",
            "https://www.facebook.com/yourweatherservice\n",
            "https://twitter.com/usclimatedata\n",
            "/website-info\n"
          ]
        }
      ]
    },
    {
      "cell_type": "code",
      "source": [
        "base_url = 'https://www.usclimatedata.com'\n",
        "state_links = []\n",
        "for link in soup.find_all('a'):\n",
        "  url=link['href']\n",
        "  if '/climate/' in url and '/climate/united-states/us' not in url:\n",
        "    state_links.append(url)"
      ],
      "metadata": {
        "id": "CU8YGwm9v0aD"
      },
      "execution_count": 40,
      "outputs": []
    },
    {
      "cell_type": "code",
      "source": [
        "state_links"
      ],
      "metadata": {
        "colab": {
          "base_uri": "https://localhost:8080/"
        },
        "id": "vbz0KKZXxxn9",
        "outputId": "ad0b568d-c1fc-4b8f-b3f8-f01c946ef02d"
      },
      "execution_count": 41,
      "outputs": [
        {
          "output_type": "execute_result",
          "data": {
            "text/plain": [
              "['/climate/alabama/united-states/3170',\n",
              " '/climate/alaska/united-states/3171',\n",
              " '/climate/arizona/united-states/3172',\n",
              " '/climate/arkansas/united-states/3173',\n",
              " '/climate/california/united-states/3174',\n",
              " '/climate/colorado/united-states/3175',\n",
              " '/climate/connecticut/united-states/3176',\n",
              " '/climate/delaware/united-states/3177',\n",
              " '/climate/district-of-columbia/united-states/3178',\n",
              " '/climate/florida/united-states/3179',\n",
              " '/climate/georgia/united-states/3180',\n",
              " '/climate/hawaii/united-states/3181',\n",
              " '/climate/idaho/united-states/3182',\n",
              " '/climate/illinois/united-states/3183',\n",
              " '/climate/indiana/united-states/3184',\n",
              " '/climate/iowa/united-states/3185',\n",
              " '/climate/kansas/united-states/3186',\n",
              " '/climate/kentucky/united-states/3187',\n",
              " '/climate/louisiana/united-states/3188',\n",
              " '/climate/maine/united-states/3189',\n",
              " '/climate/maryland/united-states/1872',\n",
              " '/climate/massachusetts/united-states/3191',\n",
              " '/climate/michigan/united-states/3192',\n",
              " '/climate/minnesota/united-states/3193',\n",
              " '/climate/mississippi/united-states/3194',\n",
              " '/climate/missouri/united-states/3195',\n",
              " '/climate/montana/united-states/919',\n",
              " '/climate/nebraska/united-states/3197',\n",
              " '/climate/nevada/united-states/3198',\n",
              " '/climate/new-hampshire/united-states/3199',\n",
              " '/climate/new-jersey/united-states/3200',\n",
              " '/climate/new-mexico/united-states/3201',\n",
              " '/climate/new-york/united-states/3202',\n",
              " '/climate/north-carolina/united-states/3203',\n",
              " '/climate/north-dakota/united-states/3204',\n",
              " '/climate/ohio/united-states/3205',\n",
              " '/climate/oklahoma/united-states/3206',\n",
              " '/climate/oregon/united-states/3207',\n",
              " '/climate/pennsylvania/united-states/3208',\n",
              " '/climate/puerto-rico/united-states/7335',\n",
              " '/climate/rhode-island/united-states/3209',\n",
              " '/climate/south-carolina/united-states/3210',\n",
              " '/climate/south-dakota/united-states/3211',\n",
              " '/climate/tennessee/united-states/3212',\n",
              " '/climate/texas/united-states/3213',\n",
              " '/climate/utah/united-states/3214',\n",
              " '/climate/vermont/united-states/3215',\n",
              " '/climate/virginia/united-states/3216',\n",
              " '/climate/washington/united-states/3217',\n",
              " '/climate/west-virginia/united-states/3218',\n",
              " '/climate/wisconsin/united-states/3219',\n",
              " '/climate/wyoming/united-states/3220',\n",
              " '/climate/washington/district-of-columbia/united-states/usdc0001']"
            ]
          },
          "metadata": {},
          "execution_count": 41
        }
      ]
    },
    {
      "cell_type": "code",
      "source": [
        "len(state_links)"
      ],
      "metadata": {
        "colab": {
          "base_uri": "https://localhost:8080/"
        },
        "id": "7_wEqw3Rx30T",
        "outputId": "dbf42f36-c1c6-461a-9d26-5c75340b614e"
      },
      "execution_count": 42,
      "outputs": [
        {
          "output_type": "execute_result",
          "data": {
            "text/plain": [
              "53"
            ]
          },
          "metadata": {},
          "execution_count": 42
        }
      ]
    },
    {
      "cell_type": "code",
      "source": [
        "#https://www.usclimatedata.com/climate/alabama/united-states/3170\n",
        "r = requests.get(base_url + state_links[0])\n",
        "soup = BeautifulSoup(r.text)\n",
        "print(soup.body.text)"
      ],
      "metadata": {
        "colab": {
          "base_uri": "https://localhost:8080/"
        },
        "id": "gSsDtgAkx4Oq",
        "outputId": "1ea513f3-262c-4379-e61f-a377a0be5f4a"
      },
      "execution_count": 51,
      "outputs": [
        {
          "output_type": "stream",
          "name": "stdout",
          "text": [
            "\n",
            "\n",
            "\n",
            "U.S. Climate DataToggle Dropdown ºF  ºC Home United StatesAlabama ºF  ºC You are here:Alabama United StatesHome United StatesAlabama ºF  ºC \n",
            "\n",
            "\n",
            "\n",
            "Alabama TableAlabama - Select a city by nameAddisonAlabasterAlexander CityAlicevilleAndalusiaAndersonAshlandAthensAtmoreAuburnBay MinetteBeatriceBessemerBirminghamBoligeeBrentBrewtonBridgeportBurgosCamdenCamp HillCentreCentrevilleChatomChildersburgClantonClaytonCodenCourtlandCrossvilleCullmanDecaturDemopolisEnterpriseEufaulaEvergreenFairhopeFalkvilleFayetteFloralaFort PayneFrisco CityGadsdenGainesvilleGenevaGreensboroGreenvilleGuntersvilleHaleyvilleHamiltonHancevilleHeadlandHeflinHelenaHighland HomeHope HullHuntsvilleJacksonJasperKellytonLafayetteLinevilleLivingstonMarionMarion JunctionMidland CityMobileMontgomeryMoultonMuscle ShoalsNew HopeNorthportOneontaOpelikaOzarkPelhamPinsonRoanokeRobertsdaleRockfordRussellvilleScottsboroSelmaShorterSylacaugaTalladegaTallasseeTannerThomasvilleThorsbyTroyTuscaloosaUnion SpringsValley HeadVernonWetumpkaWhatleyWinfieldClimate Birmingham - Alabama JanJaFebFeMarMaAprApMayMaJunJuAverage high in ºF Av. high Hi 545867748288Average low in ºF Av. low Lo 343744516068Days with precipitation Days precip. DP 1211119910Hours of sunshine Hours sun. Sun 138152207248293294Av. precipitation in inch Av. precip. Pre. 4.844.535.234.384.994.38Av. snowfall in inch Snowfall Sn 101000 JulJuAugAuSepSeOctOcNovNoDecDeAverage high in ºF Av. high Hi 919185756556Average low in ºF Av. low Lo 717164534436Days with precipitation Days precip. DP 121076911Hours of sunshine Hours sun. Sun 269265244234182136Av. precipitation in inch Av. precip. Pre. 4.803.933.903.444.854.45Av. snowfall in inch Snowfall Sn 000000Birmingham Climate Graph - Alabama Climate ChartMore Climate Data Birmingham \n",
            "\n",
            "\n",
            "\n",
            "\n",
            "\n",
            "                 (adsbygoogle = window.adsbygoogle || []).push({});\n",
            "            Station DataMonthly averages BirminghamLongitude: -86.8104, Latitude: 33.5186Average weather Birmingham, AL - 35212Monthly: 1981-2010 normalsAbbreviationsAverage precipitation in : Av. precipitation in Jan: January, Feb: February,  ...Jan: January, Feb: February,  ...Ja: January, Fe: February,  ... \n",
            "\n",
            "\n",
            "© US Climate Data  2022 | version 3.0 | by US Climate Data | About us - Disclaimer - Cookies\n",
            "            if (typeof jQuery == \"undefined\") { // Fallback jQuery\n",
            "               // document.write('<script src=\"/assets/js/jquery.min.js\"><\\/script>');\n",
            "            }\n",
            "        \n",
            "            if (typeof $.fn.modal == \"undefined\") {\n",
            "               // document.write('<script src=\"/assets/js/bootstrap.bundle.min.js\"><\\/script>');\n",
            "            }\n",
            "        \n",
            "    $(document).ready(function () {\n",
            "        $(window).resize(function () {\n",
            "            if (this.resizeTO) clearTimeout(this.resizeTO);\n",
            "            this.resizeTO = setTimeout(function () {\n",
            "                $(this).trigger('resizeEnd');\n",
            "            }, 500);\n",
            "        });\n",
            "        $(window).on('resizeEnd', function () {\n",
            "            if (google || google.visualization) {\n",
            "                drawVisualization();\n",
            "            }\n",
            "        });\n",
            "        Tablesaw.init(\"#monthly\");\n",
            "    });\n",
            "\tvar averages_title = 'Birmingham weather averages';var monthly_summary = '<table class=\"table table-hover tablesaw monthly_summary_table\" data-tablesaw-hide-empty><thead><tr><th>&nbsp;</th><th>&nbsp;</th></tr></thead><tbody><tr><td>Annual high temperature</td><td class=\"high\">74ºF</td></tr><tr><td>Annual low temperature</td><td class=\"low\">53ºF</td></tr><tr><td>Days per year with precip.</td><td>117 days</td></tr><tr><td>Annual hours of sunshine</td><td>2662 hours</td></tr><tr><td>Average annual precip.</td><td>53.72 inch</td></tr><tr><td>Av. annual snowfall</td><td>2 inch</td></tr></tbody></table>';var monthly_data = false;    var the_zone_system = 'american';\n",
            "    var the_location = 'usal0054';\n",
            "    var the_page_name = 'state';\n",
            "    var the_token = '0c3316308cdaf19940d9f544ac79699bNWMRK8ONfMW3iZQCjQOF9wvnKliruEJ8FVkhTu/oVc0qgHpZ8Q==';\n",
            "\n",
            "\n",
            "\n",
            "if('serviceWorker' in navigator) { navigator.serviceWorker.register('/service-worker.js').then(function(reg){ console.log(\"Service worker Active\");}).catch(function(err) { console.log(\"Service worker inactive\")});}\n"
          ]
        }
      ]
    },
    {
      "cell_type": "code",
      "source": [
        "r #Significa que si accede a la página"
      ],
      "metadata": {
        "colab": {
          "base_uri": "https://localhost:8080/"
        },
        "id": "nq3ezA3KyZNf",
        "outputId": "df3d5e02-9eb9-4686-ce57-631021d1516c"
      },
      "execution_count": 49,
      "outputs": [
        {
          "output_type": "execute_result",
          "data": {
            "text/plain": [
              "<Response [200]>"
            ]
          },
          "metadata": {},
          "execution_count": 49
        }
      ]
    },
    {
      "cell_type": "code",
      "source": [
        "rows = soup.find_all('tr')\n",
        "print(len(rows))"
      ],
      "metadata": {
        "colab": {
          "base_uri": "https://localhost:8080/"
        },
        "id": "qP3O0Tks0qKt",
        "outputId": "a3de4831-891b-4a18-e1a3-0ae71a23a8c7"
      },
      "execution_count": 53,
      "outputs": [
        {
          "output_type": "stream",
          "name": "stdout",
          "text": [
            "14\n"
          ]
        }
      ]
    },
    {
      "cell_type": "code",
      "source": [
        "rows"
      ],
      "metadata": {
        "colab": {
          "base_uri": "https://localhost:8080/"
        },
        "id": "OheTZRv2yfPS",
        "outputId": "bbb25d07-437c-4527-da90-8d0957c12827"
      },
      "execution_count": 54,
      "outputs": [
        {
          "output_type": "execute_result",
          "data": {
            "text/plain": [
              "[<tr><th class=\"title tablesaw-swipe-cellpersist\" data-tablesaw-priority=\"persist\" data-tablesaw-sortable-col=\"\" scope=\"col\"> </th><th class=\"text-right\" scope=\"col\"><span class=\"d-none d-sm-block\"><abbr title=\"January\">Jan</abbr></span><span class=\"d-block d-sm-none\"><abbr title=\"January\">Ja</abbr></span></th><th class=\"text-right\" scope=\"col\"><span class=\"d-none d-sm-block\"><abbr title=\"February\">Feb</abbr></span><span class=\"d-block d-sm-none\"><abbr title=\"February\">Fe</abbr></span></th><th class=\"text-right\" scope=\"col\"><span class=\"d-none d-sm-block\"><abbr title=\"March\">Mar</abbr></span><span class=\"d-block d-sm-none\"><abbr title=\"March\">Ma</abbr></span></th><th class=\"text-right\" scope=\"col\"><span class=\"d-none d-sm-block\"><abbr title=\"April\">Apr</abbr></span><span class=\"d-block d-sm-none\"><abbr title=\"April\">Ap</abbr></span></th><th class=\"text-right\" scope=\"col\"><span class=\"d-none d-sm-block\"><abbr title=\"May\">May</abbr></span><span class=\"d-block d-sm-none\"><abbr title=\"May\">Ma</abbr></span></th><th class=\"text-right\" scope=\"col\"><span class=\"d-none d-sm-block\"><abbr title=\"June\">Jun</abbr></span><span class=\"d-block d-sm-none\"><abbr title=\"June\">Ju</abbr></span></th></tr>,\n",
              " <tr><th class=\"font-weight-normal\" data-tablesaw-priority=\"persist\" scope=\"row\"><span class=\"d-none d-lg-block\">Average high in ºF </span><span class=\"d-none d-sm-block d-lg-none\">Av. high </span><span class=\"d-block d-sm-none\">Hi </span></th><td class=\"high text-right\">54</td><td class=\"high text-right\">58</td><td class=\"high text-right\">67</td><td class=\"high text-right\">74</td><td class=\"high text-right\">82</td><td class=\"high text-right\">88</td></tr>,\n",
              " <tr><th class=\"font-weight-normal\" data-tablesaw-priority=\"persist\" scope=\"row\"><span class=\"d-none d-lg-block\">Average low in ºF </span><span class=\"d-none d-sm-block d-lg-none\">Av. low </span><span class=\"d-block d-sm-none\">Lo </span></th><td class=\"low text-right\">34</td><td class=\"low text-right\">37</td><td class=\"low text-right\">44</td><td class=\"low text-right\">51</td><td class=\"low text-right\">60</td><td class=\"low text-right\">68</td></tr>,\n",
              " <tr><th class=\"font-weight-normal\" data-tablesaw-priority=\"persist\" scope=\"row\"><span class=\"d-none d-lg-block\">Days with precipitation </span><span class=\"d-none d-sm-block d-lg-none\">Days precip. </span><span class=\"d-block d-sm-none\">DP </span></th><td class=\"text-right\">12</td><td class=\"text-right\">11</td><td class=\"text-right\">11</td><td class=\"text-right\">9</td><td class=\"text-right\">9</td><td class=\"text-right\">10</td></tr>,\n",
              " <tr><th class=\"font-weight-normal\" data-tablesaw-priority=\"persist\" scope=\"row\"><span class=\"d-none d-lg-block\">Hours of sunshine </span><span class=\"d-none d-sm-block d-lg-none\">Hours sun. </span><span class=\"d-block d-sm-none\">Sun </span></th><td class=\"text-right\">138</td><td class=\"text-right\">152</td><td class=\"text-right\">207</td><td class=\"text-right\">248</td><td class=\"text-right\">293</td><td class=\"text-right\">294</td></tr>,\n",
              " <tr><th class=\"font-weight-normal\" data-tablesaw-priority=\"persist\" scope=\"row\"><span class=\"d-none d-lg-block\">Av. precipitation in inch </span><span class=\"d-none d-sm-block d-lg-none\">Av. precip. </span><span class=\"d-block d-sm-none\">Pre. </span></th><td class=\"text-right\">4.84</td><td class=\"text-right\">4.53</td><td class=\"text-right\">5.23</td><td class=\"text-right\">4.38</td><td class=\"text-right\">4.99</td><td class=\"text-right\">4.38</td></tr>,\n",
              " <tr><th class=\"font-weight-normal\" data-tablesaw-priority=\"persist\" scope=\"row\"><span class=\"d-none d-lg-block\">Av. snowfall in inch </span><span class=\"d-none d-sm-block d-lg-none\">Snowfall </span><span class=\"d-block d-sm-none\">Sn </span></th><td class=\"text-right\">1</td><td class=\"text-right\">0</td><td class=\"text-right\">1</td><td class=\"text-right\">0</td><td class=\"text-right\">0</td><td class=\"text-right\">0</td></tr>,\n",
              " <tr><th class=\"title tablesaw-swipe-cellpersist\" data-tablesaw-priority=\"persist\" data-tablesaw-sortable-col=\"\" scope=\"col\"> </th><th class=\"text-right\" scope=\"col\"><span class=\"d-none d-sm-block\"><abbr title=\"July\">Jul</abbr></span><span class=\"d-block d-sm-none\"><abbr title=\"July\">Ju</abbr></span></th><th class=\"text-right\" scope=\"col\"><span class=\"d-none d-sm-block\"><abbr title=\"August\">Aug</abbr></span><span class=\"d-block d-sm-none\"><abbr title=\"August\">Au</abbr></span></th><th class=\"text-right\" scope=\"col\"><span class=\"d-none d-sm-block\"><abbr title=\"September\">Sep</abbr></span><span class=\"d-block d-sm-none\"><abbr title=\"September\">Se</abbr></span></th><th class=\"text-right\" scope=\"col\"><span class=\"d-none d-sm-block\"><abbr title=\"October\">Oct</abbr></span><span class=\"d-block d-sm-none\"><abbr title=\"October\">Oc</abbr></span></th><th class=\"text-right\" scope=\"col\"><span class=\"d-none d-sm-block\"><abbr title=\"November\">Nov</abbr></span><span class=\"d-block d-sm-none\"><abbr title=\"November\">No</abbr></span></th><th class=\"text-right\" scope=\"col\"><span class=\"d-none d-sm-block\"><abbr title=\"December\">Dec</abbr></span><span class=\"d-block d-sm-none\"><abbr title=\"December\">De</abbr></span></th></tr>,\n",
              " <tr><th class=\"font-weight-normal\" data-tablesaw-priority=\"persist\" scope=\"row\"><span class=\"d-none d-lg-block\">Average high in ºF </span><span class=\"d-none d-sm-block d-lg-none\">Av. high </span><span class=\"d-block d-sm-none\">Hi </span></th><td class=\"high text-right\">91</td><td class=\"high text-right\">91</td><td class=\"high text-right\">85</td><td class=\"high text-right\">75</td><td class=\"high text-right\">65</td><td class=\"high text-right\">56</td></tr>,\n",
              " <tr><th class=\"font-weight-normal\" data-tablesaw-priority=\"persist\" scope=\"row\"><span class=\"d-none d-lg-block\">Average low in ºF </span><span class=\"d-none d-sm-block d-lg-none\">Av. low </span><span class=\"d-block d-sm-none\">Lo </span></th><td class=\"low text-right\">71</td><td class=\"low text-right\">71</td><td class=\"low text-right\">64</td><td class=\"low text-right\">53</td><td class=\"low text-right\">44</td><td class=\"low text-right\">36</td></tr>,\n",
              " <tr><th class=\"font-weight-normal\" data-tablesaw-priority=\"persist\" scope=\"row\"><span class=\"d-none d-lg-block\">Days with precipitation </span><span class=\"d-none d-sm-block d-lg-none\">Days precip. </span><span class=\"d-block d-sm-none\">DP </span></th><td class=\"text-right\">12</td><td class=\"text-right\">10</td><td class=\"text-right\">7</td><td class=\"text-right\">6</td><td class=\"text-right\">9</td><td class=\"text-right\">11</td></tr>,\n",
              " <tr><th class=\"font-weight-normal\" data-tablesaw-priority=\"persist\" scope=\"row\"><span class=\"d-none d-lg-block\">Hours of sunshine </span><span class=\"d-none d-sm-block d-lg-none\">Hours sun. </span><span class=\"d-block d-sm-none\">Sun </span></th><td class=\"text-right\">269</td><td class=\"text-right\">265</td><td class=\"text-right\">244</td><td class=\"text-right\">234</td><td class=\"text-right\">182</td><td class=\"text-right\">136</td></tr>,\n",
              " <tr><th class=\"font-weight-normal\" data-tablesaw-priority=\"persist\" scope=\"row\"><span class=\"d-none d-lg-block\">Av. precipitation in inch </span><span class=\"d-none d-sm-block d-lg-none\">Av. precip. </span><span class=\"d-block d-sm-none\">Pre. </span></th><td class=\"text-right\">4.80</td><td class=\"text-right\">3.93</td><td class=\"text-right\">3.90</td><td class=\"text-right\">3.44</td><td class=\"text-right\">4.85</td><td class=\"text-right\">4.45</td></tr>,\n",
              " <tr><th class=\"font-weight-normal\" data-tablesaw-priority=\"persist\" scope=\"row\"><span class=\"d-none d-lg-block\">Av. snowfall in inch </span><span class=\"d-none d-sm-block d-lg-none\">Snowfall </span><span class=\"d-block d-sm-none\">Sn </span></th><td class=\"text-right\">0</td><td class=\"text-right\">0</td><td class=\"text-right\">0</td><td class=\"text-right\">0</td><td class=\"text-right\">0</td><td class=\"text-right\">0</td></tr>]"
            ]
          },
          "metadata": {},
          "execution_count": 54
        }
      ]
    },
    {
      "cell_type": "code",
      "source": [
        "rows2 = [row for row in rows if 'Average high in ºF' in str(row)]"
      ],
      "metadata": {
        "id": "TFcT2BAv0vZ2"
      },
      "execution_count": 55,
      "outputs": []
    },
    {
      "cell_type": "code",
      "source": [
        "rows2 #Solo nos quedamos con las 2 filas de los 12 meses que necesitamos"
      ],
      "metadata": {
        "colab": {
          "base_uri": "https://localhost:8080/"
        },
        "id": "vA7LTSls0-FP",
        "outputId": "445f7b6a-b0e2-4e74-b42d-fb21b7f8c992"
      },
      "execution_count": 57,
      "outputs": [
        {
          "output_type": "execute_result",
          "data": {
            "text/plain": [
              "[<tr><th class=\"font-weight-normal\" data-tablesaw-priority=\"persist\" scope=\"row\"><span class=\"d-none d-lg-block\">Average high in ºF </span><span class=\"d-none d-sm-block d-lg-none\">Av. high </span><span class=\"d-block d-sm-none\">Hi </span></th><td class=\"high text-right\">54</td><td class=\"high text-right\">58</td><td class=\"high text-right\">67</td><td class=\"high text-right\">74</td><td class=\"high text-right\">82</td><td class=\"high text-right\">88</td></tr>,\n",
              " <tr><th class=\"font-weight-normal\" data-tablesaw-priority=\"persist\" scope=\"row\"><span class=\"d-none d-lg-block\">Average high in ºF </span><span class=\"d-none d-sm-block d-lg-none\">Av. high </span><span class=\"d-block d-sm-none\">Hi </span></th><td class=\"high text-right\">91</td><td class=\"high text-right\">91</td><td class=\"high text-right\">85</td><td class=\"high text-right\">75</td><td class=\"high text-right\">65</td><td class=\"high text-right\">56</td></tr>]"
            ]
          },
          "metadata": {},
          "execution_count": 57
        }
      ]
    },
    {
      "cell_type": "code",
      "source": [
        "rows2[0].find_all('td')"
      ],
      "metadata": {
        "colab": {
          "base_uri": "https://localhost:8080/"
        },
        "id": "cWMm_h2W1D-g",
        "outputId": "da701fef-8ae7-4cad-d187-b94419db3a75"
      },
      "execution_count": 58,
      "outputs": [
        {
          "output_type": "execute_result",
          "data": {
            "text/plain": [
              "[<td class=\"high text-right\">54</td>,\n",
              " <td class=\"high text-right\">58</td>,\n",
              " <td class=\"high text-right\">67</td>,\n",
              " <td class=\"high text-right\">74</td>,\n",
              " <td class=\"high text-right\">82</td>,\n",
              " <td class=\"high text-right\">88</td>]"
            ]
          },
          "metadata": {},
          "execution_count": 58
        }
      ]
    },
    {
      "cell_type": "code",
      "source": [
        "tds = rows2[0].find_all('td')\n",
        "high_temps = [td.text for td in tds]"
      ],
      "metadata": {
        "id": "mwExiJMl1LSv"
      },
      "execution_count": 60,
      "outputs": []
    },
    {
      "cell_type": "code",
      "source": [
        "high_temps"
      ],
      "metadata": {
        "colab": {
          "base_uri": "https://localhost:8080/"
        },
        "id": "5Brrf69-1a--",
        "outputId": "c20ac6ff-c01b-404e-896e-fd41d7e6a1e0"
      },
      "execution_count": 61,
      "outputs": [
        {
          "output_type": "execute_result",
          "data": {
            "text/plain": [
              "['54', '58', '67', '74', '82', '88']"
            ]
          },
          "metadata": {},
          "execution_count": 61
        }
      ]
    },
    {
      "cell_type": "code",
      "source": [
        "rows3 = [row for row in rows if 'Average low in ºF' in str(row)]\n",
        "tds = rows3[0].find_all('td')\n",
        "low_temps = [td.text for td in tds]\n",
        "low_temps"
      ],
      "metadata": {
        "colab": {
          "base_uri": "https://localhost:8080/"
        },
        "id": "vFIOLXcu1hLu",
        "outputId": "5612deca-49d1-4818-8e97-c21ef88b0850"
      },
      "execution_count": 62,
      "outputs": [
        {
          "output_type": "execute_result",
          "data": {
            "text/plain": [
              "['34', '37', '44', '51', '60', '68']"
            ]
          },
          "metadata": {},
          "execution_count": 62
        }
      ]
    },
    {
      "cell_type": "markdown",
      "source": [
        "Los pasos anteriores solo tomaban la fila 0. Ahora para todas:"
      ],
      "metadata": {
        "id": "D3MHA6Rr15SX"
      }
    },
    {
      "cell_type": "code",
      "source": [
        "high_temps = []\n",
        "for row in rows2:\n",
        "  tds = row.find_all('td')\n",
        "  high_temps = high_temps + [td.text for td in tds]\n",
        "\n",
        "print(high_temps)"
      ],
      "metadata": {
        "colab": {
          "base_uri": "https://localhost:8080/"
        },
        "id": "PFoGugH12A5L",
        "outputId": "74fb00c2-23df-4716-940b-1552bcf4cdd4"
      },
      "execution_count": 64,
      "outputs": [
        {
          "output_type": "stream",
          "name": "stdout",
          "text": [
            "['54', '58', '67', '74', '82', '88', '91', '91', '85', '75', '65', '56']\n"
          ]
        }
      ]
    },
    {
      "cell_type": "code",
      "source": [
        "s = soup.title.text"
      ],
      "metadata": {
        "id": "jrEkA6wP2_wM"
      },
      "execution_count": 65,
      "outputs": []
    },
    {
      "cell_type": "code",
      "source": [
        "s"
      ],
      "metadata": {
        "colab": {
          "base_uri": "https://localhost:8080/",
          "height": 36
        },
        "id": "iS1_9IHC3GqQ",
        "outputId": "f75be3d0-9978-4f97-d141-24e641e6f28f"
      },
      "execution_count": 66,
      "outputs": [
        {
          "output_type": "execute_result",
          "data": {
            "text/plain": [
              "'Climate Alabama - Temperature, Rainfall and Averages'"
            ],
            "application/vnd.google.colaboratory.intrinsic+json": {
              "type": "string"
            }
          },
          "metadata": {},
          "execution_count": 66
        }
      ]
    },
    {
      "cell_type": "code",
      "source": [
        "s.find(' ')"
      ],
      "metadata": {
        "colab": {
          "base_uri": "https://localhost:8080/"
        },
        "id": "dAWY3_gX3H4q",
        "outputId": "bbd9ac90-da77-4e2d-c47a-7f3ffc4e0367"
      },
      "execution_count": 67,
      "outputs": [
        {
          "output_type": "execute_result",
          "data": {
            "text/plain": [
              "7"
            ]
          },
          "metadata": {},
          "execution_count": 67
        }
      ]
    },
    {
      "cell_type": "code",
      "source": [
        "s.find('-')"
      ],
      "metadata": {
        "colab": {
          "base_uri": "https://localhost:8080/"
        },
        "id": "WCorRGnZ3KYR",
        "outputId": "0e181062-6eea-4f62-ac8b-165e7efc643f"
      },
      "execution_count": 68,
      "outputs": [
        {
          "output_type": "execute_result",
          "data": {
            "text/plain": [
              "16"
            ]
          },
          "metadata": {},
          "execution_count": 68
        }
      ]
    },
    {
      "cell_type": "code",
      "source": [
        "s[s.find(' '):s.find('-')].strip() #Quita los espacios al inicio y al final (strip)"
      ],
      "metadata": {
        "colab": {
          "base_uri": "https://localhost:8080/",
          "height": 36
        },
        "id": "rCLw7I0I3M3M",
        "outputId": "38c47736-2d22-45d2-9b35-c8f908b8774b"
      },
      "execution_count": 73,
      "outputs": [
        {
          "output_type": "execute_result",
          "data": {
            "text/plain": [
              "'Alabama'"
            ],
            "application/vnd.google.colaboratory.intrinsic+json": {
              "type": "string"
            }
          },
          "metadata": {},
          "execution_count": 73
        }
      ]
    },
    {
      "cell_type": "code",
      "source": [
        "state = s[s.find(' '):s.find('-')].strip()"
      ],
      "metadata": {
        "id": "_WR7uTql3xD0"
      },
      "execution_count": 74,
      "outputs": []
    },
    {
      "cell_type": "code",
      "source": [
        "state"
      ],
      "metadata": {
        "colab": {
          "base_uri": "https://localhost:8080/",
          "height": 36
        },
        "id": "hmmlzEUx30G6",
        "outputId": "d589abda-2891-40b0-c9e4-d511b43f25a9"
      },
      "execution_count": 75,
      "outputs": [
        {
          "output_type": "execute_result",
          "data": {
            "text/plain": [
              "'Alabama'"
            ],
            "application/vnd.google.colaboratory.intrinsic+json": {
              "type": "string"
            }
          },
          "metadata": {},
          "execution_count": 75
        }
      ]
    },
    {
      "cell_type": "code",
      "source": [
        "data = {}\n",
        "data[state] = high_temps"
      ],
      "metadata": {
        "id": "KNPauh9q31OS"
      },
      "execution_count": 76,
      "outputs": []
    },
    {
      "cell_type": "code",
      "source": [
        "data"
      ],
      "metadata": {
        "colab": {
          "base_uri": "https://localhost:8080/"
        },
        "id": "iPNwWELK399c",
        "outputId": "6a2adc85-a028-4b45-939a-bd2f592355df"
      },
      "execution_count": 77,
      "outputs": [
        {
          "output_type": "execute_result",
          "data": {
            "text/plain": [
              "{'Alabama': ['54',\n",
              "  '58',\n",
              "  '67',\n",
              "  '74',\n",
              "  '82',\n",
              "  '88',\n",
              "  '91',\n",
              "  '91',\n",
              "  '85',\n",
              "  '75',\n",
              "  '65',\n",
              "  '56']}"
            ]
          },
          "metadata": {},
          "execution_count": 77
        }
      ]
    },
    {
      "cell_type": "markdown",
      "source": [
        "Para todos los Estados:"
      ],
      "metadata": {
        "id": "d4a8T5VT4C8g"
      }
    },
    {
      "cell_type": "code",
      "source": [
        "data = {}\n",
        "for link in state_links:\n",
        "  url = base_url + link\n",
        "  r = requests.get(url)\n",
        "  soup = BeautifulSoup(r.text)\n",
        "  rows = soup.find_all('tr')\n",
        "  rows = [row for row in rows if 'Average high in ºF' in str(row)]\n",
        "  high_temps = []\n",
        "  for row in rows:\n",
        "    tds = row.find_all('td')\n",
        "    high_temps = high_temps + [td.text for td in tds]\n",
        "  s = soup.title.text\n",
        "  state = s[s.find(' '):s.find('-')].strip()\n",
        "  data[state] = high_temps"
      ],
      "metadata": {
        "id": "lRlqBvGs3_1X"
      },
      "execution_count": 78,
      "outputs": []
    },
    {
      "cell_type": "code",
      "source": [
        "data"
      ],
      "metadata": {
        "colab": {
          "base_uri": "https://localhost:8080/"
        },
        "id": "fmV1b4Kq5GfH",
        "outputId": "3960a6cd-841b-4371-b55d-e17e731fa170"
      },
      "execution_count": 79,
      "outputs": [
        {
          "output_type": "execute_result",
          "data": {
            "text/plain": [
              "{'Alabama': ['54',\n",
              "  '58',\n",
              "  '67',\n",
              "  '74',\n",
              "  '82',\n",
              "  '88',\n",
              "  '91',\n",
              "  '91',\n",
              "  '85',\n",
              "  '75',\n",
              "  '65',\n",
              "  '56'],\n",
              " 'Alaska': ['23',\n",
              "  '27',\n",
              "  '34',\n",
              "  '44',\n",
              "  '56',\n",
              "  '63',\n",
              "  '65',\n",
              "  '64',\n",
              "  '55',\n",
              "  '40',\n",
              "  '28',\n",
              "  '25'],\n",
              " 'Arizona': ['67',\n",
              "  '71',\n",
              "  '77',\n",
              "  '85',\n",
              "  '95',\n",
              "  '104',\n",
              "  '106',\n",
              "  '104',\n",
              "  '100',\n",
              "  '89',\n",
              "  '76',\n",
              "  '66'],\n",
              " 'Arkansas': ['51',\n",
              "  '55',\n",
              "  '64',\n",
              "  '73',\n",
              "  '81',\n",
              "  '89',\n",
              "  '92',\n",
              "  '93',\n",
              "  '86',\n",
              "  '75',\n",
              "  '63',\n",
              "  '52'],\n",
              " 'California': ['54',\n",
              "  '60',\n",
              "  '65',\n",
              "  '71',\n",
              "  '80',\n",
              "  '87',\n",
              "  '92',\n",
              "  '91',\n",
              "  '87',\n",
              "  '78',\n",
              "  '64',\n",
              "  '54'],\n",
              " 'Colorado': ['45',\n",
              "  '46',\n",
              "  '54',\n",
              "  '61',\n",
              "  '72',\n",
              "  '82',\n",
              "  '90',\n",
              "  '88',\n",
              "  '79',\n",
              "  '66',\n",
              "  '52',\n",
              "  '45'],\n",
              " 'Connecticut': ['37',\n",
              "  '40',\n",
              "  '47',\n",
              "  '58',\n",
              "  '68',\n",
              "  '77',\n",
              "  '82',\n",
              "  '81',\n",
              "  '74',\n",
              "  '63',\n",
              "  '53',\n",
              "  '42'],\n",
              " 'Delaware': ['43',\n",
              "  '47',\n",
              "  '55',\n",
              "  '66',\n",
              "  '75',\n",
              "  '83',\n",
              "  '87',\n",
              "  '85',\n",
              "  '79',\n",
              "  '69',\n",
              "  '58',\n",
              "  '47'],\n",
              " 'District Of Columbia': ['42',\n",
              "  '44',\n",
              "  '53',\n",
              "  '64',\n",
              "  '75',\n",
              "  '83',\n",
              "  '87',\n",
              "  '84',\n",
              "  '78',\n",
              "  '67',\n",
              "  '55',\n",
              "  '45'],\n",
              " 'Florida': ['64',\n",
              "  '67',\n",
              "  '74',\n",
              "  '80',\n",
              "  '87',\n",
              "  '91',\n",
              "  '92',\n",
              "  '92',\n",
              "  '88',\n",
              "  '81',\n",
              "  '73',\n",
              "  '65'],\n",
              " 'Georgia': ['52',\n",
              "  '57',\n",
              "  '64',\n",
              "  '72',\n",
              "  '81',\n",
              "  '86',\n",
              "  '90',\n",
              "  '88',\n",
              "  '82',\n",
              "  '73',\n",
              "  '64',\n",
              "  '54'],\n",
              " 'Hawaii': ['80',\n",
              "  '80',\n",
              "  '81',\n",
              "  '83',\n",
              "  '85',\n",
              "  '87',\n",
              "  '88',\n",
              "  '89',\n",
              "  '89',\n",
              "  '87',\n",
              "  '84',\n",
              "  '81'],\n",
              " 'Idaho': ['38',\n",
              "  '45',\n",
              "  '55',\n",
              "  '62',\n",
              "  '72',\n",
              "  '81',\n",
              "  '91',\n",
              "  '90',\n",
              "  '79',\n",
              "  '65',\n",
              "  '48',\n",
              "  '38'],\n",
              " 'Illinois': ['32',\n",
              "  '36',\n",
              "  '46',\n",
              "  '59',\n",
              "  '70',\n",
              "  '81',\n",
              "  '84',\n",
              "  '82',\n",
              "  '75',\n",
              "  '63',\n",
              "  '48',\n",
              "  '36'],\n",
              " 'Indiana': ['35',\n",
              "  '40',\n",
              "  '51',\n",
              "  '63',\n",
              "  '73',\n",
              "  '82',\n",
              "  '85',\n",
              "  '83',\n",
              "  '77',\n",
              "  '65',\n",
              "  '52',\n",
              "  '39'],\n",
              " 'Iowa': ['31',\n",
              "  '36',\n",
              "  '49',\n",
              "  '62',\n",
              "  '72',\n",
              "  '82',\n",
              "  '86',\n",
              "  '84',\n",
              "  '76',\n",
              "  '63',\n",
              "  '48',\n",
              "  '34'],\n",
              " 'Kansas': ['40',\n",
              "  '45',\n",
              "  '56',\n",
              "  '67',\n",
              "  '76',\n",
              "  '85',\n",
              "  '89',\n",
              "  '89',\n",
              "  '80',\n",
              "  '68',\n",
              "  '55',\n",
              "  '42'],\n",
              " 'Kentucky': ['40',\n",
              "  '45',\n",
              "  '55',\n",
              "  '66',\n",
              "  '75',\n",
              "  '83',\n",
              "  '87',\n",
              "  '86',\n",
              "  '79',\n",
              "  '68',\n",
              "  '55',\n",
              "  '44'],\n",
              " 'Louisiana': ['62',\n",
              "  '65',\n",
              "  '72',\n",
              "  '78',\n",
              "  '85',\n",
              "  '89',\n",
              "  '91',\n",
              "  '91',\n",
              "  '87',\n",
              "  '80',\n",
              "  '72',\n",
              "  '64'],\n",
              " 'Maine': ['28',\n",
              "  '32',\n",
              "  '40',\n",
              "  '53',\n",
              "  '65',\n",
              "  '74',\n",
              "  '79',\n",
              "  '78',\n",
              "  '70',\n",
              "  '57',\n",
              "  '45',\n",
              "  '33'],\n",
              " 'Maryland': ['42',\n",
              "  '46',\n",
              "  '54',\n",
              "  '65',\n",
              "  '75',\n",
              "  '85',\n",
              "  '89',\n",
              "  '87',\n",
              "  '80',\n",
              "  '68',\n",
              "  '58',\n",
              "  '46'],\n",
              " 'Massachusetts': ['36',\n",
              "  '39',\n",
              "  '45',\n",
              "  '56',\n",
              "  '66',\n",
              "  '76',\n",
              "  '81',\n",
              "  '80',\n",
              "  '72',\n",
              "  '61',\n",
              "  '51',\n",
              "  '41'],\n",
              " 'Michigan': ['30',\n",
              "  '33',\n",
              "  '44',\n",
              "  '58',\n",
              "  '69',\n",
              "  '78',\n",
              "  '82',\n",
              "  '80',\n",
              "  '73',\n",
              "  '60',\n",
              "  '47',\n",
              "  '34'],\n",
              " 'Minnesota': ['26',\n",
              "  '31',\n",
              "  '43',\n",
              "  '58',\n",
              "  '71',\n",
              "  '80',\n",
              "  '85',\n",
              "  '82',\n",
              "  '73',\n",
              "  '59',\n",
              "  '42',\n",
              "  '29'],\n",
              " 'Mississippi': ['56',\n",
              "  '60',\n",
              "  '69',\n",
              "  '76',\n",
              "  '83',\n",
              "  '89',\n",
              "  '92',\n",
              "  '92',\n",
              "  '87',\n",
              "  '77',\n",
              "  '67',\n",
              "  '58'],\n",
              " 'Missouri': ['40',\n",
              "  '45',\n",
              "  '56',\n",
              "  '67',\n",
              "  '75',\n",
              "  '83',\n",
              "  '88',\n",
              "  '88',\n",
              "  '80',\n",
              "  '69',\n",
              "  '56',\n",
              "  '43'],\n",
              " 'Montana': ['33',\n",
              "  '39',\n",
              "  '48',\n",
              "  '58',\n",
              "  '67',\n",
              "  '76',\n",
              "  '86',\n",
              "  '85',\n",
              "  '73',\n",
              "  '59',\n",
              "  '43',\n",
              "  '32'],\n",
              " 'Nebraska': ['32',\n",
              "  '37',\n",
              "  '50',\n",
              "  '63',\n",
              "  '73',\n",
              "  '84',\n",
              "  '88',\n",
              "  '86',\n",
              "  '77',\n",
              "  '64',\n",
              "  '48',\n",
              "  '36'],\n",
              " 'Nevada': ['45',\n",
              "  '50',\n",
              "  '57',\n",
              "  '63',\n",
              "  '71',\n",
              "  '81',\n",
              "  '90',\n",
              "  '88',\n",
              "  '80',\n",
              "  '68',\n",
              "  '54',\n",
              "  '45'],\n",
              " 'New Hampshire': ['31',\n",
              "  '35',\n",
              "  '44',\n",
              "  '57',\n",
              "  '69',\n",
              "  '77',\n",
              "  '82',\n",
              "  '81',\n",
              "  '73',\n",
              "  '60',\n",
              "  '48',\n",
              "  '36'],\n",
              " 'New Jersey': ['39',\n",
              "  '42',\n",
              "  '51',\n",
              "  '62',\n",
              "  '72',\n",
              "  '82',\n",
              "  '86',\n",
              "  '84',\n",
              "  '77',\n",
              "  '65',\n",
              "  '55',\n",
              "  '44'],\n",
              " 'New Mexico': ['44',\n",
              "  '48',\n",
              "  '56',\n",
              "  '65',\n",
              "  '74',\n",
              "  '83',\n",
              "  '86',\n",
              "  '83',\n",
              "  '78',\n",
              "  '67',\n",
              "  '53',\n",
              "  '43'],\n",
              " 'New York': ['39',\n",
              "  '42',\n",
              "  '50',\n",
              "  '60',\n",
              "  '71',\n",
              "  '79',\n",
              "  '85',\n",
              "  '83',\n",
              "  '76',\n",
              "  '65',\n",
              "  '54',\n",
              "  '44'],\n",
              " 'North Carolina': ['51',\n",
              "  '55',\n",
              "  '63',\n",
              "  '72',\n",
              "  '79',\n",
              "  '86',\n",
              "  '89',\n",
              "  '87',\n",
              "  '81',\n",
              "  '72',\n",
              "  '62',\n",
              "  '53'],\n",
              " 'North Dakota': ['23',\n",
              "  '28',\n",
              "  '40',\n",
              "  '57',\n",
              "  '68',\n",
              "  '77',\n",
              "  '85',\n",
              "  '83',\n",
              "  '72',\n",
              "  '58',\n",
              "  '40',\n",
              "  '26'],\n",
              " 'Ohio': ['36',\n",
              "  '40',\n",
              "  '52',\n",
              "  '63',\n",
              "  '73',\n",
              "  '82',\n",
              "  '85',\n",
              "  '84',\n",
              "  '77',\n",
              "  '65',\n",
              "  '52',\n",
              "  '41'],\n",
              " 'Oklahoma': ['50',\n",
              "  '55',\n",
              "  '63',\n",
              "  '72',\n",
              "  '80',\n",
              "  '88',\n",
              "  '94',\n",
              "  '93',\n",
              "  '85',\n",
              "  '73',\n",
              "  '62',\n",
              "  '51'],\n",
              " 'Oregon': ['48',\n",
              "  '52',\n",
              "  '56',\n",
              "  '61',\n",
              "  '68',\n",
              "  '74',\n",
              "  '82',\n",
              "  '82',\n",
              "  '77',\n",
              "  '64',\n",
              "  '53',\n",
              "  '46'],\n",
              " 'Pennsylvania': ['40',\n",
              "  '44',\n",
              "  '53',\n",
              "  '64',\n",
              "  '74',\n",
              "  '83',\n",
              "  '87',\n",
              "  '85',\n",
              "  '78',\n",
              "  '67',\n",
              "  '56',\n",
              "  '45'],\n",
              " 'Puerto Rico': ['82',\n",
              "  '83',\n",
              "  '83',\n",
              "  '85',\n",
              "  '86',\n",
              "  '88',\n",
              "  '87',\n",
              "  '88',\n",
              "  '88',\n",
              "  '87',\n",
              "  '85',\n",
              "  '83'],\n",
              " 'Rhode Island': ['37',\n",
              "  '40',\n",
              "  '48',\n",
              "  '59',\n",
              "  '68',\n",
              "  '78',\n",
              "  '83',\n",
              "  '81',\n",
              "  '74',\n",
              "  '63',\n",
              "  '53',\n",
              "  '42'],\n",
              " 'South Carolina': ['59',\n",
              "  '63',\n",
              "  '70',\n",
              "  '76',\n",
              "  '83',\n",
              "  '88',\n",
              "  '91',\n",
              "  '89',\n",
              "  '85',\n",
              "  '77',\n",
              "  '70',\n",
              "  '62'],\n",
              " 'South Dakota': ['22',\n",
              "  '27',\n",
              "  '39',\n",
              "  '57',\n",
              "  '69',\n",
              "  '78',\n",
              "  '84',\n",
              "  '82',\n",
              "  '72',\n",
              "  '58',\n",
              "  '39',\n",
              "  '25'],\n",
              " 'Tennessee': ['50',\n",
              "  '55',\n",
              "  '64',\n",
              "  '73',\n",
              "  '81',\n",
              "  '89',\n",
              "  '92',\n",
              "  '91',\n",
              "  '85',\n",
              "  '74',\n",
              "  '63',\n",
              "  '52'],\n",
              " 'Texas': ['62',\n",
              "  '65',\n",
              "  '72',\n",
              "  '80',\n",
              "  '87',\n",
              "  '92',\n",
              "  '96',\n",
              "  '97',\n",
              "  '91',\n",
              "  '82',\n",
              "  '71',\n",
              "  '63'],\n",
              " 'Utah': ['38',\n",
              "  '44',\n",
              "  '53',\n",
              "  '61',\n",
              "  '71',\n",
              "  '82',\n",
              "  '90',\n",
              "  '89',\n",
              "  '78',\n",
              "  '65',\n",
              "  '50',\n",
              "  '40'],\n",
              " 'Vermont': ['27',\n",
              "  '31',\n",
              "  '40',\n",
              "  '55',\n",
              "  '67',\n",
              "  '76',\n",
              "  '81',\n",
              "  '79',\n",
              "  '70',\n",
              "  '57',\n",
              "  '46',\n",
              "  '33'],\n",
              " 'Virginia': ['47',\n",
              "  '51',\n",
              "  '60',\n",
              "  '70',\n",
              "  '78',\n",
              "  '86',\n",
              "  '90',\n",
              "  '88',\n",
              "  '81',\n",
              "  '71',\n",
              "  '61',\n",
              "  '51'],\n",
              " 'Washington': ['42',\n",
              "  '44',\n",
              "  '53',\n",
              "  '64',\n",
              "  '75',\n",
              "  '83',\n",
              "  '87',\n",
              "  '84',\n",
              "  '78',\n",
              "  '67',\n",
              "  '55',\n",
              "  '45'],\n",
              " 'West Virginia': ['42',\n",
              "  '47',\n",
              "  '56',\n",
              "  '68',\n",
              "  '75',\n",
              "  '82',\n",
              "  '85',\n",
              "  '84',\n",
              "  '78',\n",
              "  '68',\n",
              "  '57',\n",
              "  '46'],\n",
              " 'Wisconsin': ['29',\n",
              "  '33',\n",
              "  '42',\n",
              "  '54',\n",
              "  '65',\n",
              "  '75',\n",
              "  '80',\n",
              "  '78',\n",
              "  '71',\n",
              "  '59',\n",
              "  '46',\n",
              "  '33'],\n",
              " 'Wyoming': ['40',\n",
              "  '40',\n",
              "  '47',\n",
              "  '55',\n",
              "  '65',\n",
              "  '75',\n",
              "  '83',\n",
              "  '81',\n",
              "  '72',\n",
              "  '59',\n",
              "  '47',\n",
              "  '38']}"
            ]
          },
          "metadata": {},
          "execution_count": 79
        }
      ]
    },
    {
      "cell_type": "code",
      "source": [
        "import pandas as pd"
      ],
      "metadata": {
        "id": "USIPS-Fd5aEp"
      },
      "execution_count": 80,
      "outputs": []
    },
    {
      "cell_type": "code",
      "source": [
        "temps = pd.DataFrame(data).transpose()\n",
        "temps.columns = ['Jan' , 'Feb' , 'Mar' , 'Apr' , 'May' , 'Jun' , 'Jul' , 'Aug' , 'Sep' , 'Oct' , 'Nov' , 'Dec']"
      ],
      "metadata": {
        "id": "HsVa7pX75e2Y"
      },
      "execution_count": 84,
      "outputs": []
    },
    {
      "cell_type": "code",
      "source": [
        "temps"
      ],
      "metadata": {
        "colab": {
          "base_uri": "https://localhost:8080/",
          "height": 1000
        },
        "id": "q8KBArhG6WIH",
        "outputId": "ac2c9053-c0ae-4cfb-a391-cdfee16c9ff7"
      },
      "execution_count": 85,
      "outputs": [
        {
          "output_type": "execute_result",
          "data": {
            "text/plain": [
              "                     Jan Feb Mar Apr May  Jun  Jul  Aug  Sep Oct Nov Dec\n",
              "Alabama               54  58  67  74  82   88   91   91   85  75  65  56\n",
              "Alaska                23  27  34  44  56   63   65   64   55  40  28  25\n",
              "Arizona               67  71  77  85  95  104  106  104  100  89  76  66\n",
              "Arkansas              51  55  64  73  81   89   92   93   86  75  63  52\n",
              "California            54  60  65  71  80   87   92   91   87  78  64  54\n",
              "Colorado              45  46  54  61  72   82   90   88   79  66  52  45\n",
              "Connecticut           37  40  47  58  68   77   82   81   74  63  53  42\n",
              "Delaware              43  47  55  66  75   83   87   85   79  69  58  47\n",
              "District Of Columbia  42  44  53  64  75   83   87   84   78  67  55  45\n",
              "Florida               64  67  74  80  87   91   92   92   88  81  73  65\n",
              "Georgia               52  57  64  72  81   86   90   88   82  73  64  54\n",
              "Hawaii                80  80  81  83  85   87   88   89   89  87  84  81\n",
              "Idaho                 38  45  55  62  72   81   91   90   79  65  48  38\n",
              "Illinois              32  36  46  59  70   81   84   82   75  63  48  36\n",
              "Indiana               35  40  51  63  73   82   85   83   77  65  52  39\n",
              "Iowa                  31  36  49  62  72   82   86   84   76  63  48  34\n",
              "Kansas                40  45  56  67  76   85   89   89   80  68  55  42\n",
              "Kentucky              40  45  55  66  75   83   87   86   79  68  55  44\n",
              "Louisiana             62  65  72  78  85   89   91   91   87  80  72  64\n",
              "Maine                 28  32  40  53  65   74   79   78   70  57  45  33\n",
              "Maryland              42  46  54  65  75   85   89   87   80  68  58  46\n",
              "Massachusetts         36  39  45  56  66   76   81   80   72  61  51  41\n",
              "Michigan              30  33  44  58  69   78   82   80   73  60  47  34\n",
              "Minnesota             26  31  43  58  71   80   85   82   73  59  42  29\n",
              "Mississippi           56  60  69  76  83   89   92   92   87  77  67  58\n",
              "Missouri              40  45  56  67  75   83   88   88   80  69  56  43\n",
              "Montana               33  39  48  58  67   76   86   85   73  59  43  32\n",
              "Nebraska              32  37  50  63  73   84   88   86   77  64  48  36\n",
              "Nevada                45  50  57  63  71   81   90   88   80  68  54  45\n",
              "New Hampshire         31  35  44  57  69   77   82   81   73  60  48  36\n",
              "New Jersey            39  42  51  62  72   82   86   84   77  65  55  44\n",
              "New Mexico            44  48  56  65  74   83   86   83   78  67  53  43\n",
              "New York              39  42  50  60  71   79   85   83   76  65  54  44\n",
              "North Carolina        51  55  63  72  79   86   89   87   81  72  62  53\n",
              "North Dakota          23  28  40  57  68   77   85   83   72  58  40  26\n",
              "Ohio                  36  40  52  63  73   82   85   84   77  65  52  41\n",
              "Oklahoma              50  55  63  72  80   88   94   93   85  73  62  51\n",
              "Oregon                48  52  56  61  68   74   82   82   77  64  53  46\n",
              "Pennsylvania          40  44  53  64  74   83   87   85   78  67  56  45\n",
              "Puerto Rico           82  83  83  85  86   88   87   88   88  87  85  83\n",
              "Rhode Island          37  40  48  59  68   78   83   81   74  63  53  42\n",
              "South Carolina        59  63  70  76  83   88   91   89   85  77  70  62\n",
              "South Dakota          22  27  39  57  69   78   84   82   72  58  39  25\n",
              "Tennessee             50  55  64  73  81   89   92   91   85  74  63  52\n",
              "Texas                 62  65  72  80  87   92   96   97   91  82  71  63\n",
              "Utah                  38  44  53  61  71   82   90   89   78  65  50  40\n",
              "Vermont               27  31  40  55  67   76   81   79   70  57  46  33\n",
              "Virginia              47  51  60  70  78   86   90   88   81  71  61  51\n",
              "Washington            42  44  53  64  75   83   87   84   78  67  55  45\n",
              "West Virginia         42  47  56  68  75   82   85   84   78  68  57  46\n",
              "Wisconsin             29  33  42  54  65   75   80   78   71  59  46  33\n",
              "Wyoming               40  40  47  55  65   75   83   81   72  59  47  38"
            ],
            "text/html": [
              "\n",
              "  <div id=\"df-2284d4bd-a9fe-4fb6-ad28-b7ea777754b9\">\n",
              "    <div class=\"colab-df-container\">\n",
              "      <div>\n",
              "<style scoped>\n",
              "    .dataframe tbody tr th:only-of-type {\n",
              "        vertical-align: middle;\n",
              "    }\n",
              "\n",
              "    .dataframe tbody tr th {\n",
              "        vertical-align: top;\n",
              "    }\n",
              "\n",
              "    .dataframe thead th {\n",
              "        text-align: right;\n",
              "    }\n",
              "</style>\n",
              "<table border=\"1\" class=\"dataframe\">\n",
              "  <thead>\n",
              "    <tr style=\"text-align: right;\">\n",
              "      <th></th>\n",
              "      <th>Jan</th>\n",
              "      <th>Feb</th>\n",
              "      <th>Mar</th>\n",
              "      <th>Apr</th>\n",
              "      <th>May</th>\n",
              "      <th>Jun</th>\n",
              "      <th>Jul</th>\n",
              "      <th>Aug</th>\n",
              "      <th>Sep</th>\n",
              "      <th>Oct</th>\n",
              "      <th>Nov</th>\n",
              "      <th>Dec</th>\n",
              "    </tr>\n",
              "  </thead>\n",
              "  <tbody>\n",
              "    <tr>\n",
              "      <th>Alabama</th>\n",
              "      <td>54</td>\n",
              "      <td>58</td>\n",
              "      <td>67</td>\n",
              "      <td>74</td>\n",
              "      <td>82</td>\n",
              "      <td>88</td>\n",
              "      <td>91</td>\n",
              "      <td>91</td>\n",
              "      <td>85</td>\n",
              "      <td>75</td>\n",
              "      <td>65</td>\n",
              "      <td>56</td>\n",
              "    </tr>\n",
              "    <tr>\n",
              "      <th>Alaska</th>\n",
              "      <td>23</td>\n",
              "      <td>27</td>\n",
              "      <td>34</td>\n",
              "      <td>44</td>\n",
              "      <td>56</td>\n",
              "      <td>63</td>\n",
              "      <td>65</td>\n",
              "      <td>64</td>\n",
              "      <td>55</td>\n",
              "      <td>40</td>\n",
              "      <td>28</td>\n",
              "      <td>25</td>\n",
              "    </tr>\n",
              "    <tr>\n",
              "      <th>Arizona</th>\n",
              "      <td>67</td>\n",
              "      <td>71</td>\n",
              "      <td>77</td>\n",
              "      <td>85</td>\n",
              "      <td>95</td>\n",
              "      <td>104</td>\n",
              "      <td>106</td>\n",
              "      <td>104</td>\n",
              "      <td>100</td>\n",
              "      <td>89</td>\n",
              "      <td>76</td>\n",
              "      <td>66</td>\n",
              "    </tr>\n",
              "    <tr>\n",
              "      <th>Arkansas</th>\n",
              "      <td>51</td>\n",
              "      <td>55</td>\n",
              "      <td>64</td>\n",
              "      <td>73</td>\n",
              "      <td>81</td>\n",
              "      <td>89</td>\n",
              "      <td>92</td>\n",
              "      <td>93</td>\n",
              "      <td>86</td>\n",
              "      <td>75</td>\n",
              "      <td>63</td>\n",
              "      <td>52</td>\n",
              "    </tr>\n",
              "    <tr>\n",
              "      <th>California</th>\n",
              "      <td>54</td>\n",
              "      <td>60</td>\n",
              "      <td>65</td>\n",
              "      <td>71</td>\n",
              "      <td>80</td>\n",
              "      <td>87</td>\n",
              "      <td>92</td>\n",
              "      <td>91</td>\n",
              "      <td>87</td>\n",
              "      <td>78</td>\n",
              "      <td>64</td>\n",
              "      <td>54</td>\n",
              "    </tr>\n",
              "    <tr>\n",
              "      <th>Colorado</th>\n",
              "      <td>45</td>\n",
              "      <td>46</td>\n",
              "      <td>54</td>\n",
              "      <td>61</td>\n",
              "      <td>72</td>\n",
              "      <td>82</td>\n",
              "      <td>90</td>\n",
              "      <td>88</td>\n",
              "      <td>79</td>\n",
              "      <td>66</td>\n",
              "      <td>52</td>\n",
              "      <td>45</td>\n",
              "    </tr>\n",
              "    <tr>\n",
              "      <th>Connecticut</th>\n",
              "      <td>37</td>\n",
              "      <td>40</td>\n",
              "      <td>47</td>\n",
              "      <td>58</td>\n",
              "      <td>68</td>\n",
              "      <td>77</td>\n",
              "      <td>82</td>\n",
              "      <td>81</td>\n",
              "      <td>74</td>\n",
              "      <td>63</td>\n",
              "      <td>53</td>\n",
              "      <td>42</td>\n",
              "    </tr>\n",
              "    <tr>\n",
              "      <th>Delaware</th>\n",
              "      <td>43</td>\n",
              "      <td>47</td>\n",
              "      <td>55</td>\n",
              "      <td>66</td>\n",
              "      <td>75</td>\n",
              "      <td>83</td>\n",
              "      <td>87</td>\n",
              "      <td>85</td>\n",
              "      <td>79</td>\n",
              "      <td>69</td>\n",
              "      <td>58</td>\n",
              "      <td>47</td>\n",
              "    </tr>\n",
              "    <tr>\n",
              "      <th>District Of Columbia</th>\n",
              "      <td>42</td>\n",
              "      <td>44</td>\n",
              "      <td>53</td>\n",
              "      <td>64</td>\n",
              "      <td>75</td>\n",
              "      <td>83</td>\n",
              "      <td>87</td>\n",
              "      <td>84</td>\n",
              "      <td>78</td>\n",
              "      <td>67</td>\n",
              "      <td>55</td>\n",
              "      <td>45</td>\n",
              "    </tr>\n",
              "    <tr>\n",
              "      <th>Florida</th>\n",
              "      <td>64</td>\n",
              "      <td>67</td>\n",
              "      <td>74</td>\n",
              "      <td>80</td>\n",
              "      <td>87</td>\n",
              "      <td>91</td>\n",
              "      <td>92</td>\n",
              "      <td>92</td>\n",
              "      <td>88</td>\n",
              "      <td>81</td>\n",
              "      <td>73</td>\n",
              "      <td>65</td>\n",
              "    </tr>\n",
              "    <tr>\n",
              "      <th>Georgia</th>\n",
              "      <td>52</td>\n",
              "      <td>57</td>\n",
              "      <td>64</td>\n",
              "      <td>72</td>\n",
              "      <td>81</td>\n",
              "      <td>86</td>\n",
              "      <td>90</td>\n",
              "      <td>88</td>\n",
              "      <td>82</td>\n",
              "      <td>73</td>\n",
              "      <td>64</td>\n",
              "      <td>54</td>\n",
              "    </tr>\n",
              "    <tr>\n",
              "      <th>Hawaii</th>\n",
              "      <td>80</td>\n",
              "      <td>80</td>\n",
              "      <td>81</td>\n",
              "      <td>83</td>\n",
              "      <td>85</td>\n",
              "      <td>87</td>\n",
              "      <td>88</td>\n",
              "      <td>89</td>\n",
              "      <td>89</td>\n",
              "      <td>87</td>\n",
              "      <td>84</td>\n",
              "      <td>81</td>\n",
              "    </tr>\n",
              "    <tr>\n",
              "      <th>Idaho</th>\n",
              "      <td>38</td>\n",
              "      <td>45</td>\n",
              "      <td>55</td>\n",
              "      <td>62</td>\n",
              "      <td>72</td>\n",
              "      <td>81</td>\n",
              "      <td>91</td>\n",
              "      <td>90</td>\n",
              "      <td>79</td>\n",
              "      <td>65</td>\n",
              "      <td>48</td>\n",
              "      <td>38</td>\n",
              "    </tr>\n",
              "    <tr>\n",
              "      <th>Illinois</th>\n",
              "      <td>32</td>\n",
              "      <td>36</td>\n",
              "      <td>46</td>\n",
              "      <td>59</td>\n",
              "      <td>70</td>\n",
              "      <td>81</td>\n",
              "      <td>84</td>\n",
              "      <td>82</td>\n",
              "      <td>75</td>\n",
              "      <td>63</td>\n",
              "      <td>48</td>\n",
              "      <td>36</td>\n",
              "    </tr>\n",
              "    <tr>\n",
              "      <th>Indiana</th>\n",
              "      <td>35</td>\n",
              "      <td>40</td>\n",
              "      <td>51</td>\n",
              "      <td>63</td>\n",
              "      <td>73</td>\n",
              "      <td>82</td>\n",
              "      <td>85</td>\n",
              "      <td>83</td>\n",
              "      <td>77</td>\n",
              "      <td>65</td>\n",
              "      <td>52</td>\n",
              "      <td>39</td>\n",
              "    </tr>\n",
              "    <tr>\n",
              "      <th>Iowa</th>\n",
              "      <td>31</td>\n",
              "      <td>36</td>\n",
              "      <td>49</td>\n",
              "      <td>62</td>\n",
              "      <td>72</td>\n",
              "      <td>82</td>\n",
              "      <td>86</td>\n",
              "      <td>84</td>\n",
              "      <td>76</td>\n",
              "      <td>63</td>\n",
              "      <td>48</td>\n",
              "      <td>34</td>\n",
              "    </tr>\n",
              "    <tr>\n",
              "      <th>Kansas</th>\n",
              "      <td>40</td>\n",
              "      <td>45</td>\n",
              "      <td>56</td>\n",
              "      <td>67</td>\n",
              "      <td>76</td>\n",
              "      <td>85</td>\n",
              "      <td>89</td>\n",
              "      <td>89</td>\n",
              "      <td>80</td>\n",
              "      <td>68</td>\n",
              "      <td>55</td>\n",
              "      <td>42</td>\n",
              "    </tr>\n",
              "    <tr>\n",
              "      <th>Kentucky</th>\n",
              "      <td>40</td>\n",
              "      <td>45</td>\n",
              "      <td>55</td>\n",
              "      <td>66</td>\n",
              "      <td>75</td>\n",
              "      <td>83</td>\n",
              "      <td>87</td>\n",
              "      <td>86</td>\n",
              "      <td>79</td>\n",
              "      <td>68</td>\n",
              "      <td>55</td>\n",
              "      <td>44</td>\n",
              "    </tr>\n",
              "    <tr>\n",
              "      <th>Louisiana</th>\n",
              "      <td>62</td>\n",
              "      <td>65</td>\n",
              "      <td>72</td>\n",
              "      <td>78</td>\n",
              "      <td>85</td>\n",
              "      <td>89</td>\n",
              "      <td>91</td>\n",
              "      <td>91</td>\n",
              "      <td>87</td>\n",
              "      <td>80</td>\n",
              "      <td>72</td>\n",
              "      <td>64</td>\n",
              "    </tr>\n",
              "    <tr>\n",
              "      <th>Maine</th>\n",
              "      <td>28</td>\n",
              "      <td>32</td>\n",
              "      <td>40</td>\n",
              "      <td>53</td>\n",
              "      <td>65</td>\n",
              "      <td>74</td>\n",
              "      <td>79</td>\n",
              "      <td>78</td>\n",
              "      <td>70</td>\n",
              "      <td>57</td>\n",
              "      <td>45</td>\n",
              "      <td>33</td>\n",
              "    </tr>\n",
              "    <tr>\n",
              "      <th>Maryland</th>\n",
              "      <td>42</td>\n",
              "      <td>46</td>\n",
              "      <td>54</td>\n",
              "      <td>65</td>\n",
              "      <td>75</td>\n",
              "      <td>85</td>\n",
              "      <td>89</td>\n",
              "      <td>87</td>\n",
              "      <td>80</td>\n",
              "      <td>68</td>\n",
              "      <td>58</td>\n",
              "      <td>46</td>\n",
              "    </tr>\n",
              "    <tr>\n",
              "      <th>Massachusetts</th>\n",
              "      <td>36</td>\n",
              "      <td>39</td>\n",
              "      <td>45</td>\n",
              "      <td>56</td>\n",
              "      <td>66</td>\n",
              "      <td>76</td>\n",
              "      <td>81</td>\n",
              "      <td>80</td>\n",
              "      <td>72</td>\n",
              "      <td>61</td>\n",
              "      <td>51</td>\n",
              "      <td>41</td>\n",
              "    </tr>\n",
              "    <tr>\n",
              "      <th>Michigan</th>\n",
              "      <td>30</td>\n",
              "      <td>33</td>\n",
              "      <td>44</td>\n",
              "      <td>58</td>\n",
              "      <td>69</td>\n",
              "      <td>78</td>\n",
              "      <td>82</td>\n",
              "      <td>80</td>\n",
              "      <td>73</td>\n",
              "      <td>60</td>\n",
              "      <td>47</td>\n",
              "      <td>34</td>\n",
              "    </tr>\n",
              "    <tr>\n",
              "      <th>Minnesota</th>\n",
              "      <td>26</td>\n",
              "      <td>31</td>\n",
              "      <td>43</td>\n",
              "      <td>58</td>\n",
              "      <td>71</td>\n",
              "      <td>80</td>\n",
              "      <td>85</td>\n",
              "      <td>82</td>\n",
              "      <td>73</td>\n",
              "      <td>59</td>\n",
              "      <td>42</td>\n",
              "      <td>29</td>\n",
              "    </tr>\n",
              "    <tr>\n",
              "      <th>Mississippi</th>\n",
              "      <td>56</td>\n",
              "      <td>60</td>\n",
              "      <td>69</td>\n",
              "      <td>76</td>\n",
              "      <td>83</td>\n",
              "      <td>89</td>\n",
              "      <td>92</td>\n",
              "      <td>92</td>\n",
              "      <td>87</td>\n",
              "      <td>77</td>\n",
              "      <td>67</td>\n",
              "      <td>58</td>\n",
              "    </tr>\n",
              "    <tr>\n",
              "      <th>Missouri</th>\n",
              "      <td>40</td>\n",
              "      <td>45</td>\n",
              "      <td>56</td>\n",
              "      <td>67</td>\n",
              "      <td>75</td>\n",
              "      <td>83</td>\n",
              "      <td>88</td>\n",
              "      <td>88</td>\n",
              "      <td>80</td>\n",
              "      <td>69</td>\n",
              "      <td>56</td>\n",
              "      <td>43</td>\n",
              "    </tr>\n",
              "    <tr>\n",
              "      <th>Montana</th>\n",
              "      <td>33</td>\n",
              "      <td>39</td>\n",
              "      <td>48</td>\n",
              "      <td>58</td>\n",
              "      <td>67</td>\n",
              "      <td>76</td>\n",
              "      <td>86</td>\n",
              "      <td>85</td>\n",
              "      <td>73</td>\n",
              "      <td>59</td>\n",
              "      <td>43</td>\n",
              "      <td>32</td>\n",
              "    </tr>\n",
              "    <tr>\n",
              "      <th>Nebraska</th>\n",
              "      <td>32</td>\n",
              "      <td>37</td>\n",
              "      <td>50</td>\n",
              "      <td>63</td>\n",
              "      <td>73</td>\n",
              "      <td>84</td>\n",
              "      <td>88</td>\n",
              "      <td>86</td>\n",
              "      <td>77</td>\n",
              "      <td>64</td>\n",
              "      <td>48</td>\n",
              "      <td>36</td>\n",
              "    </tr>\n",
              "    <tr>\n",
              "      <th>Nevada</th>\n",
              "      <td>45</td>\n",
              "      <td>50</td>\n",
              "      <td>57</td>\n",
              "      <td>63</td>\n",
              "      <td>71</td>\n",
              "      <td>81</td>\n",
              "      <td>90</td>\n",
              "      <td>88</td>\n",
              "      <td>80</td>\n",
              "      <td>68</td>\n",
              "      <td>54</td>\n",
              "      <td>45</td>\n",
              "    </tr>\n",
              "    <tr>\n",
              "      <th>New Hampshire</th>\n",
              "      <td>31</td>\n",
              "      <td>35</td>\n",
              "      <td>44</td>\n",
              "      <td>57</td>\n",
              "      <td>69</td>\n",
              "      <td>77</td>\n",
              "      <td>82</td>\n",
              "      <td>81</td>\n",
              "      <td>73</td>\n",
              "      <td>60</td>\n",
              "      <td>48</td>\n",
              "      <td>36</td>\n",
              "    </tr>\n",
              "    <tr>\n",
              "      <th>New Jersey</th>\n",
              "      <td>39</td>\n",
              "      <td>42</td>\n",
              "      <td>51</td>\n",
              "      <td>62</td>\n",
              "      <td>72</td>\n",
              "      <td>82</td>\n",
              "      <td>86</td>\n",
              "      <td>84</td>\n",
              "      <td>77</td>\n",
              "      <td>65</td>\n",
              "      <td>55</td>\n",
              "      <td>44</td>\n",
              "    </tr>\n",
              "    <tr>\n",
              "      <th>New Mexico</th>\n",
              "      <td>44</td>\n",
              "      <td>48</td>\n",
              "      <td>56</td>\n",
              "      <td>65</td>\n",
              "      <td>74</td>\n",
              "      <td>83</td>\n",
              "      <td>86</td>\n",
              "      <td>83</td>\n",
              "      <td>78</td>\n",
              "      <td>67</td>\n",
              "      <td>53</td>\n",
              "      <td>43</td>\n",
              "    </tr>\n",
              "    <tr>\n",
              "      <th>New York</th>\n",
              "      <td>39</td>\n",
              "      <td>42</td>\n",
              "      <td>50</td>\n",
              "      <td>60</td>\n",
              "      <td>71</td>\n",
              "      <td>79</td>\n",
              "      <td>85</td>\n",
              "      <td>83</td>\n",
              "      <td>76</td>\n",
              "      <td>65</td>\n",
              "      <td>54</td>\n",
              "      <td>44</td>\n",
              "    </tr>\n",
              "    <tr>\n",
              "      <th>North Carolina</th>\n",
              "      <td>51</td>\n",
              "      <td>55</td>\n",
              "      <td>63</td>\n",
              "      <td>72</td>\n",
              "      <td>79</td>\n",
              "      <td>86</td>\n",
              "      <td>89</td>\n",
              "      <td>87</td>\n",
              "      <td>81</td>\n",
              "      <td>72</td>\n",
              "      <td>62</td>\n",
              "      <td>53</td>\n",
              "    </tr>\n",
              "    <tr>\n",
              "      <th>North Dakota</th>\n",
              "      <td>23</td>\n",
              "      <td>28</td>\n",
              "      <td>40</td>\n",
              "      <td>57</td>\n",
              "      <td>68</td>\n",
              "      <td>77</td>\n",
              "      <td>85</td>\n",
              "      <td>83</td>\n",
              "      <td>72</td>\n",
              "      <td>58</td>\n",
              "      <td>40</td>\n",
              "      <td>26</td>\n",
              "    </tr>\n",
              "    <tr>\n",
              "      <th>Ohio</th>\n",
              "      <td>36</td>\n",
              "      <td>40</td>\n",
              "      <td>52</td>\n",
              "      <td>63</td>\n",
              "      <td>73</td>\n",
              "      <td>82</td>\n",
              "      <td>85</td>\n",
              "      <td>84</td>\n",
              "      <td>77</td>\n",
              "      <td>65</td>\n",
              "      <td>52</td>\n",
              "      <td>41</td>\n",
              "    </tr>\n",
              "    <tr>\n",
              "      <th>Oklahoma</th>\n",
              "      <td>50</td>\n",
              "      <td>55</td>\n",
              "      <td>63</td>\n",
              "      <td>72</td>\n",
              "      <td>80</td>\n",
              "      <td>88</td>\n",
              "      <td>94</td>\n",
              "      <td>93</td>\n",
              "      <td>85</td>\n",
              "      <td>73</td>\n",
              "      <td>62</td>\n",
              "      <td>51</td>\n",
              "    </tr>\n",
              "    <tr>\n",
              "      <th>Oregon</th>\n",
              "      <td>48</td>\n",
              "      <td>52</td>\n",
              "      <td>56</td>\n",
              "      <td>61</td>\n",
              "      <td>68</td>\n",
              "      <td>74</td>\n",
              "      <td>82</td>\n",
              "      <td>82</td>\n",
              "      <td>77</td>\n",
              "      <td>64</td>\n",
              "      <td>53</td>\n",
              "      <td>46</td>\n",
              "    </tr>\n",
              "    <tr>\n",
              "      <th>Pennsylvania</th>\n",
              "      <td>40</td>\n",
              "      <td>44</td>\n",
              "      <td>53</td>\n",
              "      <td>64</td>\n",
              "      <td>74</td>\n",
              "      <td>83</td>\n",
              "      <td>87</td>\n",
              "      <td>85</td>\n",
              "      <td>78</td>\n",
              "      <td>67</td>\n",
              "      <td>56</td>\n",
              "      <td>45</td>\n",
              "    </tr>\n",
              "    <tr>\n",
              "      <th>Puerto Rico</th>\n",
              "      <td>82</td>\n",
              "      <td>83</td>\n",
              "      <td>83</td>\n",
              "      <td>85</td>\n",
              "      <td>86</td>\n",
              "      <td>88</td>\n",
              "      <td>87</td>\n",
              "      <td>88</td>\n",
              "      <td>88</td>\n",
              "      <td>87</td>\n",
              "      <td>85</td>\n",
              "      <td>83</td>\n",
              "    </tr>\n",
              "    <tr>\n",
              "      <th>Rhode Island</th>\n",
              "      <td>37</td>\n",
              "      <td>40</td>\n",
              "      <td>48</td>\n",
              "      <td>59</td>\n",
              "      <td>68</td>\n",
              "      <td>78</td>\n",
              "      <td>83</td>\n",
              "      <td>81</td>\n",
              "      <td>74</td>\n",
              "      <td>63</td>\n",
              "      <td>53</td>\n",
              "      <td>42</td>\n",
              "    </tr>\n",
              "    <tr>\n",
              "      <th>South Carolina</th>\n",
              "      <td>59</td>\n",
              "      <td>63</td>\n",
              "      <td>70</td>\n",
              "      <td>76</td>\n",
              "      <td>83</td>\n",
              "      <td>88</td>\n",
              "      <td>91</td>\n",
              "      <td>89</td>\n",
              "      <td>85</td>\n",
              "      <td>77</td>\n",
              "      <td>70</td>\n",
              "      <td>62</td>\n",
              "    </tr>\n",
              "    <tr>\n",
              "      <th>South Dakota</th>\n",
              "      <td>22</td>\n",
              "      <td>27</td>\n",
              "      <td>39</td>\n",
              "      <td>57</td>\n",
              "      <td>69</td>\n",
              "      <td>78</td>\n",
              "      <td>84</td>\n",
              "      <td>82</td>\n",
              "      <td>72</td>\n",
              "      <td>58</td>\n",
              "      <td>39</td>\n",
              "      <td>25</td>\n",
              "    </tr>\n",
              "    <tr>\n",
              "      <th>Tennessee</th>\n",
              "      <td>50</td>\n",
              "      <td>55</td>\n",
              "      <td>64</td>\n",
              "      <td>73</td>\n",
              "      <td>81</td>\n",
              "      <td>89</td>\n",
              "      <td>92</td>\n",
              "      <td>91</td>\n",
              "      <td>85</td>\n",
              "      <td>74</td>\n",
              "      <td>63</td>\n",
              "      <td>52</td>\n",
              "    </tr>\n",
              "    <tr>\n",
              "      <th>Texas</th>\n",
              "      <td>62</td>\n",
              "      <td>65</td>\n",
              "      <td>72</td>\n",
              "      <td>80</td>\n",
              "      <td>87</td>\n",
              "      <td>92</td>\n",
              "      <td>96</td>\n",
              "      <td>97</td>\n",
              "      <td>91</td>\n",
              "      <td>82</td>\n",
              "      <td>71</td>\n",
              "      <td>63</td>\n",
              "    </tr>\n",
              "    <tr>\n",
              "      <th>Utah</th>\n",
              "      <td>38</td>\n",
              "      <td>44</td>\n",
              "      <td>53</td>\n",
              "      <td>61</td>\n",
              "      <td>71</td>\n",
              "      <td>82</td>\n",
              "      <td>90</td>\n",
              "      <td>89</td>\n",
              "      <td>78</td>\n",
              "      <td>65</td>\n",
              "      <td>50</td>\n",
              "      <td>40</td>\n",
              "    </tr>\n",
              "    <tr>\n",
              "      <th>Vermont</th>\n",
              "      <td>27</td>\n",
              "      <td>31</td>\n",
              "      <td>40</td>\n",
              "      <td>55</td>\n",
              "      <td>67</td>\n",
              "      <td>76</td>\n",
              "      <td>81</td>\n",
              "      <td>79</td>\n",
              "      <td>70</td>\n",
              "      <td>57</td>\n",
              "      <td>46</td>\n",
              "      <td>33</td>\n",
              "    </tr>\n",
              "    <tr>\n",
              "      <th>Virginia</th>\n",
              "      <td>47</td>\n",
              "      <td>51</td>\n",
              "      <td>60</td>\n",
              "      <td>70</td>\n",
              "      <td>78</td>\n",
              "      <td>86</td>\n",
              "      <td>90</td>\n",
              "      <td>88</td>\n",
              "      <td>81</td>\n",
              "      <td>71</td>\n",
              "      <td>61</td>\n",
              "      <td>51</td>\n",
              "    </tr>\n",
              "    <tr>\n",
              "      <th>Washington</th>\n",
              "      <td>42</td>\n",
              "      <td>44</td>\n",
              "      <td>53</td>\n",
              "      <td>64</td>\n",
              "      <td>75</td>\n",
              "      <td>83</td>\n",
              "      <td>87</td>\n",
              "      <td>84</td>\n",
              "      <td>78</td>\n",
              "      <td>67</td>\n",
              "      <td>55</td>\n",
              "      <td>45</td>\n",
              "    </tr>\n",
              "    <tr>\n",
              "      <th>West Virginia</th>\n",
              "      <td>42</td>\n",
              "      <td>47</td>\n",
              "      <td>56</td>\n",
              "      <td>68</td>\n",
              "      <td>75</td>\n",
              "      <td>82</td>\n",
              "      <td>85</td>\n",
              "      <td>84</td>\n",
              "      <td>78</td>\n",
              "      <td>68</td>\n",
              "      <td>57</td>\n",
              "      <td>46</td>\n",
              "    </tr>\n",
              "    <tr>\n",
              "      <th>Wisconsin</th>\n",
              "      <td>29</td>\n",
              "      <td>33</td>\n",
              "      <td>42</td>\n",
              "      <td>54</td>\n",
              "      <td>65</td>\n",
              "      <td>75</td>\n",
              "      <td>80</td>\n",
              "      <td>78</td>\n",
              "      <td>71</td>\n",
              "      <td>59</td>\n",
              "      <td>46</td>\n",
              "      <td>33</td>\n",
              "    </tr>\n",
              "    <tr>\n",
              "      <th>Wyoming</th>\n",
              "      <td>40</td>\n",
              "      <td>40</td>\n",
              "      <td>47</td>\n",
              "      <td>55</td>\n",
              "      <td>65</td>\n",
              "      <td>75</td>\n",
              "      <td>83</td>\n",
              "      <td>81</td>\n",
              "      <td>72</td>\n",
              "      <td>59</td>\n",
              "      <td>47</td>\n",
              "      <td>38</td>\n",
              "    </tr>\n",
              "  </tbody>\n",
              "</table>\n",
              "</div>\n",
              "      <button class=\"colab-df-convert\" onclick=\"convertToInteractive('df-2284d4bd-a9fe-4fb6-ad28-b7ea777754b9')\"\n",
              "              title=\"Convert this dataframe to an interactive table.\"\n",
              "              style=\"display:none;\">\n",
              "        \n",
              "  <svg xmlns=\"http://www.w3.org/2000/svg\" height=\"24px\"viewBox=\"0 0 24 24\"\n",
              "       width=\"24px\">\n",
              "    <path d=\"M0 0h24v24H0V0z\" fill=\"none\"/>\n",
              "    <path d=\"M18.56 5.44l.94 2.06.94-2.06 2.06-.94-2.06-.94-.94-2.06-.94 2.06-2.06.94zm-11 1L8.5 8.5l.94-2.06 2.06-.94-2.06-.94L8.5 2.5l-.94 2.06-2.06.94zm10 10l.94 2.06.94-2.06 2.06-.94-2.06-.94-.94-2.06-.94 2.06-2.06.94z\"/><path d=\"M17.41 7.96l-1.37-1.37c-.4-.4-.92-.59-1.43-.59-.52 0-1.04.2-1.43.59L10.3 9.45l-7.72 7.72c-.78.78-.78 2.05 0 2.83L4 21.41c.39.39.9.59 1.41.59.51 0 1.02-.2 1.41-.59l7.78-7.78 2.81-2.81c.8-.78.8-2.07 0-2.86zM5.41 20L4 18.59l7.72-7.72 1.47 1.35L5.41 20z\"/>\n",
              "  </svg>\n",
              "      </button>\n",
              "      \n",
              "  <style>\n",
              "    .colab-df-container {\n",
              "      display:flex;\n",
              "      flex-wrap:wrap;\n",
              "      gap: 12px;\n",
              "    }\n",
              "\n",
              "    .colab-df-convert {\n",
              "      background-color: #E8F0FE;\n",
              "      border: none;\n",
              "      border-radius: 50%;\n",
              "      cursor: pointer;\n",
              "      display: none;\n",
              "      fill: #1967D2;\n",
              "      height: 32px;\n",
              "      padding: 0 0 0 0;\n",
              "      width: 32px;\n",
              "    }\n",
              "\n",
              "    .colab-df-convert:hover {\n",
              "      background-color: #E2EBFA;\n",
              "      box-shadow: 0px 1px 2px rgba(60, 64, 67, 0.3), 0px 1px 3px 1px rgba(60, 64, 67, 0.15);\n",
              "      fill: #174EA6;\n",
              "    }\n",
              "\n",
              "    [theme=dark] .colab-df-convert {\n",
              "      background-color: #3B4455;\n",
              "      fill: #D2E3FC;\n",
              "    }\n",
              "\n",
              "    [theme=dark] .colab-df-convert:hover {\n",
              "      background-color: #434B5C;\n",
              "      box-shadow: 0px 1px 3px 1px rgba(0, 0, 0, 0.15);\n",
              "      filter: drop-shadow(0px 1px 2px rgba(0, 0, 0, 0.3));\n",
              "      fill: #FFFFFF;\n",
              "    }\n",
              "  </style>\n",
              "\n",
              "      <script>\n",
              "        const buttonEl =\n",
              "          document.querySelector('#df-2284d4bd-a9fe-4fb6-ad28-b7ea777754b9 button.colab-df-convert');\n",
              "        buttonEl.style.display =\n",
              "          google.colab.kernel.accessAllowed ? 'block' : 'none';\n",
              "\n",
              "        async function convertToInteractive(key) {\n",
              "          const element = document.querySelector('#df-2284d4bd-a9fe-4fb6-ad28-b7ea777754b9');\n",
              "          const dataTable =\n",
              "            await google.colab.kernel.invokeFunction('convertToInteractive',\n",
              "                                                     [key], {});\n",
              "          if (!dataTable) return;\n",
              "\n",
              "          const docLinkHtml = 'Like what you see? Visit the ' +\n",
              "            '<a target=\"_blank\" href=https://colab.research.google.com/notebooks/data_table.ipynb>data table notebook</a>'\n",
              "            + ' to learn more about interactive tables.';\n",
              "          element.innerHTML = '';\n",
              "          dataTable['output_type'] = 'display_data';\n",
              "          await google.colab.output.renderOutput(dataTable, element);\n",
              "          const docLink = document.createElement('div');\n",
              "          docLink.innerHTML = docLinkHtml;\n",
              "          element.appendChild(docLink);\n",
              "        }\n",
              "      </script>\n",
              "    </div>\n",
              "  </div>\n",
              "  "
            ]
          },
          "metadata": {},
          "execution_count": 85
        }
      ]
    },
    {
      "cell_type": "code",
      "source": [
        "import seaborn as sns\n",
        "from matplotlib import rcParams\n",
        "\n",
        "#Figure size in inches\n",
        "import matplotlib.pyplot as plt\n",
        "\n",
        "#plt.figure(figsize=(10,10))\n",
        "rcParams['figure.figsize'] = 8,20\n",
        "sns.heatmap(temps.apply(pd.to_numeric))\n"
      ],
      "metadata": {
        "colab": {
          "base_uri": "https://localhost:8080/",
          "height": 1000
        },
        "id": "xtg5G0RP6s81",
        "outputId": "b43197c6-44ed-4de4-af75-bb2c753fa1a4"
      },
      "execution_count": 92,
      "outputs": [
        {
          "output_type": "execute_result",
          "data": {
            "text/plain": [
              "<matplotlib.axes._subplots.AxesSubplot at 0x7f39d06019d0>"
            ]
          },
          "metadata": {},
          "execution_count": 92
        },
        {
          "output_type": "display_data",
          "data": {
            "text/plain": [
              "<Figure size 576x1440 with 2 Axes>"
            ],
            "image/png": "[encoded data removed]"
          },
          "metadata": {
            "needs_background": "light"
          }
        }
      ]
    }
  ]
}